{
 "cells": [
  {
   "cell_type": "code",
   "execution_count": 1,
   "metadata": {},
   "outputs": [],
   "source": [
    "import matplotlib.pyplot as plt\n",
    "import numpy as np\n",
    "import pandas as pd\n",
    "import importlib\n",
    "import shap\n",
    "import time\n",
    "\n",
    "import sys\n",
    "sys.path.insert(1, r'C:\\Users\\jv97\\Desktop\\github\\Neutrino-Machine-Learning')\n",
    "\n",
    "import FunctionCollection as fc\n",
    "fc = importlib.reload(fc)\n",
    "import os\n",
    "import sqlite3\n",
    "import torch\n",
    "import captum.attr as c"
   ]
  },
  {
   "cell_type": "code",
   "execution_count": 2,
   "metadata": {},
   "outputs": [],
   "source": [
    "path = r'C:\\Users\\jv97\\Desktop\\github\\Neutrino-Machine-Learning'\n",
    "\n",
    "run_name = 'OscNext_Angle_m27_2xPvM'\n",
    "\n",
    "args = {'N_edge_feats': 6,\n",
    "        'N_dom_feats': 7,\n",
    "        'N_targets': 2,\n",
    "        'N_outputs': 4,\n",
    "        'N_metalayers': 2,\n",
    "        'N_hcs': 64,\n",
    "        'diagonal_cov': True,\n",
    "        'wandb_activated': False,\n",
    "        'type': 'Spherical_NLLH',\n",
    "        'zenith': True,\n",
    "        'id': 'sylf',#wandb.util.generate_id()[:4],\n",
    "        'eps': 1e-5,\n",
    "        'output_offset': [3.14,1.57],\n",
    "        'lr': 0.0209,\n",
    "        'filename': 'dev_lvl7_mu_nu_e_classification_v003_unscaled.db',#dev_level7_mu_e_tau_oscweight_000.db #rasmus_classification_muon_3neutrino_3mio.db #dev_level7_oscNext_IC86_003.db\n",
    "        'features': 'width, rqe, charge_log10, dom_time, dom_x, dom_y, dom_z',\n",
    "        'targets': 'event_no, azimuth, zenith, azimuth_retro, zenith_retro, azimuth_sigma, zenith_sigma, energy_log10, pid, elasticity',\n",
    "        'TrTV': (0,1,1)\n",
    "       }"
   ]
  },
  {
   "cell_type": "code",
   "execution_count": 3,
   "metadata": {},
   "outputs": [],
   "source": [
    "event_nos = pd.read_csv('samples/explain_event_nos.csv')"
   ]
  },
  {
   "cell_type": "code",
   "execution_count": 10,
   "metadata": {},
   "outputs": [
    {
     "data": {
      "text/plain": [
       "165840"
      ]
     },
     "execution_count": 10,
     "metadata": {},
     "output_type": "execute_result"
    }
   ],
   "source": [
    "event_nos.__len__()"
   ]
  },
  {
   "cell_type": "code",
   "execution_count": 4,
   "metadata": {},
   "outputs": [],
   "source": [
    "filepath = os.path.join(path,'raw_data')\n",
    "\n",
    "centers = pd.DataFrame({'charge_log10': [-0.033858],\n",
    "                        'dom_time': [10700.0],\n",
    "                        'dom_x': [0],\n",
    "                        'dom_y': [0],\n",
    "                        'dom_z': [0],\n",
    "                        'width': [4.5],\n",
    "                        'rqe': [1.175]})\n",
    "scalers = pd.DataFrame({'charge_log10': [0.274158],\n",
    "                        'dom_time': [2699.0],\n",
    "                        'dom_x': [300],\n",
    "                        'dom_y': [300],\n",
    "                        'dom_z': [300],\n",
    "                        'width': [3.5],\n",
    "                        'rqe': [0.175]})\n",
    "\n",
    "centers = centers[args['features'].split(', ')].values\n",
    "scalers = scalers[args['features'].split(', ')].values\n",
    "\n",
    "def x_transform(df):\n",
    "    df = (df - centers)/scalers\n",
    "    return torch.tensor(df.values)\n",
    "\n",
    "def y_transform(df):\n",
    "    return torch.tensor(df.values)\n",
    "\n",
    "dataset = fc.custom_db_dataset(filepath = filepath,\n",
    "                               filename = args['filename'],\n",
    "                               features = args['features'],\n",
    "                               targets = args['targets'],\n",
    "                               TrTV = args['TrTV'],\n",
    "                               event_nos = event_nos.values[:,-1],\n",
    "                               x_transform = x_transform,\n",
    "                               y_transform = y_transform,\n",
    "                               shuffle = False)"
   ]
  },
  {
   "cell_type": "code",
   "execution_count": 176,
   "metadata": {},
   "outputs": [
    {
     "name": "stdout",
     "output_type": "stream",
     "text": [
      "if features = x, Charge should be at x[:,-5], time at x[:,-4] and pos at x[:,-3:]\n",
      "Remember all accuracies are positive and defined to go towards 0 in the optimal case.\n"
     ]
    }
   ],
   "source": [
    "device = torch.device('cuda')\n",
    "\n",
    "import Model_Loaders.Model_27 as M\n",
    "M = importlib.reload(M)\n",
    "\n",
    "Net = M.Load_model(args['type'],args)\n",
    "model = Net.load_from_checkpoint(path + '/checkpoints/' + run_name + '_' + args['id'] + '/' + run_name + '_latest.ckpt')\n",
    "model.eval();\n",
    "model.to(device);"
   ]
  },
  {
   "cell_type": "code",
   "execution_count": 177,
   "metadata": {},
   "outputs": [],
   "source": [
    "e = c.ShapleyValueSampling(model)"
   ]
  },
  {
   "cell_type": "code",
   "execution_count": 213,
   "metadata": {},
   "outputs": [],
   "source": [
    "truths = []\n",
    "svs = []"
   ]
  },
  {
   "cell_type": "code",
   "execution_count": 214,
   "metadata": {},
   "outputs": [],
   "source": [
    "for i in range(5):\n",
    "    data = dataset[i]\n",
    "    \n",
    "    sv = e.attribute(torch.cat([data.x.unsqueeze(0).to(device) for i in range(4)],dim=0),\n",
    "                     n_samples=10,\n",
    "                     target = torch.tensor([0,1,2,3]).to(device),\n",
    "                     perturbations_per_eval=1024).squeeze().cpu().numpy()\n",
    "    \n",
    "    svs.append(np.concatenate([(np.ones(data.x.shape[0])*data.y[:,0].item()).reshape(-1,1),\n",
    "                np.concatenate([sv[i] for i in range(4)],axis=1)],axis=1))\n",
    "    \n",
    "    output = model(data.x.to(device)).cpu().detach()\n",
    "    output[:,:2] += torch.tensor(args['output_offset'])\n",
    "    output[:,2:] = output[:,2:]**2 + args['eps']\n",
    "    truth = np.concatenate([data.y.numpy(),output.numpy()],axis=1)\n",
    "\n",
    "    truths.append(truth)\n"
   ]
  },
  {
   "cell_type": "code",
   "execution_count": 215,
   "metadata": {},
   "outputs": [],
   "source": [
    "svs = np.concatenate(svs,axis=0)\n",
    "truths = np.concatenate(truths,axis=0)\n",
    "\n",
    "# df_svs = pd.DataFrame(svs)"
   ]
  },
  {
   "cell_type": "code",
   "execution_count": 216,
   "metadata": {},
   "outputs": [
    {
     "data": {
      "text/plain": [
       "((141, 29), (5, 14))"
      ]
     },
     "execution_count": 216,
     "metadata": {},
     "output_type": "execute_result"
    }
   ],
   "source": [
    "svs.shape, truths.shape"
   ]
  },
  {
   "cell_type": "code",
   "execution_count": 220,
   "metadata": {},
   "outputs": [],
   "source": [
    "svs_column_names = ['event_no']\n",
    "svs_column_names += ['az_'+feat for feat in args['features'].split(', ')]\n",
    "svs_column_names += ['ze_'+feat for feat in args['features'].split(', ')]\n",
    "svs_column_names += ['azk_'+feat for feat in args['features'].split(', ')]\n",
    "svs_column_names += ['zek_'+feat for feat in args['features'].split(', ')]\n",
    "\n",
    "truths_column_names = args['targets'].split(', ')\n",
    "truths_column_names += ['azimuth_pred','zenith_pred','azimuth_k','zenith_k']"
   ]
  },
  {
   "cell_type": "code",
   "execution_count": 223,
   "metadata": {},
   "outputs": [],
   "source": [
    "df_svs = pd.DataFrame(svs,columns=svs_column_names)\n",
    "df_truths = pd.DataFrame(truths,columns=truths_column_names)"
   ]
  },
  {
   "cell_type": "code",
   "execution_count": 224,
   "metadata": {},
   "outputs": [
    {
     "data": {
      "text/html": [
       "<div>\n",
       "<style scoped>\n",
       "    .dataframe tbody tr th:only-of-type {\n",
       "        vertical-align: middle;\n",
       "    }\n",
       "\n",
       "    .dataframe tbody tr th {\n",
       "        vertical-align: top;\n",
       "    }\n",
       "\n",
       "    .dataframe thead th {\n",
       "        text-align: right;\n",
       "    }\n",
       "</style>\n",
       "<table border=\"1\" class=\"dataframe\">\n",
       "  <thead>\n",
       "    <tr style=\"text-align: right;\">\n",
       "      <th></th>\n",
       "      <th>event_no</th>\n",
       "      <th>azimuth</th>\n",
       "      <th>zenith</th>\n",
       "      <th>azimuth_retro</th>\n",
       "      <th>zenith_retro</th>\n",
       "      <th>azimuth_sigma</th>\n",
       "      <th>zenith_sigma</th>\n",
       "      <th>energy_log10</th>\n",
       "      <th>pid</th>\n",
       "      <th>elasticity</th>\n",
       "      <th>azimuth_pred</th>\n",
       "      <th>zenith_pred</th>\n",
       "      <th>azimuth_k</th>\n",
       "      <th>zenith_k</th>\n",
       "    </tr>\n",
       "  </thead>\n",
       "  <tbody>\n",
       "    <tr>\n",
       "      <th>0</th>\n",
       "      <td>3560219.0</td>\n",
       "      <td>4.534080</td>\n",
       "      <td>2.635602</td>\n",
       "      <td>1.018231</td>\n",
       "      <td>2.306293</td>\n",
       "      <td>1.207016</td>\n",
       "      <td>0.609026</td>\n",
       "      <td>1.003891</td>\n",
       "      <td>14.0</td>\n",
       "      <td>-1.000000</td>\n",
       "      <td>6.031946</td>\n",
       "      <td>2.462022</td>\n",
       "      <td>1.039310</td>\n",
       "      <td>11.190619</td>\n",
       "    </tr>\n",
       "    <tr>\n",
       "      <th>1</th>\n",
       "      <td>232095.0</td>\n",
       "      <td>5.755915</td>\n",
       "      <td>2.068573</td>\n",
       "      <td>5.306581</td>\n",
       "      <td>1.955461</td>\n",
       "      <td>0.482195</td>\n",
       "      <td>0.450288</td>\n",
       "      <td>1.062459</td>\n",
       "      <td>-14.0</td>\n",
       "      <td>0.008818</td>\n",
       "      <td>5.453363</td>\n",
       "      <td>2.296921</td>\n",
       "      <td>1.451067</td>\n",
       "      <td>9.304886</td>\n",
       "    </tr>\n",
       "    <tr>\n",
       "      <th>2</th>\n",
       "      <td>7384368.0</td>\n",
       "      <td>0.711277</td>\n",
       "      <td>1.747545</td>\n",
       "      <td>5.265240</td>\n",
       "      <td>2.271018</td>\n",
       "      <td>0.767068</td>\n",
       "      <td>0.724109</td>\n",
       "      <td>0.772455</td>\n",
       "      <td>-12.0</td>\n",
       "      <td>0.347926</td>\n",
       "      <td>6.368277</td>\n",
       "      <td>2.310105</td>\n",
       "      <td>0.284086</td>\n",
       "      <td>5.057458</td>\n",
       "    </tr>\n",
       "    <tr>\n",
       "      <th>3</th>\n",
       "      <td>3594958.0</td>\n",
       "      <td>0.611572</td>\n",
       "      <td>0.562104</td>\n",
       "      <td>1.475412</td>\n",
       "      <td>0.630542</td>\n",
       "      <td>0.495096</td>\n",
       "      <td>0.200534</td>\n",
       "      <td>1.999565</td>\n",
       "      <td>14.0</td>\n",
       "      <td>0.899437</td>\n",
       "      <td>1.587039</td>\n",
       "      <td>0.530353</td>\n",
       "      <td>2.649650</td>\n",
       "      <td>16.274277</td>\n",
       "    </tr>\n",
       "    <tr>\n",
       "      <th>4</th>\n",
       "      <td>7357435.0</td>\n",
       "      <td>2.153621</td>\n",
       "      <td>2.820359</td>\n",
       "      <td>1.506014</td>\n",
       "      <td>2.751485</td>\n",
       "      <td>0.724935</td>\n",
       "      <td>0.127259</td>\n",
       "      <td>1.084061</td>\n",
       "      <td>12.0</td>\n",
       "      <td>0.035520</td>\n",
       "      <td>3.125886</td>\n",
       "      <td>2.563389</td>\n",
       "      <td>0.809950</td>\n",
       "      <td>17.292622</td>\n",
       "    </tr>\n",
       "  </tbody>\n",
       "</table>\n",
       "</div>"
      ],
      "text/plain": [
       "    event_no   azimuth    zenith  azimuth_retro  zenith_retro  azimuth_sigma  \\\n",
       "0  3560219.0  4.534080  2.635602       1.018231      2.306293       1.207016   \n",
       "1   232095.0  5.755915  2.068573       5.306581      1.955461       0.482195   \n",
       "2  7384368.0  0.711277  1.747545       5.265240      2.271018       0.767068   \n",
       "3  3594958.0  0.611572  0.562104       1.475412      0.630542       0.495096   \n",
       "4  7357435.0  2.153621  2.820359       1.506014      2.751485       0.724935   \n",
       "\n",
       "   zenith_sigma  energy_log10   pid  elasticity  azimuth_pred  zenith_pred  \\\n",
       "0      0.609026      1.003891  14.0   -1.000000      6.031946     2.462022   \n",
       "1      0.450288      1.062459 -14.0    0.008818      5.453363     2.296921   \n",
       "2      0.724109      0.772455 -12.0    0.347926      6.368277     2.310105   \n",
       "3      0.200534      1.999565  14.0    0.899437      1.587039     0.530353   \n",
       "4      0.127259      1.084061  12.0    0.035520      3.125886     2.563389   \n",
       "\n",
       "   azimuth_k   zenith_k  \n",
       "0   1.039310  11.190619  \n",
       "1   1.451067   9.304886  \n",
       "2   0.284086   5.057458  \n",
       "3   2.649650  16.274277  \n",
       "4   0.809950  17.292622  "
      ]
     },
     "execution_count": 224,
     "metadata": {},
     "output_type": "execute_result"
    }
   ],
   "source": [
    "df_truths"
   ]
  },
  {
   "cell_type": "code",
   "execution_count": null,
   "metadata": {},
   "outputs": [],
   "source": []
  },
  {
   "cell_type": "code",
   "execution_count": null,
   "metadata": {},
   "outputs": [],
   "source": []
  },
  {
   "cell_type": "code",
   "execution_count": null,
   "metadata": {},
   "outputs": [],
   "source": []
  },
  {
   "cell_type": "code",
   "execution_count": null,
   "metadata": {},
   "outputs": [],
   "source": []
  },
  {
   "cell_type": "code",
   "execution_count": null,
   "metadata": {},
   "outputs": [],
   "source": []
  },
  {
   "cell_type": "code",
   "execution_count": null,
   "metadata": {},
   "outputs": [],
   "source": []
  },
  {
   "cell_type": "code",
   "execution_count": 131,
   "metadata": {},
   "outputs": [
    {
     "name": "stdout",
     "output_type": "stream",
     "text": [
      "torch.Size([72, 7])\n",
      "torch.Size([9072, 7])\n",
      "torch.Size([9072, 7])\n",
      "torch.Size([9072, 7])\n",
      "torch.Size([9072, 7])\n",
      "torch.Size([9072, 7])\n",
      "torch.Size([9072, 7])\n",
      "torch.Size([9072, 7])\n",
      "torch.Size([9072, 7])\n",
      "torch.Size([9072, 7])\n",
      "torch.Size([9072, 7])\n"
     ]
    }
   ],
   "source": [
    "sv = e.attribute(torch.cat([data.x.unsqueeze(0) for i in range(4)],dim=0),\n",
    "                 n_samples=10,\n",
    "                 target = torch.tensor([0,1,2,3]).to(device),\n",
    "                 perturbations_per_eval=1024).squeeze().cpu().numpy()"
   ]
  },
  {
   "cell_type": "code",
   "execution_count": 127,
   "metadata": {},
   "outputs": [
    {
     "data": {
      "text/plain": [
       "(array([ 3.,  2.,  6.,  5., 17., 18., 12., 12., 13., 12.]),\n",
       " array([-0.76519436, -0.76519389, -0.76519341, -0.76519294, -0.76519247,\n",
       "        -0.765192  , -0.76519153, -0.76519106, -0.76519059, -0.76519012,\n",
       "        -0.76518965]),\n",
       " <a list of 10 Patch objects>)"
      ]
     },
     "execution_count": 127,
     "metadata": {},
     "output_type": "execute_result"
    },
    {
     "data": {
      "image/png": "[encoded data removed]",
      "text/plain": [
       "<Figure size 432x288 with 1 Axes>"
      ]
     },
     "metadata": {
      "needs_background": "light"
     },
     "output_type": "display_data"
    }
   ],
   "source": [
    "i,j = 3,-3\n",
    "fig, ax = plt.subplots()\n",
    "ax.hist(ouputs[:,i,j].cpu(),bins=10)"
   ]
  },
  {
   "cell_type": "code",
   "execution_count": 83,
   "metadata": {},
   "outputs": [],
   "source": [
    "sv = e.attribute(data.x.unsqueeze(0),\n",
    "                 n_samples=1000,\n",
    "                 target = 0,\n",
    "                 perturbations_per_eval=1024*8).squeeze().cpu().numpy()"
   ]
  },
  {
   "cell_type": "code",
   "execution_count": 82,
   "metadata": {},
   "outputs": [
    {
     "data": {
      "image/png": "[encoded data removed]",
      "text/plain": [
       "<Figure size 720x144 with 2 Axes>"
      ]
     },
     "metadata": {
      "needs_background": "light"
     },
     "output_type": "display_data"
    }
   ],
   "source": [
    "plot_shapvals(sv)"
   ]
  },
  {
   "cell_type": "code",
   "execution_count": 84,
   "metadata": {},
   "outputs": [
    {
     "data": {
      "image/png": "[encoded data removed]",
      "text/plain": [
       "<Figure size 720x144 with 2 Axes>"
      ]
     },
     "metadata": {
      "needs_background": "light"
     },
     "output_type": "display_data"
    }
   ],
   "source": [
    "plot_shapvals(sv)"
   ]
  },
  {
   "cell_type": "code",
   "execution_count": 55,
   "metadata": {},
   "outputs": [],
   "source": [
    "data.x.requires_grad = True\n",
    "output = model(data.x)"
   ]
  },
  {
   "cell_type": "code",
   "execution_count": 59,
   "metadata": {},
   "outputs": [],
   "source": [
    "outputs = []\n",
    "for i in range(100):\n",
    "    output = model(data.x)\n",
    "    outputs.append(torch.autograd.grad(output[0,0],data.x))"
   ]
  },
  {
   "cell_type": "code",
   "execution_count": 63,
   "metadata": {},
   "outputs": [],
   "source": [
    "ouputs=torch.cat([outputs[i][0].unsqueeze(0) for i in range(100)],dim=0)"
   ]
  },
  {
   "cell_type": "code",
   "execution_count": 74,
   "metadata": {},
   "outputs": [
    {
     "data": {
      "image/png": "[encoded data removed]",
      "text/plain": [
       "<Figure size 720x144 with 2 Axes>"
      ]
     },
     "metadata": {
      "needs_background": "light"
     },
     "output_type": "display_data"
    },
    {
     "data": {
      "image/png": "[encoded data removed]",
      "text/plain": [
       "<Figure size 720x144 with 2 Axes>"
      ]
     },
     "metadata": {
      "needs_background": "light"
     },
     "output_type": "display_data"
    },
    {
     "data": {
      "image/png": "[encoded data removed]",
      "text/plain": [
       "<Figure size 720x144 with 2 Axes>"
      ]
     },
     "metadata": {
      "needs_background": "light"
     },
     "output_type": "display_data"
    }
   ],
   "source": [
    "ouputs.shape\n",
    "plot_shapvals(data.x.cpu().detach())\n",
    "plot_shapvals(ouputs.std(0).cpu())\n",
    "plot_shapvals(np.log(ouputs.std(0).cpu()))"
   ]
  },
  {
   "cell_type": "code",
   "execution_count": 6,
   "metadata": {},
   "outputs": [],
   "source": [
    "e = c.IntegratedGradients(model)"
   ]
  },
  {
   "cell_type": "code",
   "execution_count": 7,
   "metadata": {},
   "outputs": [
    {
     "data": {
      "text/plain": [
       "Data(x=[18, 7], y=[1, 10])"
      ]
     },
     "execution_count": 7,
     "metadata": {},
     "output_type": "execute_result"
    }
   ],
   "source": [
    "data = dataset[0].to(device)\n",
    "data"
   ]
  },
  {
   "cell_type": "code",
   "execution_count": 33,
   "metadata": {},
   "outputs": [
    {
     "data": {
      "text/plain": [
       "torch.Size([1, 18, 7])"
      ]
     },
     "execution_count": 33,
     "metadata": {},
     "output_type": "execute_result"
    }
   ],
   "source": [
    "torch.cat([torch.tensor([[0,0,0,0,0,0,-1]]) for _ in range(data.x.shape[0])],dim=0).unsqueeze(0).shape"
   ]
  },
  {
   "cell_type": "code",
   "execution_count": 35,
   "metadata": {},
   "outputs": [],
   "source": [
    "ig = e.attribute(inputs=data.x.unsqueeze(0),\n",
    "                baselines = torch.cat([torch.tensor([[0,0,0,0,0,0,-1]]) for _ in range(data.x.shape[0])],dim=0).unsqueeze(0).to(device),\n",
    "                target = 0,\n",
    "                n_steps = 100).squeeze().cpu().numpy()"
   ]
  },
  {
   "cell_type": "code",
   "execution_count": 13,
   "metadata": {},
   "outputs": [],
   "source": [
    "def plot_shapvals(shapvals):\n",
    "    fig, ax = plt.subplots(figsize=(10,2))\n",
    "    im = ax.pcolor(shapvals.T,cmap='plasma')\n",
    "    fig.colorbar(im)\n",
    "    fig.tight_layout()"
   ]
  },
  {
   "cell_type": "code",
   "execution_count": 36,
   "metadata": {},
   "outputs": [
    {
     "data": {
      "image/png": "[encoded data removed]",
      "text/plain": [
       "<Figure size 720x144 with 2 Axes>"
      ]
     },
     "metadata": {
      "needs_background": "light"
     },
     "output_type": "display_data"
    }
   ],
   "source": [
    "plot_shapvals(ig)"
   ]
  },
  {
   "cell_type": "code",
   "execution_count": 35,
   "metadata": {},
   "outputs": [
    {
     "data": {
      "image/png": "[encoded data removed]",
      "text/plain": [
       "<Figure size 720x144 with 2 Axes>"
      ]
     },
     "metadata": {
      "needs_background": "light"
     },
     "output_type": "display_data"
    }
   ],
   "source": [
    "plot_shapvals(ig)"
   ]
  },
  {
   "cell_type": "code",
   "execution_count": 9,
   "metadata": {},
   "outputs": [
    {
     "data": {
      "text/plain": [
       "(100, 18, 7)"
      ]
     },
     "execution_count": 9,
     "metadata": {},
     "output_type": "execute_result"
    }
   ],
   "source": [
    "N=100\n",
    "\n",
    "np.zeros((N,*data.x.shape)).shape"
   ]
  },
  {
   "cell_type": "code",
   "execution_count": 10,
   "metadata": {},
   "outputs": [],
   "source": [
    "ig = e.attribute(inputs=torch.cat([data.x.unsqueeze(0) for _ in range(N)],dim=0),\n",
    "            baselines = 0,\n",
    "            target = 0,\n",
    "            internal_batch_size = 1024*4,\n",
    "            n_steps = 100).squeeze().cpu().numpy()"
   ]
  },
  {
   "cell_type": "code",
   "execution_count": 24,
   "metadata": {},
   "outputs": [
    {
     "data": {
      "image/png": "[encoded data removed]",
      "text/plain": [
       "<Figure size 720x144 with 2 Axes>"
      ]
     },
     "metadata": {
      "needs_background": "light"
     },
     "output_type": "display_data"
    }
   ],
   "source": [
    "plot_shapvals(data.x.cpu())"
   ]
  },
  {
   "cell_type": "code",
   "execution_count": 16,
   "metadata": {},
   "outputs": [
    {
     "data": {
      "image/png": "[encoded data removed]",
      "text/plain": [
       "<Figure size 720x144 with 2 Axes>"
      ]
     },
     "metadata": {
      "needs_background": "light"
     },
     "output_type": "display_data"
    },
    {
     "data": {
      "image/png": "[encoded data removed]",
      "text/plain": [
       "<Figure size 720x144 with 2 Axes>"
      ]
     },
     "metadata": {
      "needs_background": "light"
     },
     "output_type": "display_data"
    }
   ],
   "source": [
    "plot_shapvals(ig.std(0))\n",
    "plot_shapvals(np.log(ig.std(0)))"
   ]
  },
  {
   "cell_type": "code",
   "execution_count": 26,
   "metadata": {},
   "outputs": [],
   "source": [
    "background = dataset.collate(dataset[[i for i in range(5000)]])"
   ]
  },
  {
   "cell_type": "code",
   "execution_count": null,
   "metadata": {},
   "outputs": [],
   "source": [
    "torch.tensor([0,0,0,0,0,0,-1])"
   ]
  },
  {
   "cell_type": "code",
   "execution_count": 29,
   "metadata": {},
   "outputs": [
    {
     "data": {
      "text/plain": [
       "(tensor([-0.2907,  0.5490,  3.7867, -0.1420,  0.1596, -0.1195, -1.1700],\n",
       "        dtype=torch.float64),\n",
       " tensor([0.9568, 0.8358, 4.1606, 0.2040, 0.1793, 0.1981, 0.2722],\n",
       "        dtype=torch.float64))"
      ]
     },
     "execution_count": 29,
     "metadata": {},
     "output_type": "execute_result"
    }
   ],
   "source": [
    "background.x.mean(0), background.x.std(0)"
   ]
  }
 ],
 "metadata": {
  "kernelspec": {
   "display_name": "Python 3",
   "language": "python",
   "name": "python3"
  },
  "language_info": {
   "codemirror_mode": {
    "name": "ipython",
    "version": 3
   },
   "file_extension": ".py",
   "mimetype": "text/x-python",
   "name": "python",
   "nbconvert_exporter": "python",
   "pygments_lexer": "ipython3",
   "version": "3.7.6"
  }
 },
 "nbformat": 4,
 "nbformat_minor": 4
}
