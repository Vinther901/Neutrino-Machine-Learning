{
 "cells": [
  {
   "cell_type": "code",
   "execution_count": 1,
   "metadata": {},
   "outputs": [],
   "source": [
    "import numpy as np\n",
    "import matplotlib.pyplot as plt\n",
    "import torch\n",
    "import torch_geometric_temporal as tgt\n",
    "import importlib\n",
    "import pandas as pd\n",
    "import FunctionCollection as fc\n",
    "import pytorch_lightning as pl\n",
    "import importlib\n",
    "fc = importlib.reload(fc)"
   ]
  },
  {
   "cell_type": "code",
   "execution_count": 27,
   "metadata": {},
   "outputs": [],
   "source": [
    "import Model_Loaders.Model_7 as M\n",
    "M = importlib.reload(M)"
   ]
  },
  {
   "cell_type": "code",
   "execution_count": 36,
   "metadata": {},
   "outputs": [
    {
     "name": "stdout",
     "output_type": "stream",
     "text": [
      "Remember all accuracies are positive and defined to go towards 0 in the optimal case.\n"
     ]
    }
   ],
   "source": [
    "args = {'N_edge_feats': 6,\n",
    "        'N_dom_feats': 5,\n",
    "        'N_targets': 1,\n",
    "        'N_outputs': 1,\n",
    "        'N_metalayers': 5,\n",
    "        'N_hcs': 16,\n",
    "        'diagonal_cov': True,\n",
    "        'type': 'MSE+MAE',\n",
    "        'eps': 0,\n",
    "        'lr': 0.002}\n",
    "\n",
    "Net = M.Load_model(args['type'],args)"
   ]
  },
  {
   "cell_type": "code",
   "execution_count": 2,
   "metadata": {
    "scrolled": false
   },
   "outputs": [],
   "source": [
    "N_events = 100000\n",
    "def E_target_constructor(dataset, transformer):\n",
    "    E = dataset.data.y.view(N_events,-1,1)[:,0]\n",
    "    dataset.data.y = torch.tensor(transformer['truth']['energy_log10'].inverse_transform(E),dtype=torch.float)\n",
    "    dataset.slices['y'] = np.arange(0,len(dataset.data.y)+1, 1)\n",
    "    return dataset"
   ]
  },
  {
   "cell_type": "code",
   "execution_count": 3,
   "metadata": {},
   "outputs": [
    {
     "name": "stdout",
     "output_type": "stream",
     "text": [
      "2021-03-09 16:49:40.510724: loading data..\n",
      "2021-03-09 16:49:41.819824: executing target constructor..\n",
      "2021-03-09 16:49:41.834991: executing feature constructor..\n",
      "2021-03-09 16:49:51.160693: shuffling dataset..\n",
      "2021-03-09 16:49:51.186696: defining dataloaders..\n",
      "2021-03-09 16:49:51.187695: Done!\n"
     ]
    }
   ],
   "source": [
    "path = 'C:/Users/jv97/Desktop/github/Neutrino-Machine-Learning'\n",
    "filename = 'muon_100k_set11_SRT.pt'#muon_100k_set11_SRT.pt #100k_muon_set21.pt\n",
    "filepath = path + '/datasets'\n",
    "transformer = pd.read_pickle(path+'/datasets/transformers.pkl')\n",
    "\n",
    "dataset, train_loader, test_loader, val_loader = fc.dataset_preparator(name = filename,\n",
    "                                                                       path = filepath,\n",
    "                                                                       transformer = transformer,\n",
    "                                                                       tc = E_target_constructor,\n",
    "                                                                       fc = fc.dataset_feature_constructor,\n",
    "                                                                       shuffle = True,\n",
    "                                                                       TrTV_split = (0.9,0.9,1),\n",
    "                                                                       batch_size = 512)"
   ]
  },
  {
   "cell_type": "code",
   "execution_count": 4,
   "metadata": {},
   "outputs": [],
   "source": [
    "for data in train_loader:\n",
    "    break"
   ]
  },
  {
   "cell_type": "code",
   "execution_count": 24,
   "metadata": {},
   "outputs": [],
   "source": [
    "import time"
   ]
  },
  {
   "cell_type": "code",
   "execution_count": null,
   "metadata": {},
   "outputs": [],
   "source": []
  },
  {
   "cell_type": "code",
   "execution_count": 23,
   "metadata": {},
   "outputs": [],
   "source": [
    "@torch.jit.script\n",
    "def time_edge_indeces(x,\n",
    "                      batch: torch.Tensor):\n",
    "    time_sort = torch.argsort(x[:,1])\n",
    "    graph_ids, graph_node_counts = torch.unique(batch,return_counts=True)\n",
    "    batch_time_sort = torch.cat( [time_sort[batch[time_sort] == i] for i in graph_ids] )\n",
    "    time_edge_index = torch.cat([batch_time_sort[:-1].view(1,-1),batch_time_sort[1:].view(1,-1)],dim=0)\n",
    "\n",
    "    tmp_ind = (torch.cumsum(graph_node_counts,0) - 1)[:-1]\n",
    "    li : List[int] = (tmp_ind + 1).tolist()\n",
    "    time_edge_index[1,tmp_ind] = time_edge_index[0, [0] + li[:-1]]\n",
    "    time_edge_index = torch.cat([time_edge_index, \n",
    "                                 torch.cat([time_edge_index[1,-1].view(1,1),\n",
    "                                            time_edge_index[0,(tmp_ind + 1)[-1]].view(1,1)])],dim=1)\n",
    "\n",
    "    time_edge_index = time_edge_index[:,torch.argsort(time_edge_index[1])]\n",
    "    return time_edge_index"
   ]
  },
  {
   "cell_type": "code",
   "execution_count": 26,
   "metadata": {},
   "outputs": [],
   "source": [
    "@torch.jit.script\n",
    "def x_feature_constructor(x, graph_node_counts):\n",
    "    tmp = []\n",
    "    a : List[int] = graph_node_counts.tolist()\n",
    "    for tmp_x in x.split(a):\n",
    "        tmp_x = tmp_x.unsqueeze(1) - tmp_x\n",
    "        cart = tmp_x[:,:,-3:]\n",
    "            \n",
    "        rho = torch.norm(cart, p=2, dim=-1).unsqueeze(2)\n",
    "        rho_mask = rho.squeeze() != 0\n",
    "        cart[rho_mask] = cart[rho_mask] / rho[rho_mask]\n",
    "        tmp_x = torch.cat([cart,rho,tmp_x[:,:,:-3]],dim=2)\n",
    "\n",
    "        tmp.append(torch.cat([tmp_x.mean(1),tmp_x.std(1),tmp_x.min(1)[0],tmp_x.max(1)[0]],dim=1))\n",
    "    return torch.cat(tmp,0)"
   ]
  },
  {
   "cell_type": "code",
   "execution_count": 72,
   "metadata": {},
   "outputs": [],
   "source": [
    "# @torch.jit.script\n",
    "def edge_feature_constructor(x, edge_index):\n",
    "    (frm, to) = edge_index\n",
    "    pos = x[:,-3:]\n",
    "    cart = pos[frm] - pos[to]\n",
    "    \n",
    "    rho = torch.norm(cart, p=2, dim=-1).view(-1, 1)\n",
    "    rho_mask = rho.squeeze() != 0\n",
    "    cart[rho_mask] = cart[rho_mask] / rho[rho_mask]\n",
    "    \n",
    "    #Time difference and charge ratio\n",
    "    T_diff = x[to,1] - x[frm,1]\n",
    "    Q_diff = x[to,0] - x[frm,0]\n",
    "    \n",
    "    edge_attr = torch.cat([cart.type_as(pos),rho,T_diff.view(-1,1),Q_diff.view(-1,1)], dim=1)\n",
    "    \n",
    "    return edge_attr"
   ]
  },
  {
   "cell_type": "code",
   "execution_count": 65,
   "metadata": {},
   "outputs": [
    {
     "name": "stdout",
     "output_type": "stream",
     "text": [
      "0.6770131587982178\n",
      "0.7623074054718018\n"
     ]
    }
   ],
   "source": [
    "x, edge_index, batch = data.x, data.edge_index, data.batch\n",
    "graph_ids, graph_node_counts = batch.unique(return_counts=True)\n",
    "\n",
    "start = time.time()\n",
    "tmp = x_feature_constructor(x,graph_node_counts)\n",
    "print(time.time() - start)\n",
    "\n",
    "start = time.time()\n",
    "tmp = []\n",
    "for tmp_x in x.split(graph_node_counts.tolist()):\n",
    "    tmp_x = tmp_x.unsqueeze(1) - tmp_x\n",
    "    cart = tmp_x[:,:,-3:]\n",
    "\n",
    "    rho = torch.norm(cart, p=2, dim=-1).unsqueeze(2)\n",
    "    rho_mask = rho.squeeze() != 0\n",
    "    cart[rho_mask] = cart[rho_mask] / rho[rho_mask]\n",
    "    tmp_x = torch.cat([cart,rho,tmp_x[:,:,:-3]],dim=2)\n",
    "\n",
    "    tmp.append(torch.cat([tmp_x.mean(1),tmp_x.std(1),tmp_x.min(1)[0],tmp_x.max(1)[0]],dim=1))\n",
    "print(time.time() - start)"
   ]
  },
  {
   "cell_type": "code",
   "execution_count": 69,
   "metadata": {},
   "outputs": [
    {
     "name": "stdout",
     "output_type": "stream",
     "text": [
      "0.0010018348693847656\n",
      "0.10000038146972656\n"
     ]
    }
   ],
   "source": [
    "start = time.time()\n",
    "tmp = time_edge_indeces(x,batch)\n",
    "print(time.time() - start)\n",
    "\n",
    "start = time.time()\n",
    "time_sort = torch.argsort(x[:,1])\n",
    "graph_ids, graph_node_counts = batch.unique(return_counts=True)\n",
    "batch_time_sort = torch.cat( [time_sort[batch[time_sort] == i] for i in graph_ids] )\n",
    "time_edge_index = torch.cat([batch_time_sort[:-1].view(1,-1),batch_time_sort[1:].view(1,-1)],dim=0)\n",
    "\n",
    "tmp_ind = (torch.cumsum(graph_node_counts,0) - 1)[:-1]\n",
    "time_edge_index[1,tmp_ind] = time_edge_index[0, [0] + (tmp_ind + 1).tolist()[:-1]]\n",
    "time_edge_index = torch.cat([time_edge_index, \n",
    "                             torch.cat([time_edge_index[1,-1].view(1,1),\n",
    "                                        time_edge_index[0,(tmp_ind + 1)[-1]].view(1,1)])],dim=1)\n",
    "\n",
    "time_edge_index = time_edge_index[:,torch.argsort(time_edge_index[1])]\n",
    "print(time.time() - start)"
   ]
  },
  {
   "cell_type": "code",
   "execution_count": 107,
   "metadata": {},
   "outputs": [
    {
     "name": "stdout",
     "output_type": "stream",
     "text": [
      "0.007006645202636719\n"
     ]
    }
   ],
   "source": [
    "start = time.time()\n",
    "tmp = edge_feature_constructor(x,time_edge_index)\n",
    "print(time.time() - start)"
   ]
  },
  {
   "cell_type": "code",
   "execution_count": 86,
   "metadata": {},
   "outputs": [
    {
     "data": {
      "text/plain": [
       "torch.Size([43, 20])"
      ]
     },
     "execution_count": 86,
     "metadata": {},
     "output_type": "execute_result"
    }
   ],
   "source": [
    "torch.cat(tmp,dim=0).shape"
   ]
  },
  {
   "cell_type": "code",
   "execution_count": 82,
   "metadata": {},
   "outputs": [
    {
     "data": {
      "text/plain": [
       "torch.Size([43, 5])"
      ]
     },
     "execution_count": 82,
     "metadata": {},
     "output_type": "execute_result"
    }
   ],
   "source": [
    "x.shape"
   ]
  },
  {
   "cell_type": "code",
   "execution_count": 48,
   "metadata": {},
   "outputs": [
    {
     "data": {
      "text/plain": [
       "torch.Size([27, 27, 5])"
      ]
     },
     "execution_count": 48,
     "metadata": {},
     "output_type": "execute_result"
    }
   ],
   "source": [
    "d = tmp_x.unsqueeze(1) - tmp_x\n",
    "d.shape"
   ]
  },
  {
   "cell_type": "code",
   "execution_count": 69,
   "metadata": {},
   "outputs": [
    {
     "data": {
      "text/plain": [
       "tensor([[0.5774, 0.5774],\n",
       "        [0.5774, 0.5774],\n",
       "        [0.5774, 0.5774]])"
      ]
     },
     "execution_count": 69,
     "metadata": {},
     "output_type": "execute_result"
    }
   ],
   "source": [
    "a = torch.tensor([[1,0],[0,0],[0,1]],dtype=torch.float)\n",
    "(a.unsqueeze(1) - a).std(1)"
   ]
  },
  {
   "cell_type": "code",
   "execution_count": 67,
   "metadata": {},
   "outputs": [
    {
     "name": "stdout",
     "output_type": "stream",
     "text": [
      "Help on built-in function std:\n",
      "\n",
      "std(...) method of torch.Tensor instance\n",
      "    std(dim=None, unbiased=True, keepdim=False) -> Tensor\n",
      "    \n",
      "    See :func:`torch.std`\n",
      "\n"
     ]
    }
   ],
   "source": [
    "help(a.std)"
   ]
  },
  {
   "cell_type": "code",
   "execution_count": 61,
   "metadata": {},
   "outputs": [
    {
     "data": {
      "text/plain": [
       "tensor([[ 2.6619e-01, -1.8873e-01, -2.3720e-02, -6.4897e-01,  4.8961e-01],\n",
       "        [-3.9555e-01,  5.0301e-01, -4.3729e-01,  6.2600e-01, -1.4875e-01],\n",
       "        [ 1.5543e-02,  3.4481e-01, -4.3729e-01,  6.2600e-01, -7.8685e-02],\n",
       "        [ 1.8696e-01,  3.7926e-01, -2.1435e-01,  5.3926e-01, -4.8585e-02],\n",
       "        [-1.7671e-01,  5.8897e-01, -2.7720e-02,  6.8943e-01, -9.4285e-02],\n",
       "        [ 7.8812e-01,  2.1809e-01, -2.7720e-02,  6.8943e-01, -8.5188e-04],\n",
       "        [-7.9366e-01, -2.3479e-02, -1.6379e-01,  6.6900e-01, -1.1342e-01],\n",
       "        [-7.9366e-01,  3.7222e-01, -2.5072e-01,  7.7473e-01, -7.0052e-02],\n",
       "        [ 1.5543e-02, -6.2753e-02,  1.2478e-01, -2.5977e-01, -1.7118e-02],\n",
       "        [-5.1746e-01, -2.4319e-01,  1.2478e-01, -2.5977e-01, -1.7118e-02],\n",
       "        [ 8.9555e-01, -1.7057e-01,  1.2478e-01, -2.5977e-01,  3.9615e-02],\n",
       "        [ 4.8254e-01, -2.3467e-01,  1.2478e-01, -2.5977e-01,  3.9615e-02],\n",
       "        [ 1.5543e-02,  4.9511e-02, -2.8655e-01, -3.2510e-01,  5.4318e-01],\n",
       "        [-7.9366e-01, -1.9614e-01,  3.8758e-01, -5.8374e-01, -1.1685e-02],\n",
       "        [ 5.4855e-01, -2.5616e-01, -2.3720e-02, -6.4897e-01, -7.7752e-02],\n",
       "        [-6.4955e-01, -3.3322e-01, -2.3720e-02, -6.4897e-01,  9.2448e-02],\n",
       "        [ 1.8696e-01, -2.9321e-01, -2.3720e-02, -6.4897e-01,  1.4918e-01],\n",
       "        [ 8.4275e-01, -2.5208e-01,  1.2478e-01, -2.5977e-01, -7.3852e-02],\n",
       "        [-6.4955e-01, -2.4652e-01,  1.2478e-01, -2.5977e-01, -7.3852e-02],\n",
       "        [-9.5220e-01, -2.3022e-01,  1.2478e-01, -2.5977e-01, -7.3852e-02],\n",
       "        [ 1.5543e-02, -7.4609e-02,  1.2478e-01, -2.5977e-01, -7.3852e-02],\n",
       "        [-1.7671e-01, -3.9041e-02,  4.2215e-01,  5.1810e-01, -2.3119e-02],\n",
       "        [ 5.4855e-01,  8.9526e-02,  1.1547e-02,  4.5350e-01, -1.5119e-01],\n",
       "        [-5.1746e-01,  2.8441e-01,  1.1547e-02,  4.5350e-01, -9.4452e-02],\n",
       "        [-7.7667e-02, -3.8423e-03, -1.4032e-01,  6.3528e-02,  9.3248e-02],\n",
       "        [ 8.4275e-01, -2.3319e-01,  1.2478e-01, -2.5977e-01, -1.3059e-01],\n",
       "        [ 8.4275e-01,  2.5181e-01,  1.2478e-01, -2.5977e-01, -7.3852e-02]])"
      ]
     },
     "execution_count": 61,
     "metadata": {},
     "output_type": "execute_result"
    }
   ],
   "source": [
    "# from torch_scatter import scatter_sum, scatter_min, scatter_max\n",
    "# scatter_min(d,)\n",
    "d.min(1)[0]\n",
    "d.mean(1)"
   ]
  },
  {
   "cell_type": "code",
   "execution_count": 53,
   "metadata": {},
   "outputs": [
    {
     "data": {
      "text/plain": [
       "tensor([[ 7.1870e+00, -5.0956e+00, -6.4043e-01, -1.7522e+01,  1.3220e+01],\n",
       "        [-1.0680e+01,  1.3581e+01, -1.1807e+01,  1.6902e+01, -4.0163e+00],\n",
       "        [ 4.1966e-01,  9.3097e+00, -1.1807e+01,  1.6902e+01, -2.1245e+00],\n",
       "        [ 5.0480e+00,  1.0240e+01, -5.7875e+00,  1.4560e+01, -1.3118e+00],\n",
       "        [-4.7710e+00,  1.5902e+01, -7.4843e-01,  1.8615e+01, -2.5457e+00],\n",
       "        [ 2.1279e+01,  5.8885e+00, -7.4843e-01,  1.8615e+01, -2.3001e-02],\n",
       "        [-2.1429e+01, -6.3394e-01, -4.4222e+00,  1.8063e+01, -3.0623e+00],\n",
       "        [-2.1429e+01,  1.0050e+01, -6.7694e+00,  2.0918e+01, -1.8914e+00],\n",
       "        [ 4.1966e-01, -1.6943e+00,  3.3691e+00, -7.0138e+00, -4.6220e-01],\n",
       "        [-1.3972e+01, -6.5661e+00,  3.3691e+00, -7.0138e+00, -4.6220e-01],\n",
       "        [ 2.4180e+01, -4.6054e+00,  3.3691e+00, -7.0138e+00,  1.0696e+00],\n",
       "        [ 1.3028e+01, -6.3361e+00,  3.3691e+00, -7.0138e+00,  1.0696e+00],\n",
       "        [ 4.1966e-01,  1.3368e+00, -7.7369e+00, -8.7778e+00,  1.4666e+01],\n",
       "        [-2.1429e+01, -5.2957e+00,  1.0465e+01, -1.5761e+01, -3.1550e-01],\n",
       "        [ 1.4811e+01, -6.9163e+00, -6.4043e-01, -1.7522e+01, -2.0993e+00],\n",
       "        [-1.7538e+01, -8.9970e+00, -6.4043e-01, -1.7522e+01,  2.4961e+00],\n",
       "        [ 5.0480e+00, -7.9166e+00, -6.4043e-01, -1.7522e+01,  4.0279e+00],\n",
       "        [ 2.2754e+01, -6.8062e+00,  3.3691e+00, -7.0138e+00, -1.9940e+00],\n",
       "        [-1.7538e+01, -6.6562e+00,  3.3691e+00, -7.0138e+00, -1.9940e+00],\n",
       "        [-2.5709e+01, -6.2160e+00,  3.3691e+00, -7.0138e+00, -1.9940e+00],\n",
       "        [ 4.1966e-01, -2.0144e+00,  3.3691e+00, -7.0138e+00, -1.9940e+00],\n",
       "        [-4.7710e+00, -1.0541e+00,  1.1398e+01,  1.3989e+01, -6.2420e-01],\n",
       "        [ 1.4811e+01,  2.4172e+00,  3.1177e-01,  1.2244e+01, -4.0820e+00],\n",
       "        [-1.3972e+01,  7.6791e+00,  3.1177e-01,  1.2244e+01, -2.5502e+00],\n",
       "        [-2.0970e+00, -1.0374e-01, -3.7886e+00,  1.7153e+00,  2.5177e+00],\n",
       "        [ 2.2754e+01, -6.2960e+00,  3.3691e+00, -7.0138e+00, -3.5258e+00],\n",
       "        [ 2.2754e+01,  6.7988e+00,  3.3691e+00, -7.0138e+00, -1.9940e+00]])"
      ]
     },
     "execution_count": 53,
     "metadata": {},
     "output_type": "execute_result"
    }
   ],
   "source": [
    "d.sum(1)"
   ]
  },
  {
   "cell_type": "code",
   "execution_count": 27,
   "metadata": {},
   "outputs": [],
   "source": [
    "x, edge_index, batch = data.x, data.edge_index, data.batch\n",
    "\n",
    "# time_sort = torch.argsort(x[:,1])\n",
    "# graph_ids, graph_node_counts = batch.unique(return_counts=True)\n",
    "# batch_time_sort = torch.cat( [time_sort[batch[time_sort] == i] for i in graph_ids] )\n",
    "# time_edge_index = torch.cat([batch_time_sort[:-1].view(1,-1),batch_time_sort[1:].view(1,-1)],dim=0)\n",
    "\n",
    "# tmp_ind = (torch.cumsum(graph_node_counts,0) - 1)[:-1]\n",
    "\n",
    "time_sort = torch.argsort(x[:,1])\n",
    "graph_ids, graph_node_counts = batch.unique(return_counts=True)\n",
    "batch_time_sort = torch.cat( [time_sort[batch[time_sort] == i] for i in graph_ids] )\n",
    "time_edge_index = torch.cat([batch_time_sort[:-1].view(1,-1),batch_time_sort[1:].view(1,-1)],dim=0)\n",
    "\n",
    "tmp_ind = (torch.cumsum(graph_node_counts,0) - 1)[:-1]\n",
    "time_edge_index[1,tmp_ind] = time_edge_index[0, [0] + (tmp_ind + 1).tolist()[:-1]]\n",
    "time_edge_index = torch.cat([time_edge_index, \n",
    "                             torch.cat([time_edge_index[1,-1].view(1,1),\n",
    "                                        time_edge_index[0,(tmp_ind + 1)[-1]].view(1,1)])],dim=1)\n",
    "\n",
    "time_edge_index = time_edge_index[:,torch.argsort(time_edge_index[1])]"
   ]
  },
  {
   "cell_type": "code",
   "execution_count": 29,
   "metadata": {
    "scrolled": false
   },
   "outputs": [
    {
     "data": {
      "text/plain": [
       "(tensor([47, 14]),\n",
       " tensor([[19,  2,  3,  4,  7, 23, 17, 11, 38,  0, 21,  8, 25, 29, 12, 20,  1, 16,\n",
       "          22,  6, 24, 18,  5,  9, 44, 26, 37, 45, 13, 15, 36, 32, 46, 14, 31, 40,\n",
       "          34, 28, 33, 35, 42, 43, 41, 27, 30, 10, 39, 58, 50, 55, 52, 49, 53, 51,\n",
       "          47, 59, 57, 60, 48, 56, 54],\n",
       "         [ 0,  1,  2,  3,  4,  5,  6,  7,  8,  9, 10, 11, 12, 13, 14, 15, 16, 17,\n",
       "          18, 19, 20, 21, 22, 23, 24, 25, 26, 27, 28, 29, 30, 31, 32, 33, 34, 35,\n",
       "          36, 37, 38, 39, 40, 41, 42, 43, 44, 45, 46, 47, 48, 49, 50, 51, 52, 53,\n",
       "          54, 55, 56, 57, 58, 59, 60]]),\n",
       " tensor([[ 0.0000e+00,  5.6132e+00],\n",
       "         [ 1.0000e+00,  4.5313e+00],\n",
       "         [ 2.0000e+00,  4.1089e+00],\n",
       "         [ 3.0000e+00,  3.5235e+00],\n",
       "         [ 4.0000e+00,  3.1975e+00],\n",
       "         [ 5.0000e+00,  6.2171e+00],\n",
       "         [ 6.0000e+00,  5.0019e+00],\n",
       "         [ 7.0000e+00,  2.5491e+00],\n",
       "         [ 8.0000e+00,  2.0007e+00],\n",
       "         [ 9.0000e+00,  5.6132e+00],\n",
       "         [ 1.0000e+01,  8.8033e+00],\n",
       "         [ 1.1000e+01,  2.1267e+00],\n",
       "         [ 1.2000e+01,  8.1512e-02],\n",
       "         [ 1.3000e+01, -2.3342e-01],\n",
       "         [ 1.4000e+01,  4.7795e-01],\n",
       "         [ 1.5000e+01, -3.1123e-01],\n",
       "         [ 1.6000e+01,  4.8536e+00],\n",
       "         [ 1.7000e+01,  4.9574e+00],\n",
       "         [ 1.8000e+01,  6.8322e+00],\n",
       "         [ 1.9000e+01,  5.3538e+00],\n",
       "         [ 2.0000e+01, -5.3353e-01],\n",
       "         [ 2.1000e+01,  7.9881e+00],\n",
       "         [ 2.2000e+01,  6.2393e+00],\n",
       "         [ 2.3000e+01,  6.1245e+00],\n",
       "         [ 2.4000e+01, -8.9292e-01],\n",
       "         [ 2.5000e+01,  4.0756e-02],\n",
       "         [ 2.6000e+01,  7.4102e-03],\n",
       "         [ 2.7000e+01, -2.7232e+00],\n",
       "         [ 2.8000e+01, -7.7807e-02],\n",
       "         [ 2.9000e+01, -2.8529e-01],\n",
       "         [ 3.0000e+01, -1.0226e+00],\n",
       "         [ 3.1000e+01, -1.3672e+00],\n",
       "         [ 3.2000e+01, -1.4376e+00],\n",
       "         [ 3.3000e+01,  4.9648e-01],\n",
       "         [ 3.4000e+01, -1.2931e+00],\n",
       "         [ 3.5000e+01, -1.5265e+00],\n",
       "         [ 3.6000e+01, -1.2931e+00],\n",
       "         [ 3.7000e+01, -7.0396e-02],\n",
       "         [ 3.8000e+01,  1.6525e+00],\n",
       "         [ 3.9000e+01, -1.5043e+00],\n",
       "         [ 4.0000e+01, -1.9933e+00],\n",
       "         [ 4.1000e+01, -2.4750e+00],\n",
       "         [ 4.2000e+01, -2.2860e+00],\n",
       "         [ 4.3000e+01, -2.6454e+00],\n",
       "         [ 4.4000e+01, -9.4109e-01],\n",
       "         [ 4.5000e+01, -3.1086e+00],\n",
       "         [ 4.6000e+01, -1.5006e+00],\n",
       "         [ 4.7000e+01, -3.1901e+00],\n",
       "         [ 4.8000e+01, -3.5606e+00],\n",
       "         [ 4.9000e+01, -4.9944e+00],\n",
       "         [ 5.0000e+01, -3.6236e+00],\n",
       "         [ 5.1000e+01, -4.8129e+00],\n",
       "         [ 5.2000e+01, -4.4202e+00],\n",
       "         [ 5.3000e+01, -4.6647e+00],\n",
       "         [ 5.4000e+01, -3.1715e+00],\n",
       "         [ 5.5000e+01, -1.0708e+00],\n",
       "         [ 5.6000e+01, -2.7010e+00],\n",
       "         [ 5.7000e+01, -3.0604e+00],\n",
       "         [ 5.8000e+01, -3.3568e+00],\n",
       "         [ 5.9000e+01, -1.9489e+00],\n",
       "         [ 6.0000e+01, -3.0863e+00]]))"
      ]
     },
     "execution_count": 29,
     "metadata": {},
     "output_type": "execute_result"
    }
   ],
   "source": [
    "graph_node_counts,time_edge_index, torch.cat([torch.arange(x.shape[0]).view(-1,1),x[:,1].view(-1,1)*10],dim=1)"
   ]
  },
  {
   "cell_type": "code",
   "execution_count": 30,
   "metadata": {},
   "outputs": [],
   "source": [
    "edge_attr = fc.edge_feature_constructor(x, time_edge_index)"
   ]
  },
  {
   "cell_type": "code",
   "execution_count": 31,
   "metadata": {},
   "outputs": [
    {
     "data": {
      "text/plain": [
       "(torch.Size([61, 6]), torch.Size([61, 5]))"
      ]
     },
     "execution_count": 31,
     "metadata": {},
     "output_type": "execute_result"
    }
   ],
   "source": [
    "edge_attr.shape, x.shape"
   ]
  },
  {
   "cell_type": "code",
   "execution_count": 35,
   "metadata": {
    "scrolled": false
   },
   "outputs": [
    {
     "data": {
      "text/plain": [
       "torch.Size([61, 16])"
      ]
     },
     "execution_count": 35,
     "metadata": {},
     "output_type": "execute_result"
    }
   ],
   "source": [
    "torch.cat([x,edge_attr,x[time_edge_index[0]]],dim=1).shape"
   ]
  },
  {
   "cell_type": "code",
   "execution_count": 12,
   "metadata": {},
   "outputs": [
    {
     "data": {
      "text/plain": [
       "tensor([[0.0000e+00, 0.0000e+00],\n",
       "        [0.0000e+00, 0.0000e+00],\n",
       "        [0.0000e+00, 0.0000e+00],\n",
       "        [2.6302e+20, 6.1943e-04],\n",
       "        [7.2056e+22, 2.1720e+29],\n",
       "        [1.8057e+28, 9.9016e-03],\n",
       "        [4.3988e+21, 1.8524e+28],\n",
       "        [2.4715e+20, 1.0395e+21],\n",
       "        [2.5150e+32, 1.8465e+25],\n",
       "        [2.4343e+02, 1.9283e+31]])"
      ]
     },
     "execution_count": 12,
     "metadata": {},
     "output_type": "execute_result"
    }
   ],
   "source": [
    "# torch.cat([torch.arange(dat.x.shape[0]).view(1,-1),dat.batch.view(1,-1)],dim=0)\n",
    "torch.empty((10,2))"
   ]
  },
  {
   "cell_type": "code",
   "execution_count": 38,
   "metadata": {},
   "outputs": [
    {
     "data": {
      "text/plain": [
       "tensor([[ 0.2686, -1.4483, -1.3319],\n",
       "        [ 1.3573, -0.2679, -1.0197],\n",
       "        [-1.1871,  0.3860, -0.2328],\n",
       "        ...,\n",
       "        [-0.0171, -0.0691, -0.5840],\n",
       "        [-0.5183, -1.0159,  0.7733],\n",
       "        [ 0.1657,  1.9409,  0.0758]])"
      ]
     },
     "execution_count": 38,
     "metadata": {},
     "output_type": "execute_result"
    }
   ],
   "source": [
    "#src_minus_mean = (src - mean.gather(dim, index))\n",
    "# dat.batch, dat\n",
    "# dat.x[:,-3:]\n",
    "# dat.x[:,0].gather(0,dat.batch).view(-1,1)\n",
    "from torch_scatter import scatter_sum\n",
    "scatter_sum(dat.x[:,-3:]*dat.x[:,0].view(-1,1),dat.batch,0)/scatter_sum(dat.x[:,0].view(-1,1),dat.batch,0)"
   ]
  },
  {
   "cell_type": "code",
   "execution_count": 37,
   "metadata": {},
   "outputs": [],
   "source": [
    "model = Net()"
   ]
  },
  {
   "cell_type": "code",
   "execution_count": 51,
   "metadata": {},
   "outputs": [
    {
     "data": {
      "text/plain": [
       "(tensor(15203), tensor(15203))"
      ]
     },
     "execution_count": 51,
     "metadata": {},
     "output_type": "execute_result"
    }
   ],
   "source": [
    "(e[0] == e[1]).sum(), (dat.edge_index[0] == dat.edge_index[1]).sum()"
   ]
  },
  {
   "cell_type": "code",
   "execution_count": 52,
   "metadata": {},
   "outputs": [
    {
     "data": {
      "text/plain": [
       "Batch(batch=[15203], edge_attr=[135835, 6], edge_index=[2, 135835], pos=[15203, 3], x=[15203, 5], y=[512, 1])"
      ]
     },
     "execution_count": 52,
     "metadata": {},
     "output_type": "execute_result"
    }
   ],
   "source": [
    "dat"
   ]
  },
  {
   "cell_type": "code",
   "execution_count": 40,
   "metadata": {
    "scrolled": false
   },
   "outputs": [
    {
     "data": {
      "text/plain": [
       "tensor([1])"
      ]
     },
     "execution_count": 40,
     "metadata": {},
     "output_type": "execute_result"
    }
   ],
   "source": [
    "u, counts = torch.unique(e[0,e[0] == e[1]],return_counts = True)\n",
    "torch.unique(counts)"
   ]
  },
  {
   "cell_type": "code",
   "execution_count": 70,
   "metadata": {},
   "outputs": [
    {
     "data": {
      "text/plain": [
       "(tensor([[    1,     2,     3,  ..., 15200, 15201, 15202],\n",
       "         [    0,     0,     0,  ..., 15200, 15201, 15202]]),\n",
       " tensor([[    0,     0,     0,  ..., 15200, 15201, 15202],\n",
       "         [    0,     3,     6,  ..., 15194, 15193, 15202]]))"
      ]
     },
     "execution_count": 70,
     "metadata": {},
     "output_type": "execute_result"
    }
   ],
   "source": [
    "e, dat.edge_index[:,torch.argsort(dat.edge_index[1,torch.argsort(dat.edge_index[0])])]"
   ]
  },
  {
   "cell_type": "code",
   "execution_count": 77,
   "metadata": {},
   "outputs": [
    {
     "data": {
      "text/plain": [
       "(tensor([[ 1,  2,  3,  4,  5,  6,  0,  2,  3,  4,  5,  6,  0,  1,  3,  4,  5,  6,\n",
       "           7,  8,  0,  1,  2,  4,  5,  6,  7,  8,  0,  1,  2,  3,  5,  6,  7,  8,\n",
       "           0,  1,  2,  3,  4,  7,  8,  0,  1,  2,  3,  4,  7,  8,  2,  3,  4,  5,\n",
       "           6,  8,  2,  3,  4,  5,  6,  7, 10, 11, 12, 13, 14, 15,  9, 11, 12, 13,\n",
       "          14, 15,  9, 10, 12, 13, 14, 15,  9, 10, 11, 13, 14, 15,  9, 10, 11, 12,\n",
       "          14, 15,  9, 10, 11, 12, 13, 15,  9, 10],\n",
       "         [ 0,  0,  0,  0,  0,  0,  1,  1,  1,  1,  1,  1,  2,  2,  2,  2,  2,  2,\n",
       "           2,  2,  3,  3,  3,  3,  3,  3,  3,  3,  4,  4,  4,  4,  4,  4,  4,  4,\n",
       "           5,  5,  5,  5,  5,  5,  5,  6,  6,  6,  6,  6,  6,  6,  7,  7,  7,  7,\n",
       "           7,  7,  8,  8,  8,  8,  8,  8,  9,  9,  9,  9,  9,  9, 10, 10, 10, 10,\n",
       "          10, 10, 11, 11, 11, 11, 11, 11, 12, 12, 12, 12, 12, 12, 13, 13, 13, 13,\n",
       "          13, 13, 14, 14, 14, 14, 14, 14, 15, 15]]),\n",
       " tensor([[ 0,  1,  2,  3,  4,  5,  6,  0,  1,  2,  3,  4,  5,  6,  0,  1,  2,  3,\n",
       "           4,  5,  6,  7,  8,  0,  1,  2,  3,  4,  5,  6,  7,  8,  0,  1,  2,  3,\n",
       "           4,  5,  6,  7,  8,  0,  1,  2,  3,  4,  5,  7,  8,  0,  1,  2,  3,  4,\n",
       "           6,  7,  8,  2,  3,  4,  5,  6,  7,  8,  2,  3,  4,  5,  6,  7,  8,  9,\n",
       "          10, 11, 12, 13, 14, 15,  9, 10, 11, 12, 13, 14, 15,  9, 10, 11, 12, 13,\n",
       "          14, 15,  9, 10, 11, 12, 13, 14, 15,  9],\n",
       "         [ 0,  0,  0,  0,  0,  0,  0,  1,  1,  1,  1,  1,  1,  1,  2,  2,  2,  2,\n",
       "           2,  2,  2,  2,  2,  3,  3,  3,  3,  3,  3,  3,  3,  3,  4,  4,  4,  4,\n",
       "           4,  4,  4,  4,  4,  5,  5,  5,  5,  5,  5,  5,  5,  6,  6,  6,  6,  6,\n",
       "           6,  6,  6,  7,  7,  7,  7,  7,  7,  7,  8,  8,  8,  8,  8,  8,  8,  9,\n",
       "           9,  9,  9,  9,  9,  9, 10, 10, 10, 10, 10, 10, 10, 11, 11, 11, 11, 11,\n",
       "          11, 11, 12, 12, 12, 12, 12, 12, 12, 13]]))"
      ]
     },
     "execution_count": 77,
     "metadata": {},
     "output_type": "execute_result"
    }
   ],
   "source": [
    "e[:,:100], dat.edge_index[:,:100]"
   ]
  },
  {
   "cell_type": "code",
   "execution_count": 107,
   "metadata": {},
   "outputs": [
    {
     "data": {
      "text/plain": [
       "tensor(True)"
      ]
     },
     "execution_count": 107,
     "metadata": {},
     "output_type": "execute_result"
    }
   ],
   "source": [
    "(x[1] != dat.edge_index).sum() == 0"
   ]
  },
  {
   "cell_type": "code",
   "execution_count": 105,
   "metadata": {
    "scrolled": false
   },
   "outputs": [],
   "source": [
    "x = model(dat)"
   ]
  },
  {
   "cell_type": "code",
   "execution_count": 40,
   "metadata": {
    "scrolled": false
   },
   "outputs": [
    {
     "name": "stderr",
     "output_type": "stream",
     "text": [
      "GPU available: True, used: True\n",
      "TPU available: None, using: 0 TPU cores\n"
     ]
    }
   ],
   "source": [
    "trainer =  pl.Trainer(gpus=-1, #-1 for all gpus\n",
    "                      min_epochs=1,\n",
    "                      max_epochs=20,\n",
    "                      auto_lr_find = False,\n",
    "#                       log_every_n_steps = 5,\n",
    "                      terminate_on_nan = True,\n",
    "#                       resume_from_checkpoint = path + '/checkpoints/' + 'TGCN_latest.ckpt',\n",
    "                      logger = False,\n",
    "                      default_root_dir = path)"
   ]
  },
  {
   "cell_type": "code",
   "execution_count": 41,
   "metadata": {
    "scrolled": true
   },
   "outputs": [
    {
     "name": "stderr",
     "output_type": "stream",
     "text": [
      "\n",
      "  | Name        | Type       | Params\n",
      "-------------------------------------------\n",
      "0 | act         | SiLU       | 0     \n",
      "1 | x_encoder   | Linear     | 480   \n",
      "2 | CoC_encoder | Linear     | 1.9 K \n",
      "3 | GRUCells    | ModuleList | 19.9 K\n",
      "4 | lins1       | ModuleList | 32.4 K\n",
      "5 | lins2       | ModuleList | 6.5 K \n",
      "6 | lins3       | ModuleList | 2.6 K \n",
      "7 | decoders    | ModuleList | 544   \n",
      "8 | decoder     | Linear     | 17    \n",
      "-------------------------------------------\n",
      "64.4 K    Trainable params\n",
      "0         Non-trainable params\n",
      "64.4 K    Total params\n",
      "0.258     Total estimated model params size (MB)\n"
     ]
    },
    {
     "data": {
      "application/vnd.jupyter.widget-view+json": {
       "model_id": "",
       "version_major": 2,
       "version_minor": 0
      },
      "text/plain": [
       "HBox(children=(FloatProgress(value=1.0, bar_style='info', description='Validation sanity check', layout=Layout…"
      ]
     },
     "metadata": {},
     "output_type": "display_data"
    },
    {
     "name": "stdout",
     "output_type": "stream",
     "text": [
      "\r"
     ]
    },
    {
     "data": {
      "application/vnd.jupyter.widget-view+json": {
       "model_id": "bef29dd1c21541b082d808d4efc0ac7d",
       "version_major": 2,
       "version_minor": 0
      },
      "text/plain": [
       "HBox(children=(FloatProgress(value=1.0, bar_style='info', description='Training', layout=Layout(flex='2'), max…"
      ]
     },
     "metadata": {},
     "output_type": "display_data"
    },
    {
     "data": {
      "application/vnd.jupyter.widget-view+json": {
       "model_id": "",
       "version_major": 2,
       "version_minor": 0
      },
      "text/plain": [
       "HBox(children=(FloatProgress(value=1.0, bar_style='info', description='Validating', layout=Layout(flex='2'), m…"
      ]
     },
     "metadata": {},
     "output_type": "display_data"
    },
    {
     "data": {
      "application/vnd.jupyter.widget-view+json": {
       "model_id": "",
       "version_major": 2,
       "version_minor": 0
      },
      "text/plain": [
       "HBox(children=(FloatProgress(value=1.0, bar_style='info', description='Validating', layout=Layout(flex='2'), m…"
      ]
     },
     "metadata": {},
     "output_type": "display_data"
    },
    {
     "data": {
      "application/vnd.jupyter.widget-view+json": {
       "model_id": "",
       "version_major": 2,
       "version_minor": 0
      },
      "text/plain": [
       "HBox(children=(FloatProgress(value=1.0, bar_style='info', description='Validating', layout=Layout(flex='2'), m…"
      ]
     },
     "metadata": {},
     "output_type": "display_data"
    },
    {
     "data": {
      "application/vnd.jupyter.widget-view+json": {
       "model_id": "",
       "version_major": 2,
       "version_minor": 0
      },
      "text/plain": [
       "HBox(children=(FloatProgress(value=1.0, bar_style='info', description='Validating', layout=Layout(flex='2'), m…"
      ]
     },
     "metadata": {},
     "output_type": "display_data"
    },
    {
     "data": {
      "application/vnd.jupyter.widget-view+json": {
       "model_id": "",
       "version_major": 2,
       "version_minor": 0
      },
      "text/plain": [
       "HBox(children=(FloatProgress(value=1.0, bar_style='info', description='Validating', layout=Layout(flex='2'), m…"
      ]
     },
     "metadata": {},
     "output_type": "display_data"
    },
    {
     "data": {
      "application/vnd.jupyter.widget-view+json": {
       "model_id": "",
       "version_major": 2,
       "version_minor": 0
      },
      "text/plain": [
       "HBox(children=(FloatProgress(value=1.0, bar_style='info', description='Validating', layout=Layout(flex='2'), m…"
      ]
     },
     "metadata": {},
     "output_type": "display_data"
    },
    {
     "data": {
      "application/vnd.jupyter.widget-view+json": {
       "model_id": "",
       "version_major": 2,
       "version_minor": 0
      },
      "text/plain": [
       "HBox(children=(FloatProgress(value=1.0, bar_style='info', description='Validating', layout=Layout(flex='2'), m…"
      ]
     },
     "metadata": {},
     "output_type": "display_data"
    },
    {
     "data": {
      "application/vnd.jupyter.widget-view+json": {
       "model_id": "",
       "version_major": 2,
       "version_minor": 0
      },
      "text/plain": [
       "HBox(children=(FloatProgress(value=1.0, bar_style='info', description='Validating', layout=Layout(flex='2'), m…"
      ]
     },
     "metadata": {},
     "output_type": "display_data"
    },
    {
     "data": {
      "application/vnd.jupyter.widget-view+json": {
       "model_id": "",
       "version_major": 2,
       "version_minor": 0
      },
      "text/plain": [
       "HBox(children=(FloatProgress(value=1.0, bar_style='info', description='Validating', layout=Layout(flex='2'), m…"
      ]
     },
     "metadata": {},
     "output_type": "display_data"
    },
    {
     "data": {
      "application/vnd.jupyter.widget-view+json": {
       "model_id": "",
       "version_major": 2,
       "version_minor": 0
      },
      "text/plain": [
       "HBox(children=(FloatProgress(value=1.0, bar_style='info', description='Validating', layout=Layout(flex='2'), m…"
      ]
     },
     "metadata": {},
     "output_type": "display_data"
    },
    {
     "name": "stdout",
     "output_type": "stream",
     "text": [
      "\n"
     ]
    },
    {
     "data": {
      "text/plain": [
       "1"
      ]
     },
     "execution_count": 41,
     "metadata": {},
     "output_type": "execute_result"
    }
   ],
   "source": [
    "trainer.fit(model,train_loader,val_loader)"
   ]
  },
  {
   "cell_type": "code",
   "execution_count": 55,
   "metadata": {},
   "outputs": [
    {
     "name": "stdout",
     "output_type": "stream",
     "text": [
      "2021-02-25 20:34:47.410588: loading data..\n",
      "2021-02-25 20:34:48.780944: executing target constructor..\n",
      "2021-02-25 20:34:48.782944: executing feature constructor..\n",
      "2021-02-25 20:34:58.048015: shuffling dataset..\n",
      "2021-02-25 20:34:58.088001: defining dataloaders..\n",
      "2021-02-25 20:34:58.089001: Done!\n"
     ]
    }
   ],
   "source": [
    "filename = 'muon_100k_set12_SRT.pt'\n",
    "\n",
    "test_dataset, _, test_loader, _ = fc.dataset_preparator(name = filename,\n",
    "                                                        path = filepath,\n",
    "                                                        transformer = transformer,\n",
    "                                                        tc = E_target_constructor,\n",
    "                                                        fc = fc.custom_feature_constructor,\n",
    "                                                        shuffle = True,\n",
    "                                                        TrTV_split = (0,1,1),\n",
    "                                                        batch_size = 512)"
   ]
  },
  {
   "cell_type": "code",
   "execution_count": 80,
   "metadata": {},
   "outputs": [],
   "source": [
    "trainer.save_checkpoint(path + '/checkpoints/' + 'TGCN_latest.ckpt')"
   ]
  },
  {
   "cell_type": "code",
   "execution_count": 81,
   "metadata": {},
   "outputs": [],
   "source": [
    "model = Net.load_from_checkpoint(path + '/checkpoints/' +'TGCN_latest.ckpt')"
   ]
  },
  {
   "cell_type": "code",
   "execution_count": 83,
   "metadata": {},
   "outputs": [
    {
     "name": "stderr",
     "output_type": "stream",
     "text": [
      "Batch: 100%|█████████████████████████████████| 196/196 [01:58<00:00,  2.00it/s]"
     ]
    }
   ],
   "source": [
    "# pred = trainer.predict(model,test_loader)\n",
    "# pred = np.row_stack(pred)\n",
    "# truth = test_dataset.data.y.view(N_events,-1).numpy()\n",
    "\n",
    "pred, truth = fc.return_reco_truth(model,test_loader)"
   ]
  },
  {
   "cell_type": "code",
   "execution_count": 84,
   "metadata": {},
   "outputs": [
    {
     "data": {
      "text/plain": [
       "0.1904278211927414"
      ]
     },
     "execution_count": 84,
     "metadata": {},
     "output_type": "execute_result"
    }
   ],
   "source": [
    "np.mean(np.abs(pred[:,0] - truth[:,0]))"
   ]
  },
  {
   "cell_type": "code",
   "execution_count": 85,
   "metadata": {},
   "outputs": [
    {
     "data": {
      "text/plain": [
       "[<matplotlib.lines.Line2D at 0x25a9d767488>]"
      ]
     },
     "execution_count": 85,
     "metadata": {},
     "output_type": "execute_result"
    },
    {
     "data": {
      "image/png": "[encoded data removed]",
      "text/plain": [
       "<Figure size 432x288 with 1 Axes>"
      ]
     },
     "metadata": {
      "needs_background": "light"
     },
     "output_type": "display_data"
    }
   ],
   "source": [
    "fig, ax = plt.subplots()\n",
    "\n",
    "ax.plot(truth[:,0],pred[:,0],'b.')\n",
    "ax.plot([truth.min(),truth.max()],[truth.min(),truth.max()],'k--')"
   ]
  },
  {
   "cell_type": "code",
   "execution_count": 86,
   "metadata": {},
   "outputs": [
    {
     "data": {
      "text/plain": [
       "0.0008285714285714286"
      ]
     },
     "execution_count": 86,
     "metadata": {},
     "output_type": "execute_result"
    }
   ],
   "source": [
    "2900/3500000"
   ]
  }
 ],
 "metadata": {
  "kernelspec": {
   "display_name": "Python 3",
   "language": "python",
   "name": "python3"
  },
  "language_info": {
   "codemirror_mode": {
    "name": "ipython",
    "version": 3
   },
   "file_extension": ".py",
   "mimetype": "text/x-python",
   "name": "python",
   "nbconvert_exporter": "python",
   "pygments_lexer": "ipython3",
   "version": "3.7.6"
  }
 },
 "nbformat": 4,
 "nbformat_minor": 4
}
