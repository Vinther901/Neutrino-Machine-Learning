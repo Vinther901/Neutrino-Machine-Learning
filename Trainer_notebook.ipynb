{
 "cells": [
  {
   "cell_type": "code",
   "execution_count": 69,
   "metadata": {},
   "outputs": [],
   "source": [
    "import numpy as np\n",
    "import matplotlib.pyplot as plt\n",
    "import torch\n",
    "import pandas as pd\n",
    "import time\n",
    "import wandb\n",
    "import pytorch_lightning as pl\n",
    "\n",
    "import FunctionCollection as fc\n",
    "import importlib\n",
    "fc = importlib.reload(fc)\n",
    "import os"
   ]
  },
  {
   "cell_type": "code",
   "execution_count": 70,
   "metadata": {},
   "outputs": [],
   "source": [
    "path = r'C:\\Users\\jv97\\Desktop\\github\\Neutrino-Machine-Learning'\n",
    "\n",
    "run_name = 'oscNext_angle_m9'\n",
    "\n",
    "args = {'N_edge_feats': 6,\n",
    "        'N_dom_feats': 5,\n",
    "        'N_targets': 2,\n",
    "        'N_outputs': 4,\n",
    "        'N_metalayers': 1,\n",
    "        'N_hcs': 64,\n",
    "        'diagonal_cov': True,\n",
    "        'wandb_activated': True,\n",
    "        'type': 'twice_Polar_NLLH',\n",
    "        'zenith': True,\n",
    "        'id': wandb.util.generate_id()[:4],\n",
    "        'eps': 0,\n",
    "        'lr': 0.0209,\n",
    "        'filename': 'dev_level7_mu_e_tau_oscweight_000_unscaled.db',#dev_level7_mu_e_tau_oscweight_000.db #rasmus_classification_muon_3neutrino_3mio.db #dev_level7_oscNext_IC86_003.db\n",
    "        'features': 'charge_log10, dom_time, dom_x, dom_y, dom_z',\n",
    "        'targets': 'azimuth, zenith',\n",
    "        'TrTV': (0.025,0.995,1)\n",
    "       }"
   ]
  },
  {
   "cell_type": "code",
   "execution_count": 71,
   "metadata": {
    "scrolled": false
   },
   "outputs": [
    {
     "data": {
      "text/plain": [
       "-0.033858261664001306"
      ]
     },
     "execution_count": 71,
     "metadata": {},
     "output_type": "execute_result"
    }
   ],
   "source": [
    "tf = pd.read_pickle(r'C:\\Users\\jv97\\Desktop\\github\\Neutrino-Machine-Learning\\datasets\\transformers.pkl')\n",
    "time_center, time_scale = tf['features']['time'].center_[0], tf['features']['time'].scale_[0]\n",
    "charge_center, charge_scale = tf['features']['charge_log10'].center_[0], tf['features']['charge_log10'].scale_[0]\n",
    "charge_center"
   ]
  },
  {
   "cell_type": "code",
   "execution_count": 75,
   "metadata": {
    "scrolled": false
   },
   "outputs": [],
   "source": [
    "filepath = os.path.join(path,'raw_data/dev_level7_mu_e_tau_oscweight_000/data')\n",
    "# tf = pd.read_pickle(r'C:\\Users\\jv97\\Desktop\\github\\Neutrino-Machine-Learning\\datasets\\transformers.pkl')\n",
    "# tf = pd.read_pickle(r'C:\\Users\\jv97\\Desktop\\github\\Neutrino-Machine-Learning\\raw_data\\dev_level7_mu_e_tau_oscweight_000\\data\\meta\\transformers.pkl')\n",
    "# event_nos = pd.read_pickle(r'C:\\Users\\jv97\\Desktop\\github\\Neutrino-Machine-Learning\\datasets\\event_nos_500k_muon_set1.pkl').values.reshape(-1)\n",
    "\n",
    "# def x_transform(df):\n",
    "#     pos = ['dom_x','dom_y','dom_z']\n",
    "#     for col in pos:\n",
    "#         df[col] = tf['features'][col].inverse_transform(df[[col]])\n",
    "#     df[pos] /= 300\n",
    "#     return torch.tensor(df.values)\n",
    "# def y_transform(df):\n",
    "#     for col in df.columns:\n",
    "#         df[col] = tf['truth'][col].inverse_transform(df[[col]])\n",
    "#     return torch.tensor(df.values)\n",
    "\n",
    "def x_transform(df):\n",
    "    df['charge_log10'] = (df['charge_log10'] - charge_center)/charge_scale\n",
    "    df['dom_time'] = (df['dom_time'] - time_center)/time_scale\n",
    "    df[['dom_x','dom_y','dom_z']] /= 300\n",
    "    return torch.tensor(df.values)\n",
    "def y_transform(df):\n",
    "    return torch.tensor(df.values)\n",
    "\n",
    "\n",
    "\n",
    "dataset = fc.custom_db_dataset(filepath = filepath,\n",
    "                               filename = args['filename'],\n",
    "                               features = args['features'],\n",
    "                               targets = args['targets'],\n",
    "                               TrTV = args['TrTV'],\n",
    "#                                event_nos = event_nos,\n",
    "                               x_transform = x_transform,\n",
    "                               y_transform = y_transform,\n",
    "                               shuffle = True)"
   ]
  },
  {
   "cell_type": "code",
   "execution_count": 76,
   "metadata": {
    "scrolled": false
   },
   "outputs": [],
   "source": [
    "train_loader, test_loader, val_loader = dataset.return_dataloaders(batch_size=512) #~0.6sec loading time pr. batch"
   ]
  },
  {
   "cell_type": "code",
   "execution_count": 78,
   "metadata": {},
   "outputs": [
    {
     "name": "stdout",
     "output_type": "stream",
     "text": [
      "Remember all accuracies are positive and defined to go towards 0 in the optimal case.\n"
     ]
    }
   ],
   "source": [
    "import Model_Loaders.Model_9 as M\n",
    "M = importlib.reload(M)\n",
    "\n",
    "Net = M.Load_model(args['type'],args)\n",
    "model = Net()"
   ]
  },
  {
   "cell_type": "code",
   "execution_count": 79,
   "metadata": {},
   "outputs": [
    {
     "name": "stderr",
     "output_type": "stream",
     "text": [
      "GPU available: True, used: True\n",
      "TPU available: None, using: 0 TPU cores\n"
     ]
    }
   ],
   "source": [
    "trainer, wandb_logger = fc.return_trainer(path = path,\n",
    "                                          run_name = run_name,\n",
    "                                          args = args,\n",
    "#                                           ckpt = run_name + '_latest.ckpt'\n",
    "                                          )"
   ]
  },
  {
   "cell_type": "code",
   "execution_count": 52,
   "metadata": {
    "scrolled": false
   },
   "outputs": [
    {
     "name": "stderr",
     "output_type": "stream",
     "text": [
      "\n",
      "   | Name                | Type       | Params\n",
      "----------------------------------------------------\n",
      "0  | act                 | SiLU       | 0     \n",
      "1  | x_encoder           | Linear     | 2.9 K \n",
      "2  | CoC_encoder         | Linear     | 11.5 K\n",
      "3  | GRUCells            | ModuleList | 37.2 K\n",
      "4  | lins_CoC_msg        | ModuleList | 16.4 K\n",
      "5  | lins_CoC_self       | ModuleList | 4.2 K \n",
      "6  | CoC_batch_norm      | ModuleList | 128   \n",
      "7  | lins_x_msg          | ModuleList | 4.2 K \n",
      "8  | lins_x_self         | ModuleList | 4.2 K \n",
      "9  | x_batch_norm        | ModuleList | 128   \n",
      "10 | decoders            | ModuleList | 24.7 K\n",
      "11 | decoder_batch_norms | ModuleList | 256   \n",
      "12 | decoder             | Linear     | 260   \n",
      "----------------------------------------------------\n",
      "106 K     Trainable params\n",
      "0         Non-trainable params\n",
      "106 K     Total params\n",
      "0.424     Total estimated model params size (MB)\n"
     ]
    },
    {
     "data": {
      "application/vnd.jupyter.widget-view+json": {
       "model_id": "db5a60c31e5743d78a6dc6137ee08db4",
       "version_major": 2,
       "version_minor": 0
      },
      "text/plain": [
       "HBox(children=(FloatProgress(value=0.0, description='Finding best initial lr', max=200.0, style=ProgressStyle(…"
      ]
     },
     "metadata": {},
     "output_type": "display_data"
    },
    {
     "name": "stderr",
     "output_type": "stream",
     "text": [
      "LR finder stopped early due to diverging loss.\n",
      "Restored states from the checkpoint file at C:\\Users\\jv97\\Desktop\\github\\Neutrino-Machine-Learning\\lr_find_temp_model.ckpt\n"
     ]
    },
    {
     "name": "stdout",
     "output_type": "stream",
     "text": [
      "\n"
     ]
    },
    {
     "data": {
      "image/png": "[encoded data removed]",
      "text/plain": [
       "<Figure size 432x288 with 1 Axes>"
      ]
     },
     "metadata": {
      "needs_background": "light"
     },
     "output_type": "display_data"
    },
    {
     "name": "stderr",
     "output_type": "stream",
     "text": [
      "GPU available: True, used: True\n",
      "TPU available: None, using: 0 TPU cores\n"
     ]
    },
    {
     "name": "stdout",
     "output_type": "stream",
     "text": [
      "0.02089296130854041\n",
      "Remember all accuracies are positive and defined to go towards 0 in the optimal case.\n"
     ]
    }
   ],
   "source": [
    "lr_finder = trainer.tuner.lr_find(model,train_loader,val_loader,max_lr=1,num_training=200,mode='exponential',early_stop_threshold=4)\n",
    "\n",
    "fig = lr_finder.plot(True,True)\n",
    "print(lr_finder.suggestion())\n",
    "\n",
    "args['lr'] = lr_finder.suggestion()\n",
    "Net = M.Load_model(args['type'],args)\n",
    "model = Net()\n",
    "trainer, wandb_logger = fc.return_trainer(path = path,\n",
    "                                          run_name = run_name,\n",
    "                                          args = args,)"
   ]
  },
  {
   "cell_type": "code",
   "execution_count": 80,
   "metadata": {},
   "outputs": [
    {
     "name": "stderr",
     "output_type": "stream",
     "text": [
      "wandb: Currently logged in as: vinther901 (use `wandb login --relogin` to force relogin)\n",
      "wandb: wandb version 0.10.22 is available!  To upgrade, please run:\n",
      "wandb:  $ pip install wandb --upgrade\n"
     ]
    },
    {
     "data": {
      "text/html": [
       "\n",
       "                Tracking run with wandb version 0.10.19<br/>\n",
       "                Syncing run <strong style=\"color:#cdcd00\">oscNext_angle_m9</strong> to <a href=\"https://wandb.ai\" target=\"_blank\">Weights & Biases</a> <a href=\"https://docs.wandb.com/integrations/jupyter.html\" target=\"_blank\">(Documentation)</a>.<br/>\n",
       "                Project page: <a href=\"https://wandb.ai/vinther901/Neutrino-Machine-Learning\" target=\"_blank\">https://wandb.ai/vinther901/Neutrino-Machine-Learning</a><br/>\n",
       "                Run page: <a href=\"https://wandb.ai/vinther901/Neutrino-Machine-Learning/runs/oscNext_angle_m9_2vr5\" target=\"_blank\">https://wandb.ai/vinther901/Neutrino-Machine-Learning/runs/oscNext_angle_m9_2vr5</a><br/>\n",
       "                Run data is saved locally in <code>C:\\Users\\jv97\\Desktop\\github\\Neutrino-Machine-Learning\\wandb\\run-20210317_144531-oscNext_angle_m9_2vr5</code><br/><br/>\n",
       "            "
      ],
      "text/plain": [
       "<IPython.core.display.HTML object>"
      ]
     },
     "metadata": {},
     "output_type": "display_data"
    }
   ],
   "source": [
    "wandb_logger.experiment.config.update(args)\n",
    "# wandb_logger.watch(model)\n",
    "wandb_logger.experiment.log({f'lr finder, lr={lr_finder.suggestion()}': wandb.Image(fig)})"
   ]
  },
  {
   "cell_type": "code",
   "execution_count": 81,
   "metadata": {
    "scrolled": false
   },
   "outputs": [
    {
     "name": "stderr",
     "output_type": "stream",
     "text": [
      "\n",
      "   | Name                | Type       | Params\n",
      "----------------------------------------------------\n",
      "0  | act                 | SiLU       | 0     \n",
      "1  | x_encoder           | Linear     | 2.9 K \n",
      "2  | CoC_encoder         | Linear     | 11.5 K\n",
      "3  | GRUCells            | ModuleList | 37.2 K\n",
      "4  | lins_CoC_msg        | ModuleList | 16.4 K\n",
      "5  | lins_CoC_self       | ModuleList | 4.2 K \n",
      "6  | CoC_batch_norm      | ModuleList | 128   \n",
      "7  | lins_x_msg          | ModuleList | 4.2 K \n",
      "8  | lins_x_self         | ModuleList | 4.2 K \n",
      "9  | x_batch_norm        | ModuleList | 128   \n",
      "10 | decoders            | ModuleList | 24.7 K\n",
      "11 | decoder_batch_norms | ModuleList | 256   \n",
      "12 | decoder             | Linear     | 260   \n",
      "----------------------------------------------------\n",
      "106 K     Trainable params\n",
      "0         Non-trainable params\n",
      "106 K     Total params\n",
      "0.424     Total estimated model params size (MB)\n"
     ]
    },
    {
     "data": {
      "application/vnd.jupyter.widget-view+json": {
       "model_id": "fb0e481f97474ff3b19a53b56d5cf031",
       "version_major": 2,
       "version_minor": 0
      },
      "text/plain": [
       "HBox(children=(FloatProgress(value=1.0, bar_style='info', description='Training', layout=Layout(flex='2'), max…"
      ]
     },
     "metadata": {},
     "output_type": "display_data"
    },
    {
     "name": "stderr",
     "output_type": "stream",
     "text": [
      "C:\\Users\\jv97\\anaconda3\\lib\\site-packages\\pytorch_lightning\\utilities\\distributed.py:50: UserWarning: Trying to log at a previous step. Use `WandbLogger(sync_step=False)` or try logging with `commit=False` when calling manually `wandb.log`.\n",
      "  warnings.warn(*args, **kwargs)\n",
      "wandb: WARNING Step must only increase in log calls.  Step 0 < 1; dropping {'lr-Adam': 0.001045}.\n"
     ]
    },
    {
     "data": {
      "application/vnd.jupyter.widget-view+json": {
       "model_id": "",
       "version_major": 2,
       "version_minor": 0
      },
      "text/plain": [
       "HBox(children=(FloatProgress(value=1.0, bar_style='info', description='Validating', layout=Layout(flex='2'), m…"
      ]
     },
     "metadata": {},
     "output_type": "display_data"
    },
    {
     "name": "stderr",
     "output_type": "stream",
     "text": [
      "Epoch 0, global step 397: Val Acc reached 1.18663 (best 1.18663), saving model to \"C:\\Users\\jv97\\Desktop\\github\\Neutrino-Machine-Learning\\checkpoints\\oscNext_angle_m9_2vr5\\oscNext_angle_m9-epoch=0-Val Acc=1.187.ckpt\" as top 1\n",
      "C:\\Users\\jv97\\anaconda3\\lib\\site-packages\\torch\\optim\\lr_scheduler.py:216: UserWarning: Please also save or load the state of the optimizer when saving or loading the scheduler.\n",
      "  warnings.warn(SAVE_STATE_WARNING, UserWarning)\n"
     ]
    },
    {
     "data": {
      "application/vnd.jupyter.widget-view+json": {
       "model_id": "",
       "version_major": 2,
       "version_minor": 0
      },
      "text/plain": [
       "HBox(children=(FloatProgress(value=1.0, bar_style='info', description='Validating', layout=Layout(flex='2'), m…"
      ]
     },
     "metadata": {},
     "output_type": "display_data"
    },
    {
     "name": "stderr",
     "output_type": "stream",
     "text": [
      "Epoch 1, global step 795: Val Acc reached 1.16074 (best 1.16074), saving model to \"C:\\Users\\jv97\\Desktop\\github\\Neutrino-Machine-Learning\\checkpoints\\oscNext_angle_m9_2vr5\\oscNext_angle_m9-epoch=1-Val Acc=1.161.ckpt\" as top 1\n"
     ]
    },
    {
     "data": {
      "application/vnd.jupyter.widget-view+json": {
       "model_id": "",
       "version_major": 2,
       "version_minor": 0
      },
      "text/plain": [
       "HBox(children=(FloatProgress(value=1.0, bar_style='info', description='Validating', layout=Layout(flex='2'), m…"
      ]
     },
     "metadata": {},
     "output_type": "display_data"
    },
    {
     "name": "stderr",
     "output_type": "stream",
     "text": [
      "Epoch 2, global step 1193: Val Acc reached 1.13631 (best 1.13631), saving model to \"C:\\Users\\jv97\\Desktop\\github\\Neutrino-Machine-Learning\\checkpoints\\oscNext_angle_m9_2vr5\\oscNext_angle_m9-epoch=2-Val Acc=1.136.ckpt\" as top 1\n"
     ]
    },
    {
     "data": {
      "application/vnd.jupyter.widget-view+json": {
       "model_id": "",
       "version_major": 2,
       "version_minor": 0
      },
      "text/plain": [
       "HBox(children=(FloatProgress(value=1.0, bar_style='info', description='Validating', layout=Layout(flex='2'), m…"
      ]
     },
     "metadata": {},
     "output_type": "display_data"
    },
    {
     "name": "stderr",
     "output_type": "stream",
     "text": [
      "Epoch 3, global step 1591: Val Acc reached 1.11234 (best 1.11234), saving model to \"C:\\Users\\jv97\\Desktop\\github\\Neutrino-Machine-Learning\\checkpoints\\oscNext_angle_m9_2vr5\\oscNext_angle_m9-epoch=3-Val Acc=1.112.ckpt\" as top 1\n"
     ]
    },
    {
     "data": {
      "application/vnd.jupyter.widget-view+json": {
       "model_id": "",
       "version_major": 2,
       "version_minor": 0
      },
      "text/plain": [
       "HBox(children=(FloatProgress(value=1.0, bar_style='info', description='Validating', layout=Layout(flex='2'), m…"
      ]
     },
     "metadata": {},
     "output_type": "display_data"
    },
    {
     "name": "stderr",
     "output_type": "stream",
     "text": [
      "Epoch 4, step 1989: Val Acc was not in top 1\n"
     ]
    },
    {
     "data": {
      "application/vnd.jupyter.widget-view+json": {
       "model_id": "",
       "version_major": 2,
       "version_minor": 0
      },
      "text/plain": [
       "HBox(children=(FloatProgress(value=1.0, bar_style='info', description='Validating', layout=Layout(flex='2'), m…"
      ]
     },
     "metadata": {},
     "output_type": "display_data"
    },
    {
     "name": "stderr",
     "output_type": "stream",
     "text": [
      "Epoch 5, global step 2387: Val Acc reached 1.07197 (best 1.07197), saving model to \"C:\\Users\\jv97\\Desktop\\github\\Neutrino-Machine-Learning\\checkpoints\\oscNext_angle_m9_2vr5\\oscNext_angle_m9-epoch=5-Val Acc=1.072.ckpt\" as top 1\n"
     ]
    },
    {
     "data": {
      "application/vnd.jupyter.widget-view+json": {
       "model_id": "",
       "version_major": 2,
       "version_minor": 0
      },
      "text/plain": [
       "HBox(children=(FloatProgress(value=1.0, bar_style='info', description='Validating', layout=Layout(flex='2'), m…"
      ]
     },
     "metadata": {},
     "output_type": "display_data"
    },
    {
     "name": "stderr",
     "output_type": "stream",
     "text": [
      "Epoch 6, global step 2785: Val Acc reached 0.81293 (best 0.81293), saving model to \"C:\\Users\\jv97\\Desktop\\github\\Neutrino-Machine-Learning\\checkpoints\\oscNext_angle_m9_2vr5\\oscNext_angle_m9-epoch=6-Val Acc=0.813.ckpt\" as top 1\n"
     ]
    },
    {
     "data": {
      "application/vnd.jupyter.widget-view+json": {
       "model_id": "",
       "version_major": 2,
       "version_minor": 0
      },
      "text/plain": [
       "HBox(children=(FloatProgress(value=1.0, bar_style='info', description='Validating', layout=Layout(flex='2'), m…"
      ]
     },
     "metadata": {},
     "output_type": "display_data"
    },
    {
     "name": "stderr",
     "output_type": "stream",
     "text": [
      "Epoch 7, global step 3183: Val Acc reached 0.74850 (best 0.74850), saving model to \"C:\\Users\\jv97\\Desktop\\github\\Neutrino-Machine-Learning\\checkpoints\\oscNext_angle_m9_2vr5\\oscNext_angle_m9-epoch=7-Val Acc=0.748.ckpt\" as top 1\n"
     ]
    },
    {
     "data": {
      "application/vnd.jupyter.widget-view+json": {
       "model_id": "",
       "version_major": 2,
       "version_minor": 0
      },
      "text/plain": [
       "HBox(children=(FloatProgress(value=1.0, bar_style='info', description='Validating', layout=Layout(flex='2'), m…"
      ]
     },
     "metadata": {},
     "output_type": "display_data"
    },
    {
     "name": "stderr",
     "output_type": "stream",
     "text": [
      "Epoch 8, step 3581: Val Acc was not in top 1\n"
     ]
    },
    {
     "data": {
      "application/vnd.jupyter.widget-view+json": {
       "model_id": "",
       "version_major": 2,
       "version_minor": 0
      },
      "text/plain": [
       "HBox(children=(FloatProgress(value=1.0, bar_style='info', description='Validating', layout=Layout(flex='2'), m…"
      ]
     },
     "metadata": {},
     "output_type": "display_data"
    },
    {
     "name": "stderr",
     "output_type": "stream",
     "text": [
      "Epoch 9, global step 3979: Val Acc reached 0.73296 (best 0.73296), saving model to \"C:\\Users\\jv97\\Desktop\\github\\Neutrino-Machine-Learning\\checkpoints\\oscNext_angle_m9_2vr5\\oscNext_angle_m9-epoch=9-Val Acc=0.733.ckpt\" as top 1\n"
     ]
    },
    {
     "data": {
      "application/vnd.jupyter.widget-view+json": {
       "model_id": "",
       "version_major": 2,
       "version_minor": 0
      },
      "text/plain": [
       "HBox(children=(FloatProgress(value=1.0, bar_style='info', description='Validating', layout=Layout(flex='2'), m…"
      ]
     },
     "metadata": {},
     "output_type": "display_data"
    },
    {
     "name": "stderr",
     "output_type": "stream",
     "text": [
      "Epoch 10, global step 4377: Val Acc reached 0.69533 (best 0.69533), saving model to \"C:\\Users\\jv97\\Desktop\\github\\Neutrino-Machine-Learning\\checkpoints\\oscNext_angle_m9_2vr5\\oscNext_angle_m9-epoch=10-Val Acc=0.695.ckpt\" as top 1\n"
     ]
    },
    {
     "data": {
      "application/vnd.jupyter.widget-view+json": {
       "model_id": "",
       "version_major": 2,
       "version_minor": 0
      },
      "text/plain": [
       "HBox(children=(FloatProgress(value=1.0, bar_style='info', description='Validating', layout=Layout(flex='2'), m…"
      ]
     },
     "metadata": {},
     "output_type": "display_data"
    },
    {
     "name": "stderr",
     "output_type": "stream",
     "text": [
      "Epoch 11, global step 4775: Val Acc reached 0.68224 (best 0.68224), saving model to \"C:\\Users\\jv97\\Desktop\\github\\Neutrino-Machine-Learning\\checkpoints\\oscNext_angle_m9_2vr5\\oscNext_angle_m9-epoch=11-Val Acc=0.682.ckpt\" as top 1\n"
     ]
    },
    {
     "data": {
      "application/vnd.jupyter.widget-view+json": {
       "model_id": "",
       "version_major": 2,
       "version_minor": 0
      },
      "text/plain": [
       "HBox(children=(FloatProgress(value=1.0, bar_style='info', description='Validating', layout=Layout(flex='2'), m…"
      ]
     },
     "metadata": {},
     "output_type": "display_data"
    },
    {
     "name": "stderr",
     "output_type": "stream",
     "text": [
      "Epoch 12, step 5173: Val Acc was not in top 1\n"
     ]
    },
    {
     "data": {
      "application/vnd.jupyter.widget-view+json": {
       "model_id": "",
       "version_major": 2,
       "version_minor": 0
      },
      "text/plain": [
       "HBox(children=(FloatProgress(value=1.0, bar_style='info', description='Validating', layout=Layout(flex='2'), m…"
      ]
     },
     "metadata": {},
     "output_type": "display_data"
    },
    {
     "name": "stderr",
     "output_type": "stream",
     "text": [
      "Epoch 13, global step 5571: Val Acc reached 0.67777 (best 0.67777), saving model to \"C:\\Users\\jv97\\Desktop\\github\\Neutrino-Machine-Learning\\checkpoints\\oscNext_angle_m9_2vr5\\oscNext_angle_m9-epoch=13-Val Acc=0.678.ckpt\" as top 1\n"
     ]
    },
    {
     "data": {
      "application/vnd.jupyter.widget-view+json": {
       "model_id": "",
       "version_major": 2,
       "version_minor": 0
      },
      "text/plain": [
       "HBox(children=(FloatProgress(value=1.0, bar_style='info', description='Validating', layout=Layout(flex='2'), m…"
      ]
     },
     "metadata": {},
     "output_type": "display_data"
    },
    {
     "name": "stderr",
     "output_type": "stream",
     "text": [
      "Epoch 14, step 5969: Val Acc was not in top 1\n"
     ]
    },
    {
     "data": {
      "application/vnd.jupyter.widget-view+json": {
       "model_id": "",
       "version_major": 2,
       "version_minor": 0
      },
      "text/plain": [
       "HBox(children=(FloatProgress(value=1.0, bar_style='info', description='Validating', layout=Layout(flex='2'), m…"
      ]
     },
     "metadata": {},
     "output_type": "display_data"
    },
    {
     "name": "stderr",
     "output_type": "stream",
     "text": [
      "Epoch 15, step 6367: Val Acc was not in top 1\n"
     ]
    },
    {
     "data": {
      "application/vnd.jupyter.widget-view+json": {
       "model_id": "",
       "version_major": 2,
       "version_minor": 0
      },
      "text/plain": [
       "HBox(children=(FloatProgress(value=1.0, bar_style='info', description='Validating', layout=Layout(flex='2'), m…"
      ]
     },
     "metadata": {},
     "output_type": "display_data"
    },
    {
     "name": "stderr",
     "output_type": "stream",
     "text": [
      "Epoch 16, step 6765: Val Acc was not in top 1\n"
     ]
    },
    {
     "data": {
      "application/vnd.jupyter.widget-view+json": {
       "model_id": "",
       "version_major": 2,
       "version_minor": 0
      },
      "text/plain": [
       "HBox(children=(FloatProgress(value=1.0, bar_style='info', description='Validating', layout=Layout(flex='2'), m…"
      ]
     },
     "metadata": {},
     "output_type": "display_data"
    },
    {
     "name": "stderr",
     "output_type": "stream",
     "text": [
      "Epoch 17, global step 7163: Val Acc reached 0.67419 (best 0.67419), saving model to \"C:\\Users\\jv97\\Desktop\\github\\Neutrino-Machine-Learning\\checkpoints\\oscNext_angle_m9_2vr5\\oscNext_angle_m9-epoch=17-Val Acc=0.674.ckpt\" as top 1\n"
     ]
    },
    {
     "data": {
      "application/vnd.jupyter.widget-view+json": {
       "model_id": "",
       "version_major": 2,
       "version_minor": 0
      },
      "text/plain": [
       "HBox(children=(FloatProgress(value=1.0, bar_style='info', description='Validating', layout=Layout(flex='2'), m…"
      ]
     },
     "metadata": {},
     "output_type": "display_data"
    },
    {
     "name": "stderr",
     "output_type": "stream",
     "text": [
      "Epoch 18, global step 7561: Val Acc reached 0.66757 (best 0.66757), saving model to \"C:\\Users\\jv97\\Desktop\\github\\Neutrino-Machine-Learning\\checkpoints\\oscNext_angle_m9_2vr5\\oscNext_angle_m9-epoch=18-Val Acc=0.668.ckpt\" as top 1\n"
     ]
    },
    {
     "data": {
      "application/vnd.jupyter.widget-view+json": {
       "model_id": "",
       "version_major": 2,
       "version_minor": 0
      },
      "text/plain": [
       "HBox(children=(FloatProgress(value=1.0, bar_style='info', description='Validating', layout=Layout(flex='2'), m…"
      ]
     },
     "metadata": {},
     "output_type": "display_data"
    },
    {
     "name": "stderr",
     "output_type": "stream",
     "text": [
      "Epoch 19, global step 7959: Val Acc reached 0.65866 (best 0.65866), saving model to \"C:\\Users\\jv97\\Desktop\\github\\Neutrino-Machine-Learning\\checkpoints\\oscNext_angle_m9_2vr5\\oscNext_angle_m9-epoch=19-Val Acc=0.659.ckpt\" as top 1\n"
     ]
    },
    {
     "data": {
      "application/vnd.jupyter.widget-view+json": {
       "model_id": "",
       "version_major": 2,
       "version_minor": 0
      },
      "text/plain": [
       "HBox(children=(FloatProgress(value=1.0, bar_style='info', description='Validating', layout=Layout(flex='2'), m…"
      ]
     },
     "metadata": {},
     "output_type": "display_data"
    },
    {
     "name": "stderr",
     "output_type": "stream",
     "text": [
      "Epoch 20, step 8357: Val Acc was not in top 1\n"
     ]
    },
    {
     "data": {
      "application/vnd.jupyter.widget-view+json": {
       "model_id": "",
       "version_major": 2,
       "version_minor": 0
      },
      "text/plain": [
       "HBox(children=(FloatProgress(value=1.0, bar_style='info', description='Validating', layout=Layout(flex='2'), m…"
      ]
     },
     "metadata": {},
     "output_type": "display_data"
    },
    {
     "name": "stderr",
     "output_type": "stream",
     "text": [
      "Epoch 21, step 8755: Val Acc was not in top 1\n"
     ]
    },
    {
     "data": {
      "application/vnd.jupyter.widget-view+json": {
       "model_id": "",
       "version_major": 2,
       "version_minor": 0
      },
      "text/plain": [
       "HBox(children=(FloatProgress(value=1.0, bar_style='info', description='Validating', layout=Layout(flex='2'), m…"
      ]
     },
     "metadata": {},
     "output_type": "display_data"
    },
    {
     "name": "stderr",
     "output_type": "stream",
     "text": [
      "Epoch 22, step 9153: Val Acc was not in top 1\n"
     ]
    },
    {
     "data": {
      "application/vnd.jupyter.widget-view+json": {
       "model_id": "",
       "version_major": 2,
       "version_minor": 0
      },
      "text/plain": [
       "HBox(children=(FloatProgress(value=1.0, bar_style='info', description='Validating', layout=Layout(flex='2'), m…"
      ]
     },
     "metadata": {},
     "output_type": "display_data"
    },
    {
     "name": "stderr",
     "output_type": "stream",
     "text": [
      "Epoch 23, step 9551: Val Acc was not in top 1\n"
     ]
    },
    {
     "data": {
      "application/vnd.jupyter.widget-view+json": {
       "model_id": "",
       "version_major": 2,
       "version_minor": 0
      },
      "text/plain": [
       "HBox(children=(FloatProgress(value=1.0, bar_style='info', description='Validating', layout=Layout(flex='2'), m…"
      ]
     },
     "metadata": {},
     "output_type": "display_data"
    },
    {
     "name": "stderr",
     "output_type": "stream",
     "text": [
      "Epoch 24, step 9949: Val Acc was not in top 1\n"
     ]
    },
    {
     "data": {
      "application/vnd.jupyter.widget-view+json": {
       "model_id": "",
       "version_major": 2,
       "version_minor": 0
      },
      "text/plain": [
       "HBox(children=(FloatProgress(value=1.0, bar_style='info', description='Validating', layout=Layout(flex='2'), m…"
      ]
     },
     "metadata": {},
     "output_type": "display_data"
    },
    {
     "name": "stderr",
     "output_type": "stream",
     "text": [
      "Epoch 25, global step 10347: Val Acc reached 0.65555 (best 0.65555), saving model to \"C:\\Users\\jv97\\Desktop\\github\\Neutrino-Machine-Learning\\checkpoints\\oscNext_angle_m9_2vr5\\oscNext_angle_m9-epoch=25-Val Acc=0.656.ckpt\" as top 1\n"
     ]
    },
    {
     "data": {
      "application/vnd.jupyter.widget-view+json": {
       "model_id": "",
       "version_major": 2,
       "version_minor": 0
      },
      "text/plain": [
       "HBox(children=(FloatProgress(value=1.0, bar_style='info', description='Validating', layout=Layout(flex='2'), m…"
      ]
     },
     "metadata": {},
     "output_type": "display_data"
    },
    {
     "name": "stderr",
     "output_type": "stream",
     "text": [
      "Epoch 26, step 10745: Val Acc was not in top 1\n",
      "C:\\Users\\jv97\\anaconda3\\lib\\site-packages\\pytorch_lightning\\utilities\\distributed.py:50: UserWarning: Detected KeyboardInterrupt, attempting graceful shutdown...\n",
      "  warnings.warn(*args, **kwargs)\n",
      "Epoch 27, step 10775: Val Acc was not in top 1\n"
     ]
    },
    {
     "name": "stdout",
     "output_type": "stream",
     "text": [
      "\n"
     ]
    },
    {
     "data": {
      "text/plain": [
       "1"
      ]
     },
     "execution_count": 81,
     "metadata": {},
     "output_type": "execute_result"
    }
   ],
   "source": [
    "trainer.fit(model, train_loader, val_loader)"
   ]
  },
  {
   "cell_type": "code",
   "execution_count": 82,
   "metadata": {},
   "outputs": [
    {
     "name": "stdout",
     "output_type": "stream",
     "text": [
      "potentially remember wandb.finish()\n"
     ]
    }
   ],
   "source": [
    "trainer.save_checkpoint(path + '/checkpoints/' + run_name + '_' + args['id'] + '/' + run_name + '_latest.ckpt')\n",
    "print(\"potentially remember wandb.finish()\")"
   ]
  },
  {
   "cell_type": "code",
   "execution_count": 86,
   "metadata": {},
   "outputs": [],
   "source": [
    "model = Net.load_from_checkpoint(path + '/checkpoints/' + run_name + '_' + args['id'] + '/' + run_name + '_latest.ckpt')"
   ]
  },
  {
   "cell_type": "code",
   "execution_count": 87,
   "metadata": {},
   "outputs": [
    {
     "name": "stderr",
     "output_type": "stream",
     "text": [
      "Batch: 100%|███████████████████████████████████| 80/80 [01:19<00:00,  1.14it/s]"
     ]
    }
   ],
   "source": [
    "pred, truth = fc.return_reco_truth(model,val_loader)"
   ]
  },
  {
   "cell_type": "code",
   "execution_count": 102,
   "metadata": {},
   "outputs": [
    {
     "data": {
      "text/plain": [
       "0        105314908\n",
       "1        114395327\n",
       "2        117298442\n",
       "3        102188838\n",
       "4         30180837\n",
       "           ...    \n",
       "40652     51151307\n",
       "40653     54156359\n",
       "40654     75154484\n",
       "40655     48105662\n",
       "40656     78091584\n",
       "Name: event_no, Length: 40657, dtype: int64"
      ]
     },
     "execution_count": 102,
     "metadata": {},
     "output_type": "execute_result"
    }
   ],
   "source": [
    "# pd.Series(dataset.val().event_nos,name='event_no').to_pickle(r'C:\\Users\\jv97\\Desktop\\github\\Neutrino-Machine-Learning\\checkpoints\\oscNext_angle_m9_2vr5\\val_event_nos.pkl')"
   ]
  },
  {
   "cell_type": "code",
   "execution_count": 94,
   "metadata": {},
   "outputs": [
    {
     "data": {
      "image/png": "[encoded data removed]",
      "text/plain": [
       "<Figure size 720x360 with 2 Axes>"
      ]
     },
     "metadata": {
      "needs_background": "light"
     },
     "output_type": "display_data"
    }
   ],
   "source": [
    "fig, ax = plt.subplots(figsize=(10,5),ncols=2)\n",
    "ax[0].hist2d(truth[:,0],pred[:,0],bins=100);\n",
    "ax[1].hist2d(truth[:,1],pred[:,1],bins=100);"
   ]
  },
  {
   "cell_type": "code",
   "execution_count": 103,
   "metadata": {},
   "outputs": [
    {
     "data": {
      "text/html": [
       "<br/>Waiting for W&B process to finish, PID 6896<br/>Program ended successfully."
      ],
      "text/plain": [
       "<IPython.core.display.HTML object>"
      ]
     },
     "metadata": {},
     "output_type": "display_data"
    },
    {
     "data": {
      "application/vnd.jupyter.widget-view+json": {
       "model_id": "",
       "version_major": 2,
       "version_minor": 0
      },
      "text/plain": [
       "VBox(children=(Label(value=' 0.01MB of 0.01MB uploaded (0.00MB deduped)\\r'), FloatProgress(value=1.0, max=1.0)…"
      ]
     },
     "metadata": {},
     "output_type": "display_data"
    },
    {
     "data": {
      "text/html": [
       "Find user logs for this run at: <code>C:\\Users\\jv97\\Desktop\\github\\Neutrino-Machine-Learning\\wandb\\run-20210317_144531-oscNext_angle_m9_2vr5\\logs\\debug.log</code>"
      ],
      "text/plain": [
       "<IPython.core.display.HTML object>"
      ]
     },
     "metadata": {},
     "output_type": "display_data"
    },
    {
     "data": {
      "text/html": [
       "Find internal logs for this run at: <code>C:\\Users\\jv97\\Desktop\\github\\Neutrino-Machine-Learning\\wandb\\run-20210317_144531-oscNext_angle_m9_2vr5\\logs\\debug-internal.log</code>"
      ],
      "text/plain": [
       "<IPython.core.display.HTML object>"
      ]
     },
     "metadata": {},
     "output_type": "display_data"
    },
    {
     "data": {
      "text/html": [
       "<h3>Run summary:</h3><br/><style>\n",
       "    table.wandb td:nth-child(1) { padding: 0 10px; text-align: right }\n",
       "    </style><table class=\"wandb\">\n",
       "<tr><td>_runtime</td><td>14458</td></tr><tr><td>_timestamp</td><td>1616003189</td></tr><tr><td>_step</td><td>10749</td></tr><tr><td>Train Loss</td><td>-0.33702</td></tr><tr><td>Train Acc</td><td>0.6416</td></tr><tr><td>epoch</td><td>27</td></tr><tr><td>Val Acc</td><td>0.65624</td></tr><tr><td>lr-Adam</td><td>0.00678</td></tr></table>"
      ],
      "text/plain": [
       "<IPython.core.display.HTML object>"
      ]
     },
     "metadata": {},
     "output_type": "display_data"
    },
    {
     "data": {
      "text/html": [
       "<h3>Run history:</h3><br/><style>\n",
       "    table.wandb td:nth-child(1) { padding: 0 10px; text-align: right }\n",
       "    </style><table class=\"wandb\">\n",
       "<tr><td>_runtime</td><td>▁▁▁▂▂▂▂▂▂▃▃▃▃▃▄▄▄▄▄▅▅▅▅▅▆▆▆▆▆▆▆▇▇▇▇▇▇███</td></tr><tr><td>_timestamp</td><td>▁▁▁▂▂▂▂▂▂▃▃▃▃▃▄▄▄▄▄▅▅▅▅▅▆▆▆▆▆▆▆▇▇▇▇▇▇███</td></tr><tr><td>_step</td><td>▁▁▁▂▂▂▂▂▂▃▃▃▃▃▃▄▄▄▄▄▅▅▅▅▅▅▆▆▆▆▆▆▇▇▇▇▇███</td></tr><tr><td>Train Loss</td><td>█▆▆▆▅▄▅▅▅▄▃▃▃▃▃▃▃▂▂▂▃▃▄▂▂▂▂▂▂▂▂▂▂▁▁▃▁▂▂▁</td></tr><tr><td>Train Acc</td><td>█▆▆▆▆▅▅▆▅▃▃▂▂▂▂▂▂▁▁▂▂▂▃▁▁▂▂▁▁▁▁▁▂▁▁▂▁▁▁▁</td></tr><tr><td>epoch</td><td>▁▁▁▂▂▂▂▂▂▃▃▃▃▃▃▄▄▄▄▄▅▅▅▅▅▆▆▆▆▆▆▇▇▇▇▇▇███</td></tr><tr><td>Val Acc</td><td>██▇▇▇▆▃▂▃▂▂▁▁▁▂▂▁▁▁▁▁▂▁▁▁▁▁</td></tr><tr><td>lr-Adam</td><td>▁█▇▇▆▆▅▅▅▄▄▄▄▃▃▃▃▃▃▃▂▂▂▂▂▂▂</td></tr></table><br/>"
      ],
      "text/plain": [
       "<IPython.core.display.HTML object>"
      ]
     },
     "metadata": {},
     "output_type": "display_data"
    },
    {
     "data": {
      "text/html": [
       "Synced 5 W&B file(s), 1 media file(s), 0 artifact file(s) and 0 other file(s)"
      ],
      "text/plain": [
       "<IPython.core.display.HTML object>"
      ]
     },
     "metadata": {},
     "output_type": "display_data"
    },
    {
     "data": {
      "text/html": [
       "\n",
       "                    <br/>Synced <strong style=\"color:#cdcd00\">oscNext_angle_m9</strong>: <a href=\"https://wandb.ai/vinther901/Neutrino-Machine-Learning/runs/oscNext_angle_m9_2vr5\" target=\"_blank\">https://wandb.ai/vinther901/Neutrino-Machine-Learning/runs/oscNext_angle_m9_2vr5</a><br/>\n",
       "                "
      ],
      "text/plain": [
       "<IPython.core.display.HTML object>"
      ]
     },
     "metadata": {},
     "output_type": "display_data"
    }
   ],
   "source": [
    "wandb.finish()"
   ]
  }
 ],
 "metadata": {
  "kernelspec": {
   "display_name": "Python 3",
   "language": "python",
   "name": "python3"
  },
  "language_info": {
   "codemirror_mode": {
    "name": "ipython",
    "version": 3
   },
   "file_extension": ".py",
   "mimetype": "text/x-python",
   "name": "python",
   "nbconvert_exporter": "python",
   "pygments_lexer": "ipython3",
   "version": "3.7.6"
  }
 },
 "nbformat": 4,
 "nbformat_minor": 4
}
