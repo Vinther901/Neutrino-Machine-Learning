{
 "cells": [
  {
   "cell_type": "code",
   "execution_count": 1,
   "metadata": {},
   "outputs": [],
   "source": [
    "import numpy as np\n",
    "import matplotlib.pyplot as plt\n",
    "import pandas as pd\n",
    "import os"
   ]
  },
  {
   "cell_type": "code",
   "execution_count": 2,
   "metadata": {},
   "outputs": [],
   "source": [
    "plt.rcParams.update({'font.size': 15})"
   ]
  },
  {
   "cell_type": "code",
   "execution_count": 3,
   "metadata": {},
   "outputs": [],
   "source": [
    "pred_path = r'C:\\Users\\jv97\\Desktop\\github\\Neutrino-Machine-Learning\\predictions'"
   ]
  },
  {
   "cell_type": "code",
   "execution_count": 7,
   "metadata": {},
   "outputs": [],
   "source": [
    "vals = pd.read_csv(os.path.join(pred_path,'SHAPvals_2xPvM_sylf.csv'))\n",
    "truth = pd.read_csv(os.path.join(pred_path,'SHAPtruths_2xPvM_sylf.csv'))"
   ]
  },
  {
   "cell_type": "code",
   "execution_count": 8,
   "metadata": {},
   "outputs": [
    {
     "data": {
      "text/plain": [
       "(Index(['Unnamed: 0', 'event_no', 'az_width', 'az_rqe', 'az_charge_log10',\n",
       "        'az_dom_time', 'az_dom_x', 'az_dom_y', 'az_dom_z', 'ze_width', 'ze_rqe',\n",
       "        'ze_charge_log10', 'ze_dom_time', 'ze_dom_x', 'ze_dom_y', 'ze_dom_z',\n",
       "        'azk_width', 'azk_rqe', 'azk_charge_log10', 'azk_dom_time', 'azk_dom_x',\n",
       "        'azk_dom_y', 'azk_dom_z', 'zek_width', 'zek_rqe', 'zek_charge_log10',\n",
       "        'zek_dom_time', 'zek_dom_x', 'zek_dom_y', 'zek_dom_z'],\n",
       "       dtype='object'),\n",
       " Index(['Unnamed: 0', 'event_no', 'azimuth', 'zenith', 'azimuth_retro',\n",
       "        'zenith_retro', 'azimuth_sigma', 'zenith_sigma', 'energy_log10', 'pid',\n",
       "        'elasticity', 'azimuth_pred', 'zenith_pred', 'azimuth_k', 'zenith_k'],\n",
       "       dtype='object'))"
      ]
     },
     "execution_count": 8,
     "metadata": {},
     "output_type": "execute_result"
    }
   ],
   "source": [
    "vals.columns, truth.columns"
   ]
  },
  {
   "cell_type": "code",
   "execution_count": 29,
   "metadata": {},
   "outputs": [],
   "source": [
    "import sqlite3\n",
    "with sqlite3.connect(r'C:\\Users\\jv97\\Desktop\\github\\Neutrino-Machine-Learning\\raw_data\\dev_lvl7_mu_nu_e_classification_v003_unscaled.db') as con:\n",
    "    query = f\"SELECT event_no, width, rqe, charge_log10, dom_time, dom_x, dom_y, dom_z FROM features WHERE event_no IN {tuple(truth.event_no.to_numpy(dtype=int))}\"\n",
    "    x = pd.read_sql(query,con)"
   ]
  },
  {
   "cell_type": "code",
   "execution_count": 35,
   "metadata": {},
   "outputs": [
    {
     "data": {
      "text/plain": [
       "(array([0, 1, 2, 3, 4, 5, 6, 7]),\n",
       " array([-0.11028235, -0.0005394 ,  0.00243631, -0.01036749,  0.02219178,\n",
       "        -0.01365988, -0.04880871]))"
      ]
     },
     "execution_count": 35,
     "metadata": {},
     "output_type": "execute_result"
    }
   ],
   "source": [
    "np.arange(x.shape[1]), vals[['az_width', 'az_rqe', 'az_charge_log10',\n",
    "        'az_dom_time', 'az_dom_x', 'az_dom_y', 'az_dom_z']].mean(0).values"
   ]
  },
  {
   "cell_type": "code",
   "execution_count": 46,
   "metadata": {},
   "outputs": [
    {
     "data": {
      "text/plain": [
       "<ErrorbarContainer object of 3 artists>"
      ]
     },
     "execution_count": 46,
     "metadata": {},
     "output_type": "execute_result"
    },
    {
     "data": {
      "image/png": "[encoded data removed]",
      "text/plain": [
       "<Figure size 432x288 with 1 Axes>"
      ]
     },
     "metadata": {
      "needs_background": "light"
     },
     "output_type": "display_data"
    },
    {
     "data": {
      "image/png": "[encoded data removed]",
      "text/plain": [
       "<Figure size 432x288 with 1 Axes>"
      ]
     },
     "metadata": {
      "needs_background": "light"
     },
     "output_type": "display_data"
    }
   ],
   "source": [
    "fig, ax = plt.subplots()\n",
    "ax.bar(np.arange(x.shape[1]-1),vals[['az_width', 'az_rqe', 'az_charge_log10',\n",
    "        'az_dom_time', 'az_dom_x', 'az_dom_y', 'az_dom_z']].abs().mean(0).values)\n",
    "# fig, ax = plt.subplots()\n",
    "ax.errorbar(np.arange(x.shape[1]-1),vals[['az_width', 'az_rqe', 'az_charge_log10',\n",
    "        'az_dom_time', 'az_dom_x', 'az_dom_y', 'az_dom_z']].abs().mean(0).values,vals[['az_width', 'az_rqe', 'az_charge_log10',\n",
    "        'az_dom_time', 'az_dom_x', 'az_dom_y', 'az_dom_z']].abs().std(0).values,c='k')\n",
    "\n",
    "fig, ax = plt.subplots()\n",
    "ax.bar(np.arange(x.shape[1]-1),vals[['ze_width', 'ze_rqe', 'ze_charge_log10',\n",
    "        'ze_dom_time', 'ze_dom_x', 'ze_dom_y', 'ze_dom_z']].abs().mean(0).values)\n",
    "# fig, ax = plt.subplots()\n",
    "ax.errorbar(np.arange(x.shape[1]-1),vals[['ze_width', 'ze_rqe', 'ze_charge_log10',\n",
    "        'ze_dom_time', 'ze_dom_x', 'ze_dom_y', 'ze_dom_z']].abs().mean(0).values,vals[['ze_width', 'ze_rqe', 'ze_charge_log10',\n",
    "        'ze_dom_time', 'ze_dom_x', 'ze_dom_y', 'ze_dom_z']].abs().std(0).values,c='k')\n"
   ]
  },
  {
   "cell_type": "code",
   "execution_count": null,
   "metadata": {},
   "outputs": [],
   "source": [
    "fig, ax = plt.subplots()\n",
    "ax.bar(np.arange(x.shape[1]-1),vals[['az_width', 'az_rqe', 'az_charge_log10',\n",
    "        'az_dom_time', 'az_dom_x', 'az_dom_y', 'az_dom_z']].mean(0).values)"
   ]
  },
  {
   "cell_type": "code",
   "execution_count": 47,
   "metadata": {},
   "outputs": [
    {
     "data": {
      "text/html": [
       "<div>\n",
       "<style scoped>\n",
       "    .dataframe tbody tr th:only-of-type {\n",
       "        vertical-align: middle;\n",
       "    }\n",
       "\n",
       "    .dataframe tbody tr th {\n",
       "        vertical-align: top;\n",
       "    }\n",
       "\n",
       "    .dataframe thead th {\n",
       "        text-align: right;\n",
       "    }\n",
       "</style>\n",
       "<table border=\"1\" class=\"dataframe\">\n",
       "  <thead>\n",
       "    <tr style=\"text-align: right;\">\n",
       "      <th></th>\n",
       "      <th>event_no</th>\n",
       "      <th>width</th>\n",
       "      <th>rqe</th>\n",
       "      <th>charge_log10</th>\n",
       "      <th>dom_time</th>\n",
       "      <th>dom_x</th>\n",
       "      <th>dom_y</th>\n",
       "      <th>dom_z</th>\n",
       "    </tr>\n",
       "  </thead>\n",
       "  <tbody>\n",
       "    <tr>\n",
       "      <th>0</th>\n",
       "      <td>69439</td>\n",
       "      <td>8.0</td>\n",
       "      <td>1.35</td>\n",
       "      <td>0.875</td>\n",
       "      <td>10065.0</td>\n",
       "      <td>31.250000</td>\n",
       "      <td>-72.930000</td>\n",
       "      <td>-292.290009</td>\n",
       "    </tr>\n",
       "    <tr>\n",
       "      <th>1</th>\n",
       "      <td>69439</td>\n",
       "      <td>8.0</td>\n",
       "      <td>1.35</td>\n",
       "      <td>0.375</td>\n",
       "      <td>10982.0</td>\n",
       "      <td>31.250000</td>\n",
       "      <td>-72.930000</td>\n",
       "      <td>-390.410004</td>\n",
       "    </tr>\n",
       "    <tr>\n",
       "      <th>2</th>\n",
       "      <td>69439</td>\n",
       "      <td>1.0</td>\n",
       "      <td>1.00</td>\n",
       "      <td>1.475</td>\n",
       "      <td>10092.0</td>\n",
       "      <td>72.370003</td>\n",
       "      <td>-66.599998</td>\n",
       "      <td>-278.980011</td>\n",
       "    </tr>\n",
       "    <tr>\n",
       "      <th>3</th>\n",
       "      <td>69439</td>\n",
       "      <td>8.0</td>\n",
       "      <td>1.00</td>\n",
       "      <td>0.725</td>\n",
       "      <td>10667.0</td>\n",
       "      <td>72.370003</td>\n",
       "      <td>-66.599998</td>\n",
       "      <td>-278.980011</td>\n",
       "    </tr>\n",
       "    <tr>\n",
       "      <th>4</th>\n",
       "      <td>69439</td>\n",
       "      <td>1.0</td>\n",
       "      <td>1.35</td>\n",
       "      <td>0.725</td>\n",
       "      <td>9962.0</td>\n",
       "      <td>72.370003</td>\n",
       "      <td>-66.599998</td>\n",
       "      <td>-292.989990</td>\n",
       "    </tr>\n",
       "    <tr>\n",
       "      <th>...</th>\n",
       "      <td>...</td>\n",
       "      <td>...</td>\n",
       "      <td>...</td>\n",
       "      <td>...</td>\n",
       "      <td>...</td>\n",
       "      <td>...</td>\n",
       "      <td>...</td>\n",
       "      <td>...</td>\n",
       "    </tr>\n",
       "    <tr>\n",
       "      <th>2556</th>\n",
       "      <td>102087549</td>\n",
       "      <td>1.0</td>\n",
       "      <td>1.35</td>\n",
       "      <td>0.875</td>\n",
       "      <td>9879.0</td>\n",
       "      <td>-10.970000</td>\n",
       "      <td>6.720000</td>\n",
       "      <td>-290.160004</td>\n",
       "    </tr>\n",
       "    <tr>\n",
       "      <th>2557</th>\n",
       "      <td>102087549</td>\n",
       "      <td>1.0</td>\n",
       "      <td>1.35</td>\n",
       "      <td>1.275</td>\n",
       "      <td>9881.0</td>\n",
       "      <td>-10.970000</td>\n",
       "      <td>6.720000</td>\n",
       "      <td>-297.170013</td>\n",
       "    </tr>\n",
       "    <tr>\n",
       "      <th>2558</th>\n",
       "      <td>102087549</td>\n",
       "      <td>1.0</td>\n",
       "      <td>1.35</td>\n",
       "      <td>1.275</td>\n",
       "      <td>9966.0</td>\n",
       "      <td>-10.970000</td>\n",
       "      <td>6.720000</td>\n",
       "      <td>-311.190002</td>\n",
       "    </tr>\n",
       "    <tr>\n",
       "      <th>2559</th>\n",
       "      <td>102087549</td>\n",
       "      <td>1.0</td>\n",
       "      <td>1.35</td>\n",
       "      <td>1.125</td>\n",
       "      <td>10051.0</td>\n",
       "      <td>-10.970000</td>\n",
       "      <td>6.720000</td>\n",
       "      <td>-311.190002</td>\n",
       "    </tr>\n",
       "    <tr>\n",
       "      <th>2560</th>\n",
       "      <td>102087549</td>\n",
       "      <td>8.0</td>\n",
       "      <td>1.35</td>\n",
       "      <td>0.975</td>\n",
       "      <td>10643.0</td>\n",
       "      <td>-10.970000</td>\n",
       "      <td>6.720000</td>\n",
       "      <td>-360.250000</td>\n",
       "    </tr>\n",
       "  </tbody>\n",
       "</table>\n",
       "<p>2561 rows × 8 columns</p>\n",
       "</div>"
      ],
      "text/plain": [
       "       event_no  width   rqe  charge_log10  dom_time      dom_x      dom_y  \\\n",
       "0         69439    8.0  1.35         0.875   10065.0  31.250000 -72.930000   \n",
       "1         69439    8.0  1.35         0.375   10982.0  31.250000 -72.930000   \n",
       "2         69439    1.0  1.00         1.475   10092.0  72.370003 -66.599998   \n",
       "3         69439    8.0  1.00         0.725   10667.0  72.370003 -66.599998   \n",
       "4         69439    1.0  1.35         0.725    9962.0  72.370003 -66.599998   \n",
       "...         ...    ...   ...           ...       ...        ...        ...   \n",
       "2556  102087549    1.0  1.35         0.875    9879.0 -10.970000   6.720000   \n",
       "2557  102087549    1.0  1.35         1.275    9881.0 -10.970000   6.720000   \n",
       "2558  102087549    1.0  1.35         1.275    9966.0 -10.970000   6.720000   \n",
       "2559  102087549    1.0  1.35         1.125   10051.0 -10.970000   6.720000   \n",
       "2560  102087549    8.0  1.35         0.975   10643.0 -10.970000   6.720000   \n",
       "\n",
       "           dom_z  \n",
       "0    -292.290009  \n",
       "1    -390.410004  \n",
       "2    -278.980011  \n",
       "3    -278.980011  \n",
       "4    -292.989990  \n",
       "...          ...  \n",
       "2556 -290.160004  \n",
       "2557 -297.170013  \n",
       "2558 -311.190002  \n",
       "2559 -311.190002  \n",
       "2560 -360.250000  \n",
       "\n",
       "[2561 rows x 8 columns]"
      ]
     },
     "execution_count": 47,
     "metadata": {},
     "output_type": "execute_result"
    }
   ],
   "source": [
    "x"
   ]
  }
 ],
 "metadata": {
  "kernelspec": {
   "display_name": "Python 3",
   "language": "python",
   "name": "python3"
  },
  "language_info": {
   "codemirror_mode": {
    "name": "ipython",
    "version": 3
   },
   "file_extension": ".py",
   "mimetype": "text/x-python",
   "name": "python",
   "nbconvert_exporter": "python",
   "pygments_lexer": "ipython3",
   "version": "3.7.6"
  }
 },
 "nbformat": 4,
 "nbformat_minor": 4
}
