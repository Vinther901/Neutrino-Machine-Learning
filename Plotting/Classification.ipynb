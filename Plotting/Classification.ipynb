{
 "cells": [
  {
   "cell_type": "code",
   "execution_count": 1,
   "metadata": {},
   "outputs": [],
   "source": [
    "import numpy as np\n",
    "import pandas as pd\n",
    "import matplotlib.pyplot as plt\n",
    "import os\n",
    "import torch\n",
    "\n",
    "from sklearn.metrics import roc_curve, roc_auc_score"
   ]
  },
  {
   "cell_type": "code",
   "execution_count": 2,
   "metadata": {},
   "outputs": [],
   "source": [
    "plt.rcParams.update({'font.size': 15})"
   ]
  },
  {
   "cell_type": "code",
   "execution_count": 3,
   "metadata": {},
   "outputs": [],
   "source": [
    "filepath = r'C:\\Users\\jv97\\Desktop\\github\\Neutrino-Machine-Learning\\predictions'\n",
    "df = pd.read_csv(os.path.join(filepath,'OscNext_wnoise_classification_m27_2k10_test_predictions_2.csv'))"
   ]
  },
  {
   "cell_type": "code",
   "execution_count": 4,
   "metadata": {},
   "outputs": [
    {
     "data": {
      "text/html": [
       "<div>\n",
       "<style scoped>\n",
       "    .dataframe tbody tr th:only-of-type {\n",
       "        vertical-align: middle;\n",
       "    }\n",
       "\n",
       "    .dataframe tbody tr th {\n",
       "        vertical-align: top;\n",
       "    }\n",
       "\n",
       "    .dataframe thead th {\n",
       "        text-align: right;\n",
       "    }\n",
       "</style>\n",
       "<table border=\"1\" class=\"dataframe\">\n",
       "  <thead>\n",
       "    <tr style=\"text-align: right;\">\n",
       "      <th></th>\n",
       "      <th>Unnamed: 0</th>\n",
       "      <th>event_no</th>\n",
       "      <th>pid</th>\n",
       "      <th>nu_e</th>\n",
       "      <th>nu_mu</th>\n",
       "      <th>nu_tau</th>\n",
       "      <th>mu</th>\n",
       "    </tr>\n",
       "  </thead>\n",
       "  <tbody>\n",
       "    <tr>\n",
       "      <th>0</th>\n",
       "      <td>0</td>\n",
       "      <td>13188815.0</td>\n",
       "      <td>13.0</td>\n",
       "      <td>-0.117435</td>\n",
       "      <td>0.157393</td>\n",
       "      <td>0.007128</td>\n",
       "      <td>0.229535</td>\n",
       "    </tr>\n",
       "    <tr>\n",
       "      <th>1</th>\n",
       "      <td>1</td>\n",
       "      <td>13188840.0</td>\n",
       "      <td>13.0</td>\n",
       "      <td>-0.840914</td>\n",
       "      <td>-0.820327</td>\n",
       "      <td>-0.708240</td>\n",
       "      <td>1.826397</td>\n",
       "    </tr>\n",
       "    <tr>\n",
       "      <th>2</th>\n",
       "      <td>2</td>\n",
       "      <td>13188844.0</td>\n",
       "      <td>13.0</td>\n",
       "      <td>-0.173427</td>\n",
       "      <td>-0.713343</td>\n",
       "      <td>-0.017263</td>\n",
       "      <td>0.702069</td>\n",
       "    </tr>\n",
       "    <tr>\n",
       "      <th>3</th>\n",
       "      <td>3</td>\n",
       "      <td>13188911.0</td>\n",
       "      <td>13.0</td>\n",
       "      <td>-0.397254</td>\n",
       "      <td>-0.359432</td>\n",
       "      <td>-0.362776</td>\n",
       "      <td>1.420002</td>\n",
       "    </tr>\n",
       "    <tr>\n",
       "      <th>4</th>\n",
       "      <td>4</td>\n",
       "      <td>13189105.0</td>\n",
       "      <td>13.0</td>\n",
       "      <td>-0.229810</td>\n",
       "      <td>-0.244434</td>\n",
       "      <td>-0.237355</td>\n",
       "      <td>1.008680</td>\n",
       "    </tr>\n",
       "    <tr>\n",
       "      <th>...</th>\n",
       "      <td>...</td>\n",
       "      <td>...</td>\n",
       "      <td>...</td>\n",
       "      <td>...</td>\n",
       "      <td>...</td>\n",
       "      <td>...</td>\n",
       "      <td>...</td>\n",
       "    </tr>\n",
       "    <tr>\n",
       "      <th>1658357</th>\n",
       "      <td>1658357</td>\n",
       "      <td>13168513.0</td>\n",
       "      <td>-16.0</td>\n",
       "      <td>1.011374</td>\n",
       "      <td>1.337695</td>\n",
       "      <td>0.910447</td>\n",
       "      <td>-3.937185</td>\n",
       "    </tr>\n",
       "    <tr>\n",
       "      <th>1658358</th>\n",
       "      <td>1658358</td>\n",
       "      <td>13171849.0</td>\n",
       "      <td>16.0</td>\n",
       "      <td>5.335851</td>\n",
       "      <td>4.285676</td>\n",
       "      <td>5.502590</td>\n",
       "      <td>-25.553329</td>\n",
       "    </tr>\n",
       "    <tr>\n",
       "      <th>1658359</th>\n",
       "      <td>1658359</td>\n",
       "      <td>13172518.0</td>\n",
       "      <td>-16.0</td>\n",
       "      <td>2.878613</td>\n",
       "      <td>4.234619</td>\n",
       "      <td>3.165523</td>\n",
       "      <td>-15.875237</td>\n",
       "    </tr>\n",
       "    <tr>\n",
       "      <th>1658360</th>\n",
       "      <td>1658360</td>\n",
       "      <td>13172584.0</td>\n",
       "      <td>-16.0</td>\n",
       "      <td>0.008902</td>\n",
       "      <td>0.221398</td>\n",
       "      <td>0.011988</td>\n",
       "      <td>0.709020</td>\n",
       "    </tr>\n",
       "    <tr>\n",
       "      <th>1658361</th>\n",
       "      <td>1658361</td>\n",
       "      <td>13181876.0</td>\n",
       "      <td>16.0</td>\n",
       "      <td>6.191123</td>\n",
       "      <td>4.837711</td>\n",
       "      <td>6.298217</td>\n",
       "      <td>-29.509953</td>\n",
       "    </tr>\n",
       "  </tbody>\n",
       "</table>\n",
       "<p>1658362 rows × 7 columns</p>\n",
       "</div>"
      ],
      "text/plain": [
       "         Unnamed: 0    event_no   pid      nu_e     nu_mu    nu_tau         mu\n",
       "0                 0  13188815.0  13.0 -0.117435  0.157393  0.007128   0.229535\n",
       "1                 1  13188840.0  13.0 -0.840914 -0.820327 -0.708240   1.826397\n",
       "2                 2  13188844.0  13.0 -0.173427 -0.713343 -0.017263   0.702069\n",
       "3                 3  13188911.0  13.0 -0.397254 -0.359432 -0.362776   1.420002\n",
       "4                 4  13189105.0  13.0 -0.229810 -0.244434 -0.237355   1.008680\n",
       "...             ...         ...   ...       ...       ...       ...        ...\n",
       "1658357     1658357  13168513.0 -16.0  1.011374  1.337695  0.910447  -3.937185\n",
       "1658358     1658358  13171849.0  16.0  5.335851  4.285676  5.502590 -25.553329\n",
       "1658359     1658359  13172518.0 -16.0  2.878613  4.234619  3.165523 -15.875237\n",
       "1658360     1658360  13172584.0 -16.0  0.008902  0.221398  0.011988   0.709020\n",
       "1658361     1658361  13181876.0  16.0  6.191123  4.837711  6.298217 -29.509953\n",
       "\n",
       "[1658362 rows x 7 columns]"
      ]
     },
     "execution_count": 4,
     "metadata": {},
     "output_type": "execute_result"
    }
   ],
   "source": [
    "df"
   ]
  },
  {
   "cell_type": "code",
   "execution_count": 5,
   "metadata": {},
   "outputs": [],
   "source": [
    "one_hot = np.ones((17))*10\n",
    "one_hot[[12,14,16,13]] = np.array([0,1,2,3])\n",
    "\n",
    "target = one_hot[np.abs(df.pid).astype(int)]"
   ]
  },
  {
   "cell_type": "code",
   "execution_count": 6,
   "metadata": {},
   "outputs": [],
   "source": [
    "roc_curves = []\n",
    "roc_aucs = []\n",
    "\n",
    "for i in range(4):\n",
    "    # roc_curves.append(roc_curve(target==i,pred[:,i]))\n",
    "    roc_curves.append(roc_curve(target==i,torch.softmax(torch.tensor(df.iloc[:,-4:].values),1)[:,i]))\n",
    "    roc_aucs.append(roc_auc_score(target==i,torch.softmax(torch.tensor(df.iloc[:,-4:].values),1)[:,i]))"
   ]
  },
  {
   "cell_type": "code",
   "execution_count": 7,
   "metadata": {},
   "outputs": [
    {
     "data": {
      "text/plain": [
       "[Text(0, 0.5, 'TPR'),\n",
       " Text(0.5, 0, 'FPR'),\n",
       " Text(0.5, 1.0, 'ROC curves for PID of level7 OscNext sample')]"
      ]
     },
     "execution_count": 7,
     "metadata": {},
     "output_type": "execute_result"
    },
    {
     "name": "stderr",
     "output_type": "stream",
     "text": [
      "C:\\Users\\jv97\\anaconda3\\lib\\site-packages\\IPython\\core\\pylabtools.py:132: UserWarning: Creating legend with loc=\"best\" can be slow with large amounts of data.\n",
      "  fig.canvas.print_figure(bytes_io, **kw)\n"
     ]
    },
    {
     "data": {
      "image/png": "[encoded data removed]",
      "text/plain": [
       "<Figure size 432x288 with 1 Axes>"
      ]
     },
     "metadata": {
      "needs_background": "light"
     },
     "output_type": "display_data"
    }
   ],
   "source": [
    "fig, ax = plt.subplots()\n",
    "for i, (fpr,tpr,t) in enumerate(roc_curves):\n",
    "    ax.plot(fpr,tpr,label=[r\"$\\nu_e$\",r'$\\nu_\\mu$',r'$\\nu_\\tau$',r'$\\mu$'][i]+', AUC: {:.3f}'.format(roc_aucs[i]))\n",
    "ax.plot([0,1],[0,1],c='grey',ls='--')\n",
    "ax.vlines([0,1],[0,0],[1,1],color='k',zorder=-1,alpha=0.5)\n",
    "ax.hlines([0,1],[0,0],[1,1],color='k',zorder=-1,alpha=0.5)\n",
    "\n",
    "ax.legend()\n",
    "ax.set(title='ROC curves for PID of level7 OscNext sample',\n",
    "       xlabel='FPR',\n",
    "       ylabel='TPR')"
   ]
  },
  {
   "cell_type": "code",
   "execution_count": 8,
   "metadata": {},
   "outputs": [
    {
     "name": "stderr",
     "output_type": "stream",
     "text": [
      "C:\\Users\\jv97\\anaconda3\\lib\\site-packages\\ipykernel_launcher.py:1: UserWarning: Creating legend with loc=\"best\" can be slow with large amounts of data.\n",
      "  \"\"\"Entry point for launching an IPython kernel.\n"
     ]
    }
   ],
   "source": [
    "# fig.savefig(\"plots/ROC_PID_lvl7OscNext.pdf\")"
   ]
  },
  {
   "cell_type": "code",
   "execution_count": 38,
   "metadata": {},
   "outputs": [
    {
     "name": "stdout",
     "output_type": "stream",
     "text": [
      "0.6329139577248152 0.6863247917069206 0.6319134176196018 0.9692670093936473 2.9204191764449847\n",
      "0.6116737173363526 0.6858508368233539 0.6344614885286617 0.9692922899785247 2.9012783326668927\n",
      "0.6060521581723837 0.6851510165744852 0.6325128562321616 0.9691593768848757 2.8928754078639063\n",
      "0.6034836525120754 0.6805901557455698 0.6308225381571155 0.9494719747562597 2.8643683211710202\n"
     ]
    }
   ],
   "source": [
    "for s in [1,5,10,100]:\n",
    "    tmp_auc_list = []\n",
    "    for i in range(4):\n",
    "        tmp_auc_list.append(roc_auc_score(target==i,torch.softmax(s*torch.tensor(df.iloc[:,-4:].values),1)[:,i]))\n",
    "    print(*tmp_auc_list,sum(tmp_auc_list))"
   ]
  },
  {
   "cell_type": "code",
   "execution_count": 39,
   "metadata": {},
   "outputs": [
    {
     "name": "stdout",
     "output_type": "stream",
     "text": [
      "0.6006543489843323 0.6246497166854393 0.5473021015288388 0.9686943362867907 2.741300503485401\n",
      "0.5863840143292207 0.593712899120228 0.5351171365771642 0.9685655867717649 2.683779636798378\n",
      "0.5862426290533892 0.5934627043613271 0.5350388882479891 0.9685643506073923 2.683308572270098\n",
      "0.5862284953223056 0.5934377383018873 0.5350310909552213 0.9685642300536713 2.6832615546330856\n"
     ]
    }
   ],
   "source": [
    "for s in [0.1,0.001,0.0001,0.00001]:\n",
    "    tmp_auc_list = []\n",
    "    for i in range(4):\n",
    "        tmp_auc_list.append(roc_auc_score(target==i,torch.softmax(s*torch.tensor(df.iloc[:,-4:].values),1)[:,i]))\n",
    "    print(*tmp_auc_list,sum(tmp_auc_list))"
   ]
  },
  {
   "cell_type": "code",
   "execution_count": null,
   "metadata": {},
   "outputs": [],
   "source": []
  }
 ],
 "metadata": {
  "kernelspec": {
   "display_name": "Python 3",
   "language": "python",
   "name": "python3"
  },
  "language_info": {
   "codemirror_mode": {
    "name": "ipython",
    "version": 3
   },
   "file_extension": ".py",
   "mimetype": "text/x-python",
   "name": "python",
   "nbconvert_exporter": "python",
   "pygments_lexer": "ipython3",
   "version": "3.7.6"
  }
 },
 "nbformat": 4,
 "nbformat_minor": 4
}
