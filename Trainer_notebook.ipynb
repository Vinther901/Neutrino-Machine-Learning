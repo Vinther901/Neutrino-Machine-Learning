{
 "cells": [
  {
   "cell_type": "code",
   "execution_count": 12,
   "metadata": {},
   "outputs": [],
   "source": [
    "import numpy as np\n",
    "import matplotlib.pyplot as plt\n",
    "import torch\n",
    "import pandas as pd\n",
    "import time\n",
    "import wandb\n",
    "import pytorch_lightning as pl\n",
    "\n",
    "import FunctionCollection as fc\n",
    "import importlib\n",
    "fc = importlib.reload(fc)\n",
    "import os"
   ]
  },
  {
   "cell_type": "code",
   "execution_count": 28,
   "metadata": {},
   "outputs": [],
   "source": [
    "path = r'C:\\Users\\jv97\\Desktop\\github\\Neutrino-Machine-Learning'\n",
    "\n",
    "run_name = 'TEST_m11'\n",
    "\n",
    "args = {'N_edge_feats': 6,\n",
    "        'N_dom_feats': 7,\n",
    "        'N_targets': 2,\n",
    "        'N_outputs': 4,\n",
    "        'N_metalayers': 1,\n",
    "        'N_hcs': 64,\n",
    "        'diagonal_cov': True,\n",
    "        'wandb_activated': False,\n",
    "        'type': 'twice_Polar_NLLH',\n",
    "        'zenith': True,\n",
    "        'id': wandb.util.generate_id()[:4],\n",
    "        'eps': 0,\n",
    "        'lr': 8e-2,\n",
    "        'filename': 'muon_500k_scaled2.db',#dev_level7_mu_e_tau_oscweight_000.db #rasmus_classification_muon_3neutrino_3mio.db #dev_level7_oscNext_IC86_003.db\n",
    "        'features': 'charge_log10, time, pulse_width, SRTInIcePulses, dom_x, dom_y, dom_z',\n",
    "        'targets': 'azimuth, zenith',\n",
    "        'TrTV': (0.1,0.99,1)#(0.025,0.995,1)\n",
    "       }"
   ]
  },
  {
   "cell_type": "code",
   "execution_count": 12,
   "metadata": {
    "scrolled": false
   },
   "outputs": [],
   "source": [
    "# centers = pd.DataFrame({'charge_log10': [-0.033858],\n",
    "#                         'dom_time': [10700.0],\n",
    "#                         'dom_x': [0],\n",
    "#                         'dom_y': [0],\n",
    "#                         'dom_z': [0]})\n",
    "# scalers = pd.DataFrame({'charge_log10': [0.274158],\n",
    "#                         'dom_time': [2699.0],\n",
    "#                         'dom_x': [300],\n",
    "#                         'dom_y': [300],\n",
    "#                         'dom_z': [300]})\n",
    "# centers = centers[args['features'].split(', ')].values\n",
    "# scalers = scalers[args['features'].split(', ')].values\n",
    "\n",
    "# def x_transform(df):\n",
    "#     df = (df - centers)/scalers\n",
    "#     return torch.tensor(df.values)\n",
    "\n",
    "# def y_transform(df):\n",
    "#     return torch.tensor(df.values)"
   ]
  },
  {
   "cell_type": "code",
   "execution_count": 33,
   "metadata": {
    "scrolled": false
   },
   "outputs": [],
   "source": [
    "# filepath = os.path.join(path,'raw_data/dev_level7_mu_e_tau_oscweight_000/data')\n",
    "filepath = os.path.join(path,'raw_data')\n",
    "\n",
    "\n",
    "tf = pd.read_pickle(r'C:\\Users\\jv97\\Desktop\\github\\Neutrino-Machine-Learning\\datasets\\transformers.pkl')\n",
    "# tf = pd.read_pickle(r'C:\\Users\\jv97\\Desktop\\github\\Neutrino-Machine-Learning\\raw_data\\dev_level7_mu_e_tau_oscweight_000\\data\\meta\\transformers.pkl')\n",
    "event_nos = pd.read_pickle(r'C:\\Users\\jv97\\Desktop\\github\\Neutrino-Machine-Learning\\datasets\\event_nos_500k_muon_set1.pkl').values.reshape(-1)\n",
    "\n",
    "def x_transform(df):\n",
    "    pos = ['dom_x','dom_y','dom_z']\n",
    "    for col in pos:\n",
    "        df[col] = tf['features'][col].inverse_transform(df[[col]])\n",
    "    df[pos] /= 300\n",
    "    return torch.tensor(df.values)\n",
    "def y_transform(df):\n",
    "    for col in df.columns:\n",
    "        df[col] = tf['truth'][col].inverse_transform(df[[col]])\n",
    "    return torch.tensor(df.values)\n",
    "\n",
    "# #@torch.jit.script\n",
    "# def x_transform(df):\n",
    "#     df['charge_log10'] = (df['charge_log10'] - charge_center)/charge_scale\n",
    "#     df['dom_time'] = (df['dom_time'] - time_center)/time_scale\n",
    "#     df[['dom_x','dom_y','dom_z']] /= 300\n",
    "#     return torch.tensor(df.values)\n",
    "# #@torch.jit.script\n",
    "# def y_transform(df):\n",
    "#     return torch.tensor(df.values)\n",
    "\n",
    "\n",
    "\n",
    "dataset = fc.custom_db_dataset(filepath = filepath,\n",
    "                               filename = args['filename'],\n",
    "                               features = args['features'],\n",
    "                               targets = args['targets'],\n",
    "                               TrTV = args['TrTV'],\n",
    "#                                event_nos = event_nos,\n",
    "                               x_transform = x_transform,\n",
    "                               y_transform = y_transform,\n",
    "                               shuffle = True)"
   ]
  },
  {
   "cell_type": "code",
   "execution_count": 34,
   "metadata": {
    "scrolled": false
   },
   "outputs": [],
   "source": [
    "train_loader, test_loader, val_loader = dataset.return_dataloaders(batch_size=512, num_workers=0) #~0.6sec loading time pr. batch"
   ]
  },
  {
   "cell_type": "code",
   "execution_count": 61,
   "metadata": {},
   "outputs": [],
   "source": [
    "# start = time.time()\n",
    "# for dat in train_loader:\n",
    "#     print(time.time() - start)\n",
    "#     start = time.time()"
   ]
  },
  {
   "cell_type": "code",
   "execution_count": 35,
   "metadata": {},
   "outputs": [
    {
     "name": "stdout",
     "output_type": "stream",
     "text": [
      "Remember all accuracies are positive and defined to go towards 0 in the optimal case.\n"
     ]
    }
   ],
   "source": [
    "import Model_Loaders.Model_9 as M\n",
    "M = importlib.reload(M)\n",
    "\n",
    "Net = M.Load_model(args['type'],args)\n",
    "model = Net()\n",
    "\n",
    "device = torch.device('cuda')\n",
    "\n",
    "model.to(device);"
   ]
  },
  {
   "cell_type": "code",
   "execution_count": 36,
   "metadata": {
    "scrolled": false
   },
   "outputs": [
    {
     "name": "stdout",
     "output_type": "stream",
     "text": [
      "loading \t: 0.40918970108032227\n",
      "evaluation \t: 1.0610003471374512\n",
      "backward \t: 0.004995822906494141\n",
      "loading \t: 0.42400145530700684\n",
      "evaluation \t: 1.1240005493164062\n",
      "backward \t: 0.0029993057250976562\n",
      "loading \t: 0.4479994773864746\n",
      "evaluation \t: 0.8770039081573486\n",
      "backward \t: 0.003998279571533203\n",
      "loading \t: 0.3729991912841797\n",
      "evaluation \t: 0.8790016174316406\n",
      "backward \t: 0.003998279571533203\n",
      "loading \t: 0.38100504875183105\n",
      "evaluation \t: 0.9189941883087158\n",
      "backward \t: 0.004000425338745117\n",
      "loading \t: 0.36800074577331543\n",
      "evaluation \t: 0.9229977130889893\n",
      "backward \t: 0.00400090217590332\n",
      "loading \t: 0.34200096130371094\n",
      "evaluation \t: 0.8719978332519531\n",
      "backward \t: 0.0030002593994140625\n",
      "loading \t: 0.3620016574859619\n",
      "evaluation \t: 0.8180046081542969\n",
      "backward \t: 0.004998683929443359\n",
      "loading \t: 0.3549971580505371\n"
     ]
    },
    {
     "ename": "KeyboardInterrupt",
     "evalue": "",
     "output_type": "error",
     "traceback": [
      "\u001b[1;31m---------------------------------------------------------------------------\u001b[0m",
      "\u001b[1;31mKeyboardInterrupt\u001b[0m                         Traceback (most recent call last)",
      "\u001b[1;32m<ipython-input-36-61fc42cc8bec>\u001b[0m in \u001b[0;36m<module>\u001b[1;34m\u001b[0m\n\u001b[0;32m      5\u001b[0m \u001b[1;33m\u001b[0m\u001b[0m\n\u001b[0;32m      6\u001b[0m     \u001b[0mstart\u001b[0m \u001b[1;33m=\u001b[0m \u001b[0mtime\u001b[0m\u001b[1;33m.\u001b[0m\u001b[0mtime\u001b[0m\u001b[1;33m(\u001b[0m\u001b[1;33m)\u001b[0m\u001b[1;33m\u001b[0m\u001b[1;33m\u001b[0m\u001b[0m\n\u001b[1;32m----> 7\u001b[1;33m     \u001b[0mout\u001b[0m \u001b[1;33m=\u001b[0m \u001b[0mmodel\u001b[0m\u001b[1;33m(\u001b[0m\u001b[0mdat\u001b[0m\u001b[1;33m)\u001b[0m\u001b[1;33m\u001b[0m\u001b[1;33m\u001b[0m\u001b[0m\n\u001b[0m\u001b[0;32m      8\u001b[0m     \u001b[0mprint\u001b[0m\u001b[1;33m(\u001b[0m\u001b[1;34m'evaluation \\t:'\u001b[0m\u001b[1;33m,\u001b[0m \u001b[0mtime\u001b[0m\u001b[1;33m.\u001b[0m\u001b[0mtime\u001b[0m\u001b[1;33m(\u001b[0m\u001b[1;33m)\u001b[0m \u001b[1;33m-\u001b[0m \u001b[0mstart\u001b[0m\u001b[1;33m)\u001b[0m\u001b[1;33m\u001b[0m\u001b[1;33m\u001b[0m\u001b[0m\n\u001b[0;32m      9\u001b[0m \u001b[1;33m\u001b[0m\u001b[0m\n",
      "\u001b[1;32m~\\anaconda3\\lib\\site-packages\\torch\\nn\\modules\\module.py\u001b[0m in \u001b[0;36m_call_impl\u001b[1;34m(self, *input, **kwargs)\u001b[0m\n\u001b[0;32m    725\u001b[0m             \u001b[0mresult\u001b[0m \u001b[1;33m=\u001b[0m \u001b[0mself\u001b[0m\u001b[1;33m.\u001b[0m\u001b[0m_slow_forward\u001b[0m\u001b[1;33m(\u001b[0m\u001b[1;33m*\u001b[0m\u001b[0minput\u001b[0m\u001b[1;33m,\u001b[0m \u001b[1;33m**\u001b[0m\u001b[0mkwargs\u001b[0m\u001b[1;33m)\u001b[0m\u001b[1;33m\u001b[0m\u001b[1;33m\u001b[0m\u001b[0m\n\u001b[0;32m    726\u001b[0m         \u001b[1;32melse\u001b[0m\u001b[1;33m:\u001b[0m\u001b[1;33m\u001b[0m\u001b[1;33m\u001b[0m\u001b[0m\n\u001b[1;32m--> 727\u001b[1;33m             \u001b[0mresult\u001b[0m \u001b[1;33m=\u001b[0m \u001b[0mself\u001b[0m\u001b[1;33m.\u001b[0m\u001b[0mforward\u001b[0m\u001b[1;33m(\u001b[0m\u001b[1;33m*\u001b[0m\u001b[0minput\u001b[0m\u001b[1;33m,\u001b[0m \u001b[1;33m**\u001b[0m\u001b[0mkwargs\u001b[0m\u001b[1;33m)\u001b[0m\u001b[1;33m\u001b[0m\u001b[1;33m\u001b[0m\u001b[0m\n\u001b[0m\u001b[0;32m    728\u001b[0m         for hook in itertools.chain(\n\u001b[0;32m    729\u001b[0m                 \u001b[0m_global_forward_hooks\u001b[0m\u001b[1;33m.\u001b[0m\u001b[0mvalues\u001b[0m\u001b[1;33m(\u001b[0m\u001b[1;33m)\u001b[0m\u001b[1;33m,\u001b[0m\u001b[1;33m\u001b[0m\u001b[1;33m\u001b[0m\u001b[0m\n",
      "\u001b[1;32m~\\Desktop\\github\\Neutrino-Machine-Learning\\Model_Loaders\\Model_9.py\u001b[0m in \u001b[0;36mforward\u001b[1;34m(self, data)\u001b[0m\n\u001b[0;32m    180\u001b[0m \u001b[1;33m\u001b[0m\u001b[0m\n\u001b[0;32m    181\u001b[0m             x = torch.cat([x,\n\u001b[1;32m--> 182\u001b[1;33m                            \u001b[0mx_feature_constructor\u001b[0m\u001b[1;33m(\u001b[0m\u001b[0mx\u001b[0m\u001b[1;33m,\u001b[0m\u001b[0mgraph_node_counts\u001b[0m\u001b[1;33m)\u001b[0m\u001b[1;33m,\u001b[0m\u001b[1;33m\u001b[0m\u001b[1;33m\u001b[0m\u001b[0m\n\u001b[0m\u001b[0;32m    183\u001b[0m                            \u001b[0medge_attr\u001b[0m\u001b[1;33m,\u001b[0m\u001b[1;33m\u001b[0m\u001b[1;33m\u001b[0m\u001b[0m\n\u001b[0;32m    184\u001b[0m                            \u001b[0mx\u001b[0m\u001b[1;33m[\u001b[0m\u001b[0mtime_edge_index\u001b[0m\u001b[1;33m[\u001b[0m\u001b[1;36m0\u001b[0m\u001b[1;33m]\u001b[0m\u001b[1;33m]\u001b[0m\u001b[1;33m,\u001b[0m\u001b[1;33m\u001b[0m\u001b[1;33m\u001b[0m\u001b[0m\n",
      "\u001b[1;31mKeyboardInterrupt\u001b[0m: "
     ]
    }
   ],
   "source": [
    "start = time.time() \n",
    "for dat in train_loader:\n",
    "    dat.to(device)\n",
    "    print('loading \\t:', time.time() - start)\n",
    "    \n",
    "    start = time.time() \n",
    "    out = model(dat)\n",
    "    print('evaluation \\t:', time.time() - start)\n",
    "    \n",
    "    start = time.time() \n",
    "    output, cov = model.output_post_processor( out )\n",
    "    loss = model.crit(output, cov, model.y_post_processor(dat.y))\n",
    "    \n",
    "    \n",
    "    loss.backward\n",
    "    print('backward \\t:', time.time() - start)\n",
    "    start = time.time() \n",
    "    \n",
    "#     model.training_step(dat,None)\n",
    "    "
   ]
  },
  {
   "cell_type": "code",
   "execution_count": 67,
   "metadata": {},
   "outputs": [
    {
     "name": "stderr",
     "output_type": "stream",
     "text": [
      "GPU available: True, used: True\n",
      "TPU available: None, using: 0 TPU cores\n"
     ]
    }
   ],
   "source": [
    "trainer, wandb_logger = fc.return_trainer(path = path,\n",
    "                                          run_name = run_name,\n",
    "                                          args = args,\n",
    "#                                           ckpt = run_name + '_latest.ckpt'\n",
    "                                          )"
   ]
  },
  {
   "cell_type": "code",
   "execution_count": 68,
   "metadata": {
    "scrolled": false
   },
   "outputs": [
    {
     "name": "stderr",
     "output_type": "stream",
     "text": [
      "\n",
      "   | Name                | Type       | Params\n",
      "----------------------------------------------------\n",
      "0  | act                 | SiLU       | 0     \n",
      "1  | x_encoder           | Linear     | 3.6 K \n",
      "2  | CoC_encoder         | Linear     | 14.6 K\n",
      "3  | GRUCells            | ModuleList | 37.2 K\n",
      "4  | lins_CoC_msg        | ModuleList | 16.4 K\n",
      "5  | lins_CoC_self       | ModuleList | 4.2 K \n",
      "6  | CoC_batch_norm      | ModuleList | 128   \n",
      "7  | lins_x_msg          | ModuleList | 4.2 K \n",
      "8  | lins_x_self         | ModuleList | 4.2 K \n",
      "9  | x_batch_norm        | ModuleList | 128   \n",
      "10 | decoders            | ModuleList | 24.7 K\n",
      "11 | decoder_batch_norms | ModuleList | 256   \n",
      "12 | decoder             | Linear     | 260   \n",
      "----------------------------------------------------\n",
      "109 K     Trainable params\n",
      "0         Non-trainable params\n",
      "109 K     Total params\n",
      "0.440     Total estimated model params size (MB)\n"
     ]
    },
    {
     "data": {
      "application/vnd.jupyter.widget-view+json": {
       "model_id": "6aaa3d5bbd43489c8efba6d701ef5d3e",
       "version_major": 2,
       "version_minor": 0
      },
      "text/plain": [
       "HBox(children=(FloatProgress(value=0.0, description='Finding best initial lr', max=50.0, style=ProgressStyle(d…"
      ]
     },
     "metadata": {},
     "output_type": "display_data"
    },
    {
     "name": "stderr",
     "output_type": "stream",
     "text": [
      "LR finder stopped early due to diverging loss.\n",
      "Restored states from the checkpoint file at C:\\Users\\jv97\\Desktop\\github\\Neutrino-Machine-Learning\\lr_find_temp_model.ckpt\n"
     ]
    },
    {
     "name": "stdout",
     "output_type": "stream",
     "text": [
      "\n"
     ]
    },
    {
     "data": {
      "image/png": "[encoded data removed]",
      "text/plain": [
       "<Figure size 432x288 with 1 Axes>"
      ]
     },
     "metadata": {
      "needs_background": "light"
     },
     "output_type": "display_data"
    },
    {
     "name": "stderr",
     "output_type": "stream",
     "text": [
      "GPU available: True, used: True\n",
      "TPU available: None, using: 0 TPU cores\n"
     ]
    },
    {
     "name": "stdout",
     "output_type": "stream",
     "text": [
      "0.060981289463241585\n",
      "Remember all accuracies are positive and defined to go towards 0 in the optimal case.\n"
     ]
    }
   ],
   "source": [
    "lr_finder = trainer.tuner.lr_find(model,train_loader,val_loader,max_lr=5,num_training=50,mode='exponential',early_stop_threshold=4)\n",
    "\n",
    "fig = lr_finder.plot(True,True)\n",
    "print(lr_finder.suggestion())\n",
    "\n",
    "args['lr'] = lr_finder.suggestion()\n",
    "Net = M.Load_model(args['type'],args)\n",
    "model = Net()\n",
    "trainer, wandb_logger = fc.return_trainer(path = path,\n",
    "                                          run_name = run_name,\n",
    "                                          args = args,)"
   ]
  },
  {
   "cell_type": "code",
   "execution_count": 7,
   "metadata": {},
   "outputs": [
    {
     "name": "stderr",
     "output_type": "stream",
     "text": [
      "GPU available: True, used: True\n",
      "TPU available: None, using: 0 TPU cores\n"
     ]
    },
    {
     "name": "stdout",
     "output_type": "stream",
     "text": [
      "Remember all accuracies are positive and defined to go towards 0 in the optimal case.\n",
      "This model assumes Charge is at index 0 and position is the last three\n"
     ]
    }
   ],
   "source": [
    "# args['lr'] = 8e-2\n",
    "# Net = M.Load_model(args['type'],args)\n",
    "# model = Net()\n",
    "# trainer, wandb_logger = fc.return_trainer(path = path,\n",
    "#                                           run_name = run_name,\n",
    "#                                           args = args,)"
   ]
  },
  {
   "cell_type": "code",
   "execution_count": 7,
   "metadata": {},
   "outputs": [
    {
     "name": "stderr",
     "output_type": "stream",
     "text": [
      "wandb: Currently logged in as: vinther901 (use `wandb login --relogin` to force relogin)\n",
      "wandb: wandb version 0.10.22 is available!  To upgrade, please run:\n",
      "wandb:  $ pip install wandb --upgrade\n"
     ]
    },
    {
     "data": {
      "text/html": [
       "\n",
       "                Tracking run with wandb version 0.10.19<br/>\n",
       "                Syncing run <strong style=\"color:#cdcd00\">test_angle_m10</strong> to <a href=\"https://wandb.ai\" target=\"_blank\">Weights & Biases</a> <a href=\"https://docs.wandb.com/integrations/jupyter.html\" target=\"_blank\">(Documentation)</a>.<br/>\n",
       "                Project page: <a href=\"https://wandb.ai/vinther901/Neutrino-Machine-Learning\" target=\"_blank\">https://wandb.ai/vinther901/Neutrino-Machine-Learning</a><br/>\n",
       "                Run page: <a href=\"https://wandb.ai/vinther901/Neutrino-Machine-Learning/runs/test_angle_m10_yn3x\" target=\"_blank\">https://wandb.ai/vinther901/Neutrino-Machine-Learning/runs/test_angle_m10_yn3x</a><br/>\n",
       "                Run data is saved locally in <code>C:\\Users\\jv97\\Desktop\\github\\Neutrino-Machine-Learning\\wandb\\run-20210319_114003-test_angle_m10_yn3x</code><br/><br/>\n",
       "            "
      ],
      "text/plain": [
       "<IPython.core.display.HTML object>"
      ]
     },
     "metadata": {},
     "output_type": "display_data"
    }
   ],
   "source": [
    "wandb_logger.experiment.config.update(args)\n",
    "# wandb_logger.watch(model)\n",
    "# wandb_logger.experiment.log({f'lr finder, lr={lr_finder.suggestion()}': wandb.Image(fig)})"
   ]
  },
  {
   "cell_type": "code",
   "execution_count": 8,
   "metadata": {
    "scrolled": false
   },
   "outputs": [
    {
     "name": "stderr",
     "output_type": "stream",
     "text": [
      "\n",
      "  | Name      | Type       | Params\n",
      "-----------------------------------------\n",
      "0 | act       | SiLU       | 0     \n",
      "1 | x_encoder | MLP        | 7.4 K \n",
      "2 | convs     | ModuleList | 17.2 K\n",
      "3 | decoder   | MLP        | 41.8 K\n",
      "-----------------------------------------\n",
      "66.4 K    Trainable params\n",
      "0         Non-trainable params\n",
      "66.4 K    Total params\n",
      "0.266     Total estimated model params size (MB)\n"
     ]
    },
    {
     "data": {
      "application/vnd.jupyter.widget-view+json": {
       "model_id": "1572a3ad62614686b7598768fb557324",
       "version_major": 2,
       "version_minor": 0
      },
      "text/plain": [
       "HBox(children=(FloatProgress(value=1.0, bar_style='info', description='Training', layout=Layout(flex='2'), max…"
      ]
     },
     "metadata": {},
     "output_type": "display_data"
    },
    {
     "data": {
      "application/vnd.jupyter.widget-view+json": {
       "model_id": "",
       "version_major": 2,
       "version_minor": 0
      },
      "text/plain": [
       "HBox(children=(FloatProgress(value=1.0, bar_style='info', description='Validating', layout=Layout(flex='2'), m…"
      ]
     },
     "metadata": {},
     "output_type": "display_data"
    },
    {
     "name": "stderr",
     "output_type": "stream",
     "text": [
      "Epoch 0, global step 585: Val Acc reached 2.19128 (best 2.19128), saving model to \"C:\\Users\\jv97\\Desktop\\github\\Neutrino-Machine-Learning\\checkpoints\\test_angle_m10_yn3x\\test_angle_m10-epoch=0-Val Acc=2.191.ckpt\" as top 1\n",
      "C:\\Users\\jv97\\anaconda3\\lib\\site-packages\\torch\\optim\\lr_scheduler.py:216: UserWarning: Please also save or load the state of the optimizer when saving or loading the scheduler.\n",
      "  warnings.warn(SAVE_STATE_WARNING, UserWarning)\n",
      "C:\\Users\\jv97\\anaconda3\\lib\\site-packages\\pytorch_lightning\\utilities\\distributed.py:50: UserWarning: Detected KeyboardInterrupt, attempting graceful shutdown...\n",
      "  warnings.warn(*args, **kwargs)\n",
      "Epoch 1, step 924: Val Acc was not in top 1\n"
     ]
    },
    {
     "name": "stdout",
     "output_type": "stream",
     "text": [
      "\n"
     ]
    },
    {
     "data": {
      "text/plain": [
       "1"
      ]
     },
     "execution_count": 8,
     "metadata": {},
     "output_type": "execute_result"
    }
   ],
   "source": [
    "trainer.fit(model, train_loader, val_loader)"
   ]
  },
  {
   "cell_type": "code",
   "execution_count": 9,
   "metadata": {},
   "outputs": [
    {
     "name": "stdout",
     "output_type": "stream",
     "text": [
      "potentially remember wandb.finish()\n"
     ]
    },
    {
     "name": "stderr",
     "output_type": "stream",
     "text": [
      "C:\\Users\\jv97\\anaconda3\\lib\\site-packages\\torch\\optim\\lr_scheduler.py:216: UserWarning: Please also save or load the state of the optimizer when saving or loading the scheduler.\n",
      "  warnings.warn(SAVE_STATE_WARNING, UserWarning)\n"
     ]
    }
   ],
   "source": [
    "trainer.save_checkpoint(path + '/checkpoints/' + run_name + '_' + args['id'] + '/' + run_name + '_latest.ckpt')\n",
    "print(\"potentially remember wandb.finish()\")"
   ]
  },
  {
   "cell_type": "code",
   "execution_count": 11,
   "metadata": {},
   "outputs": [
    {
     "name": "stdout",
     "output_type": "stream",
     "text": [
      "This model assumes Charge is at index 0 and position is the last three\n"
     ]
    }
   ],
   "source": [
    "model = Net.load_from_checkpoint(path + '/checkpoints/' + run_name + '_' + args['id'] + '/' + run_name + '_latest.ckpt')"
   ]
  },
  {
   "cell_type": "code",
   "execution_count": 12,
   "metadata": {},
   "outputs": [
    {
     "name": "stderr",
     "output_type": "stream",
     "text": [
      "Batch: 100%|███████████████████████████████| 1172/1172 [17:08<00:00,  1.10it/s]"
     ]
    }
   ],
   "source": [
    "pred, truth = fc.return_reco_truth(model,val_loader)"
   ]
  },
  {
   "cell_type": "code",
   "execution_count": 102,
   "metadata": {},
   "outputs": [
    {
     "data": {
      "text/plain": [
       "0        105314908\n",
       "1        114395327\n",
       "2        117298442\n",
       "3        102188838\n",
       "4         30180837\n",
       "           ...    \n",
       "40652     51151307\n",
       "40653     54156359\n",
       "40654     75154484\n",
       "40655     48105662\n",
       "40656     78091584\n",
       "Name: event_no, Length: 40657, dtype: int64"
      ]
     },
     "execution_count": 102,
     "metadata": {},
     "output_type": "execute_result"
    }
   ],
   "source": [
    "# pd.Series(dataset.val().event_nos,name='event_no').to_pickle(r'C:\\Users\\jv97\\Desktop\\github\\Neutrino-Machine-Learning\\checkpoints\\oscNext_angle_m9_2vr5\\val_event_nos.pkl')"
   ]
  },
  {
   "cell_type": "code",
   "execution_count": 19,
   "metadata": {},
   "outputs": [
    {
     "data": {
      "image/png": "[encoded data removed]",
      "text/plain": [
       "<Figure size 720x360 with 2 Axes>"
      ]
     },
     "metadata": {
      "needs_background": "light"
     },
     "output_type": "display_data"
    }
   ],
   "source": [
    "fig, ax = plt.subplots(figsize=(10,5),ncols=2)\n",
    "ax[0].hist2d(truth[:,0],pred[:,0]+3,bins=100,range=((0,7),(0,7)));\n",
    "ax[1].hist2d(truth[:,1],pred[:,1]+3,bins=100,range=((0,3),(0,3)));"
   ]
  },
  {
   "cell_type": "code",
   "execution_count": 10,
   "metadata": {},
   "outputs": [
    {
     "data": {
      "text/html": [
       "<br/>Waiting for W&B process to finish, PID 1924<br/>Program ended successfully."
      ],
      "text/plain": [
       "<IPython.core.display.HTML object>"
      ]
     },
     "metadata": {},
     "output_type": "display_data"
    },
    {
     "data": {
      "application/vnd.jupyter.widget-view+json": {
       "model_id": "",
       "version_major": 2,
       "version_minor": 0
      },
      "text/plain": [
       "VBox(children=(Label(value=' 0.00MB of 0.00MB uploaded (0.00MB deduped)\\r'), FloatProgress(value=1.0, max=1.0)…"
      ]
     },
     "metadata": {},
     "output_type": "display_data"
    },
    {
     "data": {
      "text/html": [
       "Find user logs for this run at: <code>C:\\Users\\jv97\\Desktop\\github\\Neutrino-Machine-Learning\\wandb\\run-20210319_114003-test_angle_m10_yn3x\\logs\\debug.log</code>"
      ],
      "text/plain": [
       "<IPython.core.display.HTML object>"
      ]
     },
     "metadata": {},
     "output_type": "display_data"
    },
    {
     "data": {
      "text/html": [
       "Find internal logs for this run at: <code>C:\\Users\\jv97\\Desktop\\github\\Neutrino-Machine-Learning\\wandb\\run-20210319_114003-test_angle_m10_yn3x\\logs\\debug-internal.log</code>"
      ],
      "text/plain": [
       "<IPython.core.display.HTML object>"
      ]
     },
     "metadata": {},
     "output_type": "display_data"
    },
    {
     "data": {
      "text/html": [
       "<h3>Run summary:</h3><br/><style>\n",
       "    table.wandb td:nth-child(1) { padding: 0 10px; text-align: right }\n",
       "    </style><table class=\"wandb\">\n",
       "<tr><td>lr-Adam</td><td>0.01789</td></tr><tr><td>_runtime</td><td>2022</td></tr><tr><td>_timestamp</td><td>1616152425</td></tr><tr><td>_step</td><td>899</td></tr><tr><td>Train Loss</td><td>1.30021</td></tr><tr><td>Train Acc</td><td>1.90416</td></tr><tr><td>epoch</td><td>1</td></tr><tr><td>Val Acc</td><td>2.19128</td></tr></table>"
      ],
      "text/plain": [
       "<IPython.core.display.HTML object>"
      ]
     },
     "metadata": {},
     "output_type": "display_data"
    },
    {
     "data": {
      "text/html": [
       "<h3>Run history:</h3><br/><style>\n",
       "    table.wandb td:nth-child(1) { padding: 0 10px; text-align: right }\n",
       "    </style><table class=\"wandb\">\n",
       "<tr><td>lr-Adam</td><td>▁█</td></tr><tr><td>_runtime</td><td>▁▁▂▂▃▃▃▄▄▅▅▆▆▆▆▆▇▇▇██</td></tr><tr><td>_timestamp</td><td>▁▁▂▂▃▃▃▄▄▅▅▆▆▆▆▆▇▇▇██</td></tr><tr><td>_step</td><td>▁▁▂▂▃▃▃▄▄▄▅▅▆▆▆▆▆▇▇██</td></tr><tr><td>Train Loss</td><td>████████▇▆▇▇▅▄▅▅▂▁</td></tr><tr><td>Train Acc</td><td>▇▇▆▇█▇▆▇▆▆█▇▆▆▆▅▅▁</td></tr><tr><td>epoch</td><td>▁▁▁▁▁▁▁▁▁▁▁▁███████</td></tr><tr><td>Val Acc</td><td>▁</td></tr></table><br/>"
      ],
      "text/plain": [
       "<IPython.core.display.HTML object>"
      ]
     },
     "metadata": {},
     "output_type": "display_data"
    },
    {
     "data": {
      "text/html": [
       "Synced 5 W&B file(s), 0 media file(s), 0 artifact file(s) and 0 other file(s)"
      ],
      "text/plain": [
       "<IPython.core.display.HTML object>"
      ]
     },
     "metadata": {},
     "output_type": "display_data"
    },
    {
     "data": {
      "text/html": [
       "\n",
       "                    <br/>Synced <strong style=\"color:#cdcd00\">test_angle_m10</strong>: <a href=\"https://wandb.ai/vinther901/Neutrino-Machine-Learning/runs/test_angle_m10_yn3x\" target=\"_blank\">https://wandb.ai/vinther901/Neutrino-Machine-Learning/runs/test_angle_m10_yn3x</a><br/>\n",
       "                "
      ],
      "text/plain": [
       "<IPython.core.display.HTML object>"
      ]
     },
     "metadata": {},
     "output_type": "display_data"
    }
   ],
   "source": [
    "wandb.finish()"
   ]
  },
  {
   "cell_type": "code",
   "execution_count": null,
   "metadata": {},
   "outputs": [],
   "source": []
  }
 ],
 "metadata": {
  "kernelspec": {
   "display_name": "Python 3",
   "language": "python",
   "name": "python3"
  },
  "language_info": {
   "codemirror_mode": {
    "name": "ipython",
    "version": 3
   },
   "file_extension": ".py",
   "mimetype": "text/x-python",
   "name": "python",
   "nbconvert_exporter": "python",
   "pygments_lexer": "ipython3",
   "version": "3.7.6"
  }
 },
 "nbformat": 4,
 "nbformat_minor": 4
}
