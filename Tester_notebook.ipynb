{
 "cells": [
  {
   "cell_type": "code",
   "execution_count": 1,
   "metadata": {},
   "outputs": [],
   "source": [
    "import numpy as np\n",
    "import matplotlib.pyplot as plt\n",
    "import torch\n",
    "import pandas as pd\n",
    "import time\n",
    "import wandb\n",
    "import pytorch_lightning as pl\n",
    "\n",
    "import FunctionCollection as fc\n",
    "import importlib\n",
    "fc = importlib.reload(fc)\n",
    "import os"
   ]
  },
  {
   "cell_type": "code",
   "execution_count": 2,
   "metadata": {},
   "outputs": [],
   "source": [
    "path = r'C:\\Users\\jv97\\Desktop\\github\\Neutrino-Machine-Learning'\n",
    "\n",
    "run_name = 'oscNext_angle_m9'\n",
    "\n",
    "args = {'N_edge_feats': 6,\n",
    "        'N_dom_feats': 5,\n",
    "        'N_targets': 2,\n",
    "        'N_outputs': 4,\n",
    "        'N_metalayers': 1,\n",
    "        'N_hcs': 64,\n",
    "        'diagonal_cov': True,\n",
    "        'wandb_activated': True,\n",
    "        'type': 'twice_Polar_NLLH',\n",
    "        'zenith': True,\n",
    "        'id': '2vr5',#wandb.util.generate_id()[:4],\n",
    "        'eps': 0,\n",
    "        'lr': 0.0209,\n",
    "        'filename': 'dev_level7_oscNext_IC86_003_unscaled.db',#dev_level7_mu_e_tau_oscweight_000.db #rasmus_classification_muon_3neutrino_3mio.db #dev_level7_oscNext_IC86_003.db\n",
    "        'features': 'charge_log10, dom_time, dom_x, dom_y, dom_z',\n",
    "        'targets': 'event_no, azimuth_retro, zenith_retro, azimuth_sigma, zenith_sigma',\n",
    "        'TrTV': (0,1,1)\n",
    "       }"
   ]
  },
  {
   "cell_type": "code",
   "execution_count": 3,
   "metadata": {
    "scrolled": false
   },
   "outputs": [],
   "source": [
    "tf = pd.read_pickle(r'C:\\Users\\jv97\\Desktop\\github\\Neutrino-Machine-Learning\\datasets\\transformers.pkl')\n",
    "time_center, time_scale = tf['features']['time'].center_[0], tf['features']['time'].scale_[0]\n",
    "charge_center, charge_scale = tf['features']['charge_log10'].center_[0], tf['features']['charge_log10'].scale_[0]"
   ]
  },
  {
   "cell_type": "code",
   "execution_count": 4,
   "metadata": {
    "scrolled": false
   },
   "outputs": [],
   "source": [
    "filepath = os.path.join(path,'raw_data/dev_level7_oscNext_IC86_003/data')\n",
    "# event_nos = pd.read_pickle(os.path.join(path,f'checkpoints/{run_name}_{args[\"id\"]}/test_event_nos.pkl')).iloc[:1000000]\n",
    "\n",
    "def x_transform(df):\n",
    "    df['charge_log10'] = (df['charge_log10'] - charge_center)/charge_scale\n",
    "    df['dom_time'] = (df['dom_time'] - time_center)/time_scale\n",
    "    df[['dom_x','dom_y','dom_z']] /= 300\n",
    "    return torch.tensor(df.values)\n",
    "def y_transform(df):\n",
    "    return torch.tensor(df.values)\n",
    "\n",
    "dataset = fc.custom_db_dataset(filepath = filepath,\n",
    "                               filename = args['filename'],\n",
    "                               features = args['features'],\n",
    "                               targets = args['targets'],\n",
    "                               TrTV = args['TrTV'],\n",
    "#                                event_nos = event_nos,\n",
    "                               x_transform = x_transform,\n",
    "                               y_transform = y_transform,\n",
    "                               shuffle = False)"
   ]
  },
  {
   "cell_type": "code",
   "execution_count": 5,
   "metadata": {
    "scrolled": false
   },
   "outputs": [],
   "source": [
    "# train_loader, test_loader, val_loader = dataset.return_dataloaders(batch_size=512) #~0.6sec loading time pr. batch\n",
    "data_loader = dataset.return_dataloader(batch_size=1024)"
   ]
  },
  {
   "cell_type": "code",
   "execution_count": 6,
   "metadata": {},
   "outputs": [
    {
     "name": "stdout",
     "output_type": "stream",
     "text": [
      "Remember all accuracies are positive and defined to go towards 0 in the optimal case.\n"
     ]
    }
   ],
   "source": [
    "import Model_Loaders.Model_9 as M\n",
    "M = importlib.reload(M)\n",
    "\n",
    "Net = M.Load_model(args['type'],args)\n",
    "model = Net.load_from_checkpoint(path + '/checkpoints/' + run_name + '_' + args['id'] + '/' + run_name + '_latest.ckpt')"
   ]
  },
  {
   "cell_type": "code",
   "execution_count": 7,
   "metadata": {},
   "outputs": [
    {
     "name": "stderr",
     "output_type": "stream",
     "text": [
      "Batch: 100%|███████████████████████████████████| 63/63 [02:14<00:00,  1.73s/it]"
     ]
    }
   ],
   "source": [
    "model.to(torch.device('cuda'))\n",
    "pred, truth = fc.return_reco_truth(model,data_loader)"
   ]
  },
  {
   "cell_type": "code",
   "execution_count": 8,
   "metadata": {},
   "outputs": [],
   "source": [
    "df_truth = pd.DataFrame(data=truth,columns=args['targets'].split(', '))\n",
    "df_pred = pd.DataFrame(data=pred,columns=['azimuth_pred','zenith_pred','azimuth_pred_sigma','zenith_pred_sigma'])\n",
    "# pd.concat([df_truth,df_pred],axis=1).to_pickle(r'C:\\Users\\jv97\\Desktop\\github\\Neutrino-Machine-Learning\\checkpoints\\oscNext_angle_m9_2vr5\\test_data_predictions.pkl')"
   ]
  },
  {
   "cell_type": "code",
   "execution_count": 9,
   "metadata": {},
   "outputs": [
    {
     "data": {
      "text/html": [
       "<div>\n",
       "<style scoped>\n",
       "    .dataframe tbody tr th:only-of-type {\n",
       "        vertical-align: middle;\n",
       "    }\n",
       "\n",
       "    .dataframe tbody tr th {\n",
       "        vertical-align: top;\n",
       "    }\n",
       "\n",
       "    .dataframe thead th {\n",
       "        text-align: right;\n",
       "    }\n",
       "</style>\n",
       "<table border=\"1\" class=\"dataframe\">\n",
       "  <thead>\n",
       "    <tr style=\"text-align: right;\">\n",
       "      <th></th>\n",
       "      <th>event_no</th>\n",
       "      <th>azimuth_retro</th>\n",
       "      <th>zenith_retro</th>\n",
       "      <th>azimuth_sigma</th>\n",
       "      <th>zenith_sigma</th>\n",
       "      <th>azimuth_pred</th>\n",
       "      <th>zenith_pred</th>\n",
       "      <th>azimuth_pred_sigma</th>\n",
       "      <th>zenith_pred_sigma</th>\n",
       "    </tr>\n",
       "  </thead>\n",
       "  <tbody>\n",
       "    <tr>\n",
       "      <th>0</th>\n",
       "      <td>0.0</td>\n",
       "      <td>1.947995</td>\n",
       "      <td>1.447643</td>\n",
       "      <td>0.011919</td>\n",
       "      <td>0.006036</td>\n",
       "      <td>2.097930</td>\n",
       "      <td>1.554986</td>\n",
       "      <td>-7.287058</td>\n",
       "      <td>-8.975826</td>\n",
       "    </tr>\n",
       "    <tr>\n",
       "      <th>1</th>\n",
       "      <td>1.0</td>\n",
       "      <td>1.429471</td>\n",
       "      <td>0.964943</td>\n",
       "      <td>0.313485</td>\n",
       "      <td>0.461077</td>\n",
       "      <td>1.212115</td>\n",
       "      <td>1.022235</td>\n",
       "      <td>-0.896617</td>\n",
       "      <td>-2.218345</td>\n",
       "    </tr>\n",
       "    <tr>\n",
       "      <th>2</th>\n",
       "      <td>2.0</td>\n",
       "      <td>2.910558</td>\n",
       "      <td>0.779122</td>\n",
       "      <td>0.786920</td>\n",
       "      <td>0.352431</td>\n",
       "      <td>3.311777</td>\n",
       "      <td>1.598022</td>\n",
       "      <td>-1.387376</td>\n",
       "      <td>-2.446280</td>\n",
       "    </tr>\n",
       "    <tr>\n",
       "      <th>3</th>\n",
       "      <td>3.0</td>\n",
       "      <td>4.711105</td>\n",
       "      <td>1.321742</td>\n",
       "      <td>0.463091</td>\n",
       "      <td>0.317207</td>\n",
       "      <td>4.021784</td>\n",
       "      <td>1.779897</td>\n",
       "      <td>-0.627772</td>\n",
       "      <td>-2.152980</td>\n",
       "    </tr>\n",
       "    <tr>\n",
       "      <th>4</th>\n",
       "      <td>4.0</td>\n",
       "      <td>2.461376</td>\n",
       "      <td>1.561457</td>\n",
       "      <td>0.473049</td>\n",
       "      <td>0.526679</td>\n",
       "      <td>1.738041</td>\n",
       "      <td>1.736209</td>\n",
       "      <td>-0.974840</td>\n",
       "      <td>-2.288333</td>\n",
       "    </tr>\n",
       "    <tr>\n",
       "      <th>...</th>\n",
       "      <td>...</td>\n",
       "      <td>...</td>\n",
       "      <td>...</td>\n",
       "      <td>...</td>\n",
       "      <td>...</td>\n",
       "      <td>...</td>\n",
       "      <td>...</td>\n",
       "      <td>...</td>\n",
       "      <td>...</td>\n",
       "    </tr>\n",
       "    <tr>\n",
       "      <th>63796</th>\n",
       "      <td>117702055.0</td>\n",
       "      <td>4.581205</td>\n",
       "      <td>0.322708</td>\n",
       "      <td>2.936832</td>\n",
       "      <td>0.518159</td>\n",
       "      <td>0.218523</td>\n",
       "      <td>1.432123</td>\n",
       "      <td>-0.524001</td>\n",
       "      <td>-1.874680</td>\n",
       "    </tr>\n",
       "    <tr>\n",
       "      <th>63797</th>\n",
       "      <td>117702056.0</td>\n",
       "      <td>5.190562</td>\n",
       "      <td>1.688600</td>\n",
       "      <td>0.346256</td>\n",
       "      <td>0.168343</td>\n",
       "      <td>0.392853</td>\n",
       "      <td>1.405627</td>\n",
       "      <td>-0.554134</td>\n",
       "      <td>-2.678306</td>\n",
       "    </tr>\n",
       "    <tr>\n",
       "      <th>63798</th>\n",
       "      <td>117702057.0</td>\n",
       "      <td>0.176816</td>\n",
       "      <td>1.671801</td>\n",
       "      <td>-5.833329</td>\n",
       "      <td>0.307980</td>\n",
       "      <td>0.449605</td>\n",
       "      <td>1.493591</td>\n",
       "      <td>-0.989682</td>\n",
       "      <td>-2.247345</td>\n",
       "    </tr>\n",
       "    <tr>\n",
       "      <th>63799</th>\n",
       "      <td>117702058.0</td>\n",
       "      <td>3.374813</td>\n",
       "      <td>0.751226</td>\n",
       "      <td>1.782722</td>\n",
       "      <td>0.387041</td>\n",
       "      <td>3.359108</td>\n",
       "      <td>1.503775</td>\n",
       "      <td>-0.705107</td>\n",
       "      <td>-1.928802</td>\n",
       "    </tr>\n",
       "    <tr>\n",
       "      <th>63800</th>\n",
       "      <td>117702059.0</td>\n",
       "      <td>6.188914</td>\n",
       "      <td>0.693116</td>\n",
       "      <td>0.174497</td>\n",
       "      <td>0.235492</td>\n",
       "      <td>0.815907</td>\n",
       "      <td>0.926119</td>\n",
       "      <td>-0.949980</td>\n",
       "      <td>-2.185220</td>\n",
       "    </tr>\n",
       "  </tbody>\n",
       "</table>\n",
       "<p>63801 rows × 9 columns</p>\n",
       "</div>"
      ],
      "text/plain": [
       "          event_no  azimuth_retro  zenith_retro  azimuth_sigma  zenith_sigma  \\\n",
       "0              0.0       1.947995      1.447643       0.011919      0.006036   \n",
       "1              1.0       1.429471      0.964943       0.313485      0.461077   \n",
       "2              2.0       2.910558      0.779122       0.786920      0.352431   \n",
       "3              3.0       4.711105      1.321742       0.463091      0.317207   \n",
       "4              4.0       2.461376      1.561457       0.473049      0.526679   \n",
       "...            ...            ...           ...            ...           ...   \n",
       "63796  117702055.0       4.581205      0.322708       2.936832      0.518159   \n",
       "63797  117702056.0       5.190562      1.688600       0.346256      0.168343   \n",
       "63798  117702057.0       0.176816      1.671801      -5.833329      0.307980   \n",
       "63799  117702058.0       3.374813      0.751226       1.782722      0.387041   \n",
       "63800  117702059.0       6.188914      0.693116       0.174497      0.235492   \n",
       "\n",
       "       azimuth_pred  zenith_pred  azimuth_pred_sigma  zenith_pred_sigma  \n",
       "0          2.097930     1.554986           -7.287058          -8.975826  \n",
       "1          1.212115     1.022235           -0.896617          -2.218345  \n",
       "2          3.311777     1.598022           -1.387376          -2.446280  \n",
       "3          4.021784     1.779897           -0.627772          -2.152980  \n",
       "4          1.738041     1.736209           -0.974840          -2.288333  \n",
       "...             ...          ...                 ...                ...  \n",
       "63796      0.218523     1.432123           -0.524001          -1.874680  \n",
       "63797      0.392853     1.405627           -0.554134          -2.678306  \n",
       "63798      0.449605     1.493591           -0.989682          -2.247345  \n",
       "63799      3.359108     1.503775           -0.705107          -1.928802  \n",
       "63800      0.815907     0.926119           -0.949980          -2.185220  \n",
       "\n",
       "[63801 rows x 9 columns]"
      ]
     },
     "execution_count": 9,
     "metadata": {},
     "output_type": "execute_result"
    }
   ],
   "source": [
    "pd.concat([df_truth,df_pred],axis=1)"
   ]
  },
  {
   "cell_type": "code",
   "execution_count": 103,
   "metadata": {},
   "outputs": [
    {
     "data": {
      "text/html": [
       "<br/>Waiting for W&B process to finish, PID 6896<br/>Program ended successfully."
      ],
      "text/plain": [
       "<IPython.core.display.HTML object>"
      ]
     },
     "metadata": {},
     "output_type": "display_data"
    },
    {
     "data": {
      "application/vnd.jupyter.widget-view+json": {
       "model_id": "",
       "version_major": 2,
       "version_minor": 0
      },
      "text/plain": [
       "VBox(children=(Label(value=' 0.01MB of 0.01MB uploaded (0.00MB deduped)\\r'), FloatProgress(value=1.0, max=1.0)…"
      ]
     },
     "metadata": {},
     "output_type": "display_data"
    },
    {
     "data": {
      "text/html": [
       "Find user logs for this run at: <code>C:\\Users\\jv97\\Desktop\\github\\Neutrino-Machine-Learning\\wandb\\run-20210317_144531-oscNext_angle_m9_2vr5\\logs\\debug.log</code>"
      ],
      "text/plain": [
       "<IPython.core.display.HTML object>"
      ]
     },
     "metadata": {},
     "output_type": "display_data"
    },
    {
     "data": {
      "text/html": [
       "Find internal logs for this run at: <code>C:\\Users\\jv97\\Desktop\\github\\Neutrino-Machine-Learning\\wandb\\run-20210317_144531-oscNext_angle_m9_2vr5\\logs\\debug-internal.log</code>"
      ],
      "text/plain": [
       "<IPython.core.display.HTML object>"
      ]
     },
     "metadata": {},
     "output_type": "display_data"
    },
    {
     "data": {
      "text/html": [
       "<h3>Run summary:</h3><br/><style>\n",
       "    table.wandb td:nth-child(1) { padding: 0 10px; text-align: right }\n",
       "    </style><table class=\"wandb\">\n",
       "<tr><td>_runtime</td><td>14458</td></tr><tr><td>_timestamp</td><td>1616003189</td></tr><tr><td>_step</td><td>10749</td></tr><tr><td>Train Loss</td><td>-0.33702</td></tr><tr><td>Train Acc</td><td>0.6416</td></tr><tr><td>epoch</td><td>27</td></tr><tr><td>Val Acc</td><td>0.65624</td></tr><tr><td>lr-Adam</td><td>0.00678</td></tr></table>"
      ],
      "text/plain": [
       "<IPython.core.display.HTML object>"
      ]
     },
     "metadata": {},
     "output_type": "display_data"
    },
    {
     "data": {
      "text/html": [
       "<h3>Run history:</h3><br/><style>\n",
       "    table.wandb td:nth-child(1) { padding: 0 10px; text-align: right }\n",
       "    </style><table class=\"wandb\">\n",
       "<tr><td>_runtime</td><td>▁▁▁▂▂▂▂▂▂▃▃▃▃▃▄▄▄▄▄▅▅▅▅▅▆▆▆▆▆▆▆▇▇▇▇▇▇███</td></tr><tr><td>_timestamp</td><td>▁▁▁▂▂▂▂▂▂▃▃▃▃▃▄▄▄▄▄▅▅▅▅▅▆▆▆▆▆▆▆▇▇▇▇▇▇███</td></tr><tr><td>_step</td><td>▁▁▁▂▂▂▂▂▂▃▃▃▃▃▃▄▄▄▄▄▅▅▅▅▅▅▆▆▆▆▆▆▇▇▇▇▇███</td></tr><tr><td>Train Loss</td><td>█▆▆▆▅▄▅▅▅▄▃▃▃▃▃▃▃▂▂▂▃▃▄▂▂▂▂▂▂▂▂▂▂▁▁▃▁▂▂▁</td></tr><tr><td>Train Acc</td><td>█▆▆▆▆▅▅▆▅▃▃▂▂▂▂▂▂▁▁▂▂▂▃▁▁▂▂▁▁▁▁▁▂▁▁▂▁▁▁▁</td></tr><tr><td>epoch</td><td>▁▁▁▂▂▂▂▂▂▃▃▃▃▃▃▄▄▄▄▄▅▅▅▅▅▆▆▆▆▆▆▇▇▇▇▇▇███</td></tr><tr><td>Val Acc</td><td>██▇▇▇▆▃▂▃▂▂▁▁▁▂▂▁▁▁▁▁▂▁▁▁▁▁</td></tr><tr><td>lr-Adam</td><td>▁█▇▇▆▆▅▅▅▄▄▄▄▃▃▃▃▃▃▃▂▂▂▂▂▂▂</td></tr></table><br/>"
      ],
      "text/plain": [
       "<IPython.core.display.HTML object>"
      ]
     },
     "metadata": {},
     "output_type": "display_data"
    },
    {
     "data": {
      "text/html": [
       "Synced 5 W&B file(s), 1 media file(s), 0 artifact file(s) and 0 other file(s)"
      ],
      "text/plain": [
       "<IPython.core.display.HTML object>"
      ]
     },
     "metadata": {},
     "output_type": "display_data"
    },
    {
     "data": {
      "text/html": [
       "\n",
       "                    <br/>Synced <strong style=\"color:#cdcd00\">oscNext_angle_m9</strong>: <a href=\"https://wandb.ai/vinther901/Neutrino-Machine-Learning/runs/oscNext_angle_m9_2vr5\" target=\"_blank\">https://wandb.ai/vinther901/Neutrino-Machine-Learning/runs/oscNext_angle_m9_2vr5</a><br/>\n",
       "                "
      ],
      "text/plain": [
       "<IPython.core.display.HTML object>"
      ]
     },
     "metadata": {},
     "output_type": "display_data"
    }
   ],
   "source": [
    "# wandb.finish()"
   ]
  }
 ],
 "metadata": {
  "kernelspec": {
   "display_name": "Python 3",
   "language": "python",
   "name": "python3"
  },
  "language_info": {
   "codemirror_mode": {
    "name": "ipython",
    "version": 3
   },
   "file_extension": ".py",
   "mimetype": "text/x-python",
   "name": "python",
   "nbconvert_exporter": "python",
   "pygments_lexer": "ipython3",
   "version": "3.7.6"
  }
 },
 "nbformat": 4,
 "nbformat_minor": 4
}
