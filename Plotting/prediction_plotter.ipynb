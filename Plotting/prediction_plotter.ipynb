{
 "cells": [
  {
   "cell_type": "code",
   "execution_count": 1,
   "metadata": {},
   "outputs": [],
   "source": [
    "import pandas as pd\n",
    "import matplotlib.pyplot as plt\n",
    "import numpy as np\n",
    "import sys\n",
    "sys.path.insert(1, r'C:\\Users\\jv97\\Desktop\\github\\Neutrino-Machine-Learning')\n",
    "\n",
    "import os\n",
    "import numpy as np\n",
    "import matplotlib.pyplot as plt\n",
    "import pandas as pd\n",
    "from iminuit import Minuit\n",
    "import FunctionCollection as fc\n",
    "import importlib\n",
    "import quadpy\n",
    "from scipy.special import erf\n",
    "from scipy.integrate import quad_vec\n",
    "import sympy\n",
    "fc = importlib.reload(fc)\n",
    "from tqdm import tqdm\n",
    "from scipy.stats import norm\n",
    "import time"
   ]
  },
  {
   "cell_type": "code",
   "execution_count": 12,
   "metadata": {},
   "outputs": [
    {
     "data": {
      "text/html": [
       "<div>\n",
       "<style scoped>\n",
       "    .dataframe tbody tr th:only-of-type {\n",
       "        vertical-align: middle;\n",
       "    }\n",
       "\n",
       "    .dataframe tbody tr th {\n",
       "        vertical-align: top;\n",
       "    }\n",
       "\n",
       "    .dataframe thead th {\n",
       "        text-align: right;\n",
       "    }\n",
       "</style>\n",
       "<table border=\"1\" class=\"dataframe\">\n",
       "  <thead>\n",
       "    <tr style=\"text-align: right;\">\n",
       "      <th></th>\n",
       "      <th>Unnamed: 0</th>\n",
       "      <th>event_no</th>\n",
       "      <th>energy_log10_pred</th>\n",
       "      <th>zenith_pred</th>\n",
       "      <th>energy_log10_sig</th>\n",
       "      <th>zenith_kap</th>\n",
       "    </tr>\n",
       "  </thead>\n",
       "  <tbody>\n",
       "    <tr>\n",
       "      <th>0</th>\n",
       "      <td>0</td>\n",
       "      <td>13188815.0</td>\n",
       "      <td>1.502312</td>\n",
       "      <td>1.130139</td>\n",
       "      <td>0.252136</td>\n",
       "      <td>17.168309</td>\n",
       "    </tr>\n",
       "    <tr>\n",
       "      <th>1</th>\n",
       "      <td>1</td>\n",
       "      <td>13188840.0</td>\n",
       "      <td>1.925390</td>\n",
       "      <td>0.990469</td>\n",
       "      <td>0.364942</td>\n",
       "      <td>5.138604</td>\n",
       "    </tr>\n",
       "    <tr>\n",
       "      <th>2</th>\n",
       "      <td>2</td>\n",
       "      <td>13188844.0</td>\n",
       "      <td>1.760071</td>\n",
       "      <td>0.944378</td>\n",
       "      <td>0.311438</td>\n",
       "      <td>5.359841</td>\n",
       "    </tr>\n",
       "    <tr>\n",
       "      <th>3</th>\n",
       "      <td>3</td>\n",
       "      <td>13188911.0</td>\n",
       "      <td>1.543279</td>\n",
       "      <td>1.332838</td>\n",
       "      <td>0.425745</td>\n",
       "      <td>4.854274</td>\n",
       "    </tr>\n",
       "    <tr>\n",
       "      <th>4</th>\n",
       "      <td>4</td>\n",
       "      <td>13189105.0</td>\n",
       "      <td>1.356978</td>\n",
       "      <td>1.324098</td>\n",
       "      <td>0.371058</td>\n",
       "      <td>3.186466</td>\n",
       "    </tr>\n",
       "  </tbody>\n",
       "</table>\n",
       "</div>"
      ],
      "text/plain": [
       "   Unnamed: 0    event_no  energy_log10_pred  zenith_pred  energy_log10_sig  \\\n",
       "0           0  13188815.0           1.502312     1.130139          0.252136   \n",
       "1           1  13188840.0           1.925390     0.990469          0.364942   \n",
       "2           2  13188844.0           1.760071     0.944378          0.311438   \n",
       "3           3  13188911.0           1.543279     1.332838          0.425745   \n",
       "4           4  13189105.0           1.356978     1.324098          0.371058   \n",
       "\n",
       "   zenith_kap  \n",
       "0   17.168309  \n",
       "1    5.138604  \n",
       "2    5.359841  \n",
       "3    4.854274  \n",
       "4    3.186466  "
      ]
     },
     "execution_count": 12,
     "metadata": {},
     "output_type": "execute_result"
    }
   ],
   "source": [
    "pred_path = r'C:\\Users\\jv97\\Desktop\\github\\Neutrino-Machine-Learning\\predictions'\n",
    "\n",
    "# df = pd.read_csv(os.path.join(pred_path,'OscNext_EAngle_m27_2kql_test_predictions.csv'))\n",
    "df = pd.read_csv(os.path.join(pred_path,'OscNext_ZeE_m27_3f6o_test_predictions.csv'))\n",
    "# df = pd.read_csv(os.path.join(pred_path,'OscNext_Angle_m27_23ge_test_predictions.csv'))\n",
    "# df = pd.read_csv(os.path.join(pred_path,'Muon_EAngle_m27_3dj6_test_predictions.csv'))\n",
    "df.head()"
   ]
  },
  {
   "cell_type": "code",
   "execution_count": 16,
   "metadata": {},
   "outputs": [
    {
     "data": {
      "text/html": [
       "<div>\n",
       "<style scoped>\n",
       "    .dataframe tbody tr th:only-of-type {\n",
       "        vertical-align: middle;\n",
       "    }\n",
       "\n",
       "    .dataframe tbody tr th {\n",
       "        vertical-align: top;\n",
       "    }\n",
       "\n",
       "    .dataframe thead th {\n",
       "        text-align: right;\n",
       "    }\n",
       "</style>\n",
       "<table border=\"1\" class=\"dataframe\">\n",
       "  <thead>\n",
       "    <tr style=\"text-align: right;\">\n",
       "      <th></th>\n",
       "      <th>Unnamed: 0</th>\n",
       "      <th>Unnamed: 0.1</th>\n",
       "      <th>event_no</th>\n",
       "      <th>energy_log10</th>\n",
       "      <th>azimuth</th>\n",
       "      <th>zenith</th>\n",
       "      <th>x</th>\n",
       "      <th>y</th>\n",
       "      <th>z</th>\n",
       "      <th>energy_log10_pred</th>\n",
       "      <th>...</th>\n",
       "      <th>x_pred</th>\n",
       "      <th>y_pred</th>\n",
       "      <th>z_pred</th>\n",
       "      <th>energy_log10_sig</th>\n",
       "      <th>x_sig</th>\n",
       "      <th>y_sig</th>\n",
       "      <th>z_sig</th>\n",
       "      <th>solid_angle_sig</th>\n",
       "      <th>azimuth_sig</th>\n",
       "      <th>zenith_sig</th>\n",
       "    </tr>\n",
       "  </thead>\n",
       "  <tbody>\n",
       "    <tr>\n",
       "      <th>0</th>\n",
       "      <td>0</td>\n",
       "      <td>0</td>\n",
       "      <td>27026074.0</td>\n",
       "      <td>2.339276</td>\n",
       "      <td>5.965024</td>\n",
       "      <td>0.951963</td>\n",
       "      <td>0.773675</td>\n",
       "      <td>-0.254810</td>\n",
       "      <td>0.580085</td>\n",
       "      <td>1.547945</td>\n",
       "      <td>...</td>\n",
       "      <td>0.548011</td>\n",
       "      <td>0.555191</td>\n",
       "      <td>0.313247</td>\n",
       "      <td>0.266775</td>\n",
       "      <td>0.299112</td>\n",
       "      <td>0.317034</td>\n",
       "      <td>0.287479</td>\n",
       "      <td>0.365083</td>\n",
       "      <td>0.394933</td>\n",
       "      <td>0.345524</td>\n",
       "    </tr>\n",
       "    <tr>\n",
       "      <th>1</th>\n",
       "      <td>1</td>\n",
       "      <td>1</td>\n",
       "      <td>18018600.0</td>\n",
       "      <td>2.291836</td>\n",
       "      <td>0.055570</td>\n",
       "      <td>0.956157</td>\n",
       "      <td>0.815720</td>\n",
       "      <td>0.045376</td>\n",
       "      <td>0.576664</td>\n",
       "      <td>1.945694</td>\n",
       "      <td>...</td>\n",
       "      <td>0.290151</td>\n",
       "      <td>0.162443</td>\n",
       "      <td>0.474449</td>\n",
       "      <td>0.386483</td>\n",
       "      <td>0.435394</td>\n",
       "      <td>0.544824</td>\n",
       "      <td>0.352092</td>\n",
       "      <td>0.779818</td>\n",
       "      <td>1.566189</td>\n",
       "      <td>0.742628</td>\n",
       "    </tr>\n",
       "    <tr>\n",
       "      <th>2</th>\n",
       "      <td>2</td>\n",
       "      <td>2</td>\n",
       "      <td>21018872.0</td>\n",
       "      <td>2.361583</td>\n",
       "      <td>4.538415</td>\n",
       "      <td>0.831754</td>\n",
       "      <td>-0.127939</td>\n",
       "      <td>-0.727957</td>\n",
       "      <td>0.673581</td>\n",
       "      <td>1.367079</td>\n",
       "      <td>...</td>\n",
       "      <td>0.676238</td>\n",
       "      <td>0.183609</td>\n",
       "      <td>0.269970</td>\n",
       "      <td>0.377416</td>\n",
       "      <td>0.293216</td>\n",
       "      <td>0.467504</td>\n",
       "      <td>0.391498</td>\n",
       "      <td>0.574829</td>\n",
       "      <td>0.653133</td>\n",
       "      <td>0.508399</td>\n",
       "    </tr>\n",
       "    <tr>\n",
       "      <th>3</th>\n",
       "      <td>3</td>\n",
       "      <td>3</td>\n",
       "      <td>72065686.0</td>\n",
       "      <td>2.356631</td>\n",
       "      <td>4.418117</td>\n",
       "      <td>1.123479</td>\n",
       "      <td>-0.261506</td>\n",
       "      <td>-0.862854</td>\n",
       "      <td>0.432548</td>\n",
       "      <td>1.786912</td>\n",
       "      <td>...</td>\n",
       "      <td>0.077208</td>\n",
       "      <td>-0.358601</td>\n",
       "      <td>0.548460</td>\n",
       "      <td>0.249609</td>\n",
       "      <td>0.425867</td>\n",
       "      <td>0.510846</td>\n",
       "      <td>0.400673</td>\n",
       "      <td>0.708710</td>\n",
       "      <td>1.172210</td>\n",
       "      <td>0.722861</td>\n",
       "    </tr>\n",
       "    <tr>\n",
       "      <th>4</th>\n",
       "      <td>4</td>\n",
       "      <td>4</td>\n",
       "      <td>78067166.0</td>\n",
       "      <td>2.360585</td>\n",
       "      <td>4.256743</td>\n",
       "      <td>0.958790</td>\n",
       "      <td>-0.360174</td>\n",
       "      <td>-0.734991</td>\n",
       "      <td>0.574511</td>\n",
       "      <td>1.593515</td>\n",
       "      <td>...</td>\n",
       "      <td>-0.495322</td>\n",
       "      <td>-0.215512</td>\n",
       "      <td>0.485777</td>\n",
       "      <td>0.474106</td>\n",
       "      <td>0.430097</td>\n",
       "      <td>0.467101</td>\n",
       "      <td>0.364159</td>\n",
       "      <td>0.634633</td>\n",
       "      <td>0.854184</td>\n",
       "      <td>0.547827</td>\n",
       "    </tr>\n",
       "  </tbody>\n",
       "</table>\n",
       "<p>5 rows × 23 columns</p>\n",
       "</div>"
      ],
      "text/plain": [
       "   Unnamed: 0  Unnamed: 0.1    event_no  energy_log10   azimuth    zenith  \\\n",
       "0           0             0  27026074.0      2.339276  5.965024  0.951963   \n",
       "1           1             1  18018600.0      2.291836  0.055570  0.956157   \n",
       "2           2             2  21018872.0      2.361583  4.538415  0.831754   \n",
       "3           3             3  72065686.0      2.356631  4.418117  1.123479   \n",
       "4           4             4  78067166.0      2.360585  4.256743  0.958790   \n",
       "\n",
       "          x         y         z  energy_log10_pred  ...    x_pred    y_pred  \\\n",
       "0  0.773675 -0.254810  0.580085           1.547945  ...  0.548011  0.555191   \n",
       "1  0.815720  0.045376  0.576664           1.945694  ...  0.290151  0.162443   \n",
       "2 -0.127939 -0.727957  0.673581           1.367079  ...  0.676238  0.183609   \n",
       "3 -0.261506 -0.862854  0.432548           1.786912  ...  0.077208 -0.358601   \n",
       "4 -0.360174 -0.734991  0.574511           1.593515  ... -0.495322 -0.215512   \n",
       "\n",
       "     z_pred  energy_log10_sig     x_sig     y_sig     z_sig  solid_angle_sig  \\\n",
       "0  0.313247          0.266775  0.299112  0.317034  0.287479         0.365083   \n",
       "1  0.474449          0.386483  0.435394  0.544824  0.352092         0.779818   \n",
       "2  0.269970          0.377416  0.293216  0.467504  0.391498         0.574829   \n",
       "3  0.548460          0.249609  0.425867  0.510846  0.400673         0.708710   \n",
       "4  0.485777          0.474106  0.430097  0.467101  0.364159         0.634633   \n",
       "\n",
       "   azimuth_sig  zenith_sig  \n",
       "0     0.394933    0.345524  \n",
       "1     1.566189    0.742628  \n",
       "2     0.653133    0.508399  \n",
       "3     1.172210    0.722861  \n",
       "4     0.854184    0.547827  \n",
       "\n",
       "[5 rows x 23 columns]"
      ]
     },
     "execution_count": 16,
     "metadata": {},
     "output_type": "execute_result"
    }
   ],
   "source": [
    "df2 = pd.read_csv(os.path.join(pred_path,'OscNext_EAngle_m27_2kql_test_predictions.csv'))\n",
    "df2.head()"
   ]
  },
  {
   "cell_type": "code",
   "execution_count": 35,
   "metadata": {},
   "outputs": [],
   "source": [
    "from scipy.special import iv"
   ]
  },
  {
   "cell_type": "code",
   "execution_count": 92,
   "metadata": {},
   "outputs": [],
   "source": [
    "kappa = df.zenith_kap**2 + 1e-5\n",
    "# sigma = np.sqrt(-2*np.log((1 + np.exp(-2*kappa))/(1 - np.exp(-2*kappa)) - 1/kappa))\n",
    "sigma = np.sqrt(-2*np.log(iv(1,kappa)/(iv(0,kappa))))"
   ]
  },
  {
   "cell_type": "code",
   "execution_count": 93,
   "metadata": {},
   "outputs": [
    {
     "name": "stderr",
     "output_type": "stream",
     "text": [
      "C:\\Users\\jv97\\anaconda3\\lib\\site-packages\\ipykernel_launcher.py:12: RuntimeWarning: invalid value encountered in log\n",
      "  if sys.path[0] == '':\n"
     ]
    }
   ],
   "source": [
    "from scipy.special import iv\n",
    "\n",
    "def approx(x):\n",
    "    x=np.array(x)\n",
    "    a=1-3/(8*x)\n",
    "    b=1+1/(8*x)\n",
    "    return a/b\n",
    "\n",
    "def kap_to_sig(kappa):\n",
    "#     kappa =  kappa**2 + 1e-100\n",
    "    kappa =  kappa + 1e-100\n",
    "    sigs=np.where(kappa>700, np.sqrt(abs(np.sqrt(-2*np.log(approx(kappa))))), np.sqrt(abs(np.sqrt(-2*np.log(iv(1,kappa)/iv(0,kappa))))))\n",
    "    return sigs**2\n",
    "\n",
    "sigs = kap_to_sig(kappa)\n"
   ]
  },
  {
   "cell_type": "code",
   "execution_count": 73,
   "metadata": {},
   "outputs": [
    {
     "data": {
      "text/html": [
       "<div>\n",
       "<style scoped>\n",
       "    .dataframe tbody tr th:only-of-type {\n",
       "        vertical-align: middle;\n",
       "    }\n",
       "\n",
       "    .dataframe tbody tr th {\n",
       "        vertical-align: top;\n",
       "    }\n",
       "\n",
       "    .dataframe thead th {\n",
       "        text-align: right;\n",
       "    }\n",
       "</style>\n",
       "<table border=\"1\" class=\"dataframe\">\n",
       "  <thead>\n",
       "    <tr style=\"text-align: right;\">\n",
       "      <th></th>\n",
       "      <th>event_no</th>\n",
       "      <th>zenith</th>\n",
       "    </tr>\n",
       "  </thead>\n",
       "  <tbody>\n",
       "    <tr>\n",
       "      <th>0</th>\n",
       "      <td>13188815.0</td>\n",
       "      <td>0.884398</td>\n",
       "    </tr>\n",
       "    <tr>\n",
       "      <th>1</th>\n",
       "      <td>13188840.0</td>\n",
       "      <td>0.919793</td>\n",
       "    </tr>\n",
       "    <tr>\n",
       "      <th>2</th>\n",
       "      <td>13188844.0</td>\n",
       "      <td>1.084221</td>\n",
       "    </tr>\n",
       "    <tr>\n",
       "      <th>3</th>\n",
       "      <td>13188911.0</td>\n",
       "      <td>1.054799</td>\n",
       "    </tr>\n",
       "    <tr>\n",
       "      <th>4</th>\n",
       "      <td>13189105.0</td>\n",
       "      <td>0.945767</td>\n",
       "    </tr>\n",
       "    <tr>\n",
       "      <th>...</th>\n",
       "      <td>...</td>\n",
       "      <td>...</td>\n",
       "    </tr>\n",
       "    <tr>\n",
       "      <th>1658357</th>\n",
       "      <td>13168513.0</td>\n",
       "      <td>0.682694</td>\n",
       "    </tr>\n",
       "    <tr>\n",
       "      <th>1658358</th>\n",
       "      <td>13171849.0</td>\n",
       "      <td>1.978990</td>\n",
       "    </tr>\n",
       "    <tr>\n",
       "      <th>1658359</th>\n",
       "      <td>13172518.0</td>\n",
       "      <td>1.241440</td>\n",
       "    </tr>\n",
       "    <tr>\n",
       "      <th>1658360</th>\n",
       "      <td>13172584.0</td>\n",
       "      <td>1.160823</td>\n",
       "    </tr>\n",
       "    <tr>\n",
       "      <th>1658361</th>\n",
       "      <td>13181876.0</td>\n",
       "      <td>1.830604</td>\n",
       "    </tr>\n",
       "  </tbody>\n",
       "</table>\n",
       "<p>1658362 rows × 2 columns</p>\n",
       "</div>"
      ],
      "text/plain": [
       "           event_no    zenith\n",
       "0        13188815.0  0.884398\n",
       "1        13188840.0  0.919793\n",
       "2        13188844.0  1.084221\n",
       "3        13188911.0  1.054799\n",
       "4        13189105.0  0.945767\n",
       "...             ...       ...\n",
       "1658357  13168513.0  0.682694\n",
       "1658358  13171849.0  1.978990\n",
       "1658359  13172518.0  1.241440\n",
       "1658360  13172584.0  1.160823\n",
       "1658361  13181876.0  1.830604\n",
       "\n",
       "[1658362 rows x 2 columns]"
      ]
     },
     "execution_count": 73,
     "metadata": {},
     "output_type": "execute_result"
    }
   ],
   "source": [
    "df2.set_index('event_no').loc[df.event_no].zenith.reset_index()"
   ]
  },
  {
   "cell_type": "code",
   "execution_count": 94,
   "metadata": {},
   "outputs": [
    {
     "data": {
      "image/png": "[encoded data removed]",
      "text/plain": [
       "<Figure size 432x288 with 1 Axes>"
      ]
     },
     "metadata": {
      "needs_background": "light"
     },
     "output_type": "display_data"
    }
   ],
   "source": [
    "fig, ax = plt.subplots()\n",
    "ax.hist((df.zenith_pred - zenith.zenith)/sigs,bins=100,range=(-10,10));"
   ]
  },
  {
   "cell_type": "code",
   "execution_count": 74,
   "metadata": {},
   "outputs": [],
   "source": [
    "zenith = df2.set_index('event_no').loc[df.event_no].zenith.reset_index()"
   ]
  },
  {
   "cell_type": "code",
   "execution_count": 95,
   "metadata": {},
   "outputs": [
    {
     "data": {
      "image/png": "[encoded data removed]",
      "text/plain": [
       "<Figure size 432x288 with 1 Axes>"
      ]
     },
     "metadata": {
      "needs_background": "light"
     },
     "output_type": "display_data"
    }
   ],
   "source": [
    "fig, ax = plt.subplots()\n",
    "ax.hist2d(sigs*180/np.pi,(df.zenith_pred - zenith.zenith)*180/np.pi,bins=100,range=((0,100),(-100,100)));"
   ]
  },
  {
   "cell_type": "code",
   "execution_count": 8,
   "metadata": {},
   "outputs": [
    {
     "data": {
      "image/png": "[encoded data removed]",
      "text/plain": [
       "<Figure size 432x288 with 1 Axes>"
      ]
     },
     "metadata": {
      "needs_background": "light"
     },
     "output_type": "display_data"
    }
   ],
   "source": [
    "fig, ax = plt.subplots()\n",
    "ax.hist2d(df.zenith_sig*180/np.pi,(df.zenith_pred - df.zenith)*180/np.pi,bins=100,range=((0,50),(-50,50)));"
   ]
  },
  {
   "cell_type": "code",
   "execution_count": 102,
   "metadata": {},
   "outputs": [
    {
     "data": {
      "text/plain": [
       "0.10582128630540256"
      ]
     },
     "execution_count": 102,
     "metadata": {},
     "output_type": "execute_result"
    }
   ],
   "source": [
    "(df2.zenith_sig*180/np.pi<10).sum()/df2.__len__()"
   ]
  },
  {
   "cell_type": "code",
   "execution_count": 11,
   "metadata": {},
   "outputs": [
    {
     "data": {
      "image/png": "[encoded data removed]",
      "text/plain": [
       "<Figure size 432x288 with 1 Axes>"
      ]
     },
     "metadata": {
      "needs_background": "light"
     },
     "output_type": "display_data"
    }
   ],
   "source": [
    "fig, ax = plt.subplots()\n",
    "ax.hist2d(df.azimuth_sig,df.zenith_sig,range=((0,2),(0,2)),bins=100);"
   ]
  },
  {
   "cell_type": "code",
   "execution_count": 4,
   "metadata": {},
   "outputs": [],
   "source": [
    "sets = pd.read_pickle(r'C:\\Users\\jv97\\Desktop\\github\\Neutrino-Machine-Learning\\raw_data\\rasmus_classification_muon_1500k_sets.pkl')\n",
    "# sets = pd.read_pickle(r'C:\\Users\\jv97\\Desktop\\github\\Neutrino-Machine-Learning\\raw_data\\dev_lvl7_mu_nu_e_classification_v003_unscaled_sets.pkl')\n",
    "\n",
    "dataset = fc.custom_db_dataset(filepath = r'C:\\Users\\jv97\\Desktop\\github\\Neutrino-Machine-Learning\\raw_data',\n",
    "                               filename = 'rasmus_classification_muon_1500k.db',\n",
    "#                                filename = 'dev_lvl7_mu_nu_e_classification_v003_unscaled.db',\n",
    "                               features = 'charge_log10',\n",
    "                               targets = 'event_no, azimuth, zenith',\n",
    "                               TrTV = (0.5,0.75,1),\n",
    "                               event_nos = np.array(sets['test']),\n",
    "#                                event_nos = sets['test'].to_numpy().reshape(-1),\n",
    "#                                x_transform = x_transform,\n",
    "#                                y_transform = y_transform,\n",
    "#                                batch_transform = batch_transform,\n",
    "#                                Data_constructor = Data_constructor,\n",
    "                               shuffle = False,\n",
    "                               SRT_clean = False,\n",
    "                              #  reweighter = ze_reweighter\n",
    "                               )"
   ]
  },
  {
   "cell_type": "code",
   "execution_count": 17,
   "metadata": {},
   "outputs": [
    {
     "data": {
      "text/plain": [
       "(array([472]),\n",
       " tensor([[1.3867e+08, 1.1083e-01, 4.3540e-02]], dtype=torch.float64))"
      ]
     },
     "execution_count": 17,
     "metadata": {},
     "output_type": "execute_result"
    }
   ],
   "source": [
    "np.arange(int(1.5e5))[np.array(sets['test']) == 138674889], dataset[472].y"
   ]
  },
  {
   "cell_type": "code",
   "execution_count": 18,
   "metadata": {},
   "outputs": [
    {
     "name": "stdout",
     "output_type": "stream",
     "text": [
      "      event_no   azimuth    zenith\n",
      "0  138674889.0  3.525079  1.043548\n"
     ]
    },
    {
     "data": {
      "text/plain": [
       "array([3.52507872])"
      ]
     },
     "execution_count": 18,
     "metadata": {},
     "output_type": "execute_result"
    }
   ],
   "source": [
    "tmp = pd.DataFrame(dataset[472].y.view(1,3).numpy(),columns=['event_no','azimuth','zenith'])\n",
    "y_centers = pd.DataFrame({'energy_log10': [2.28962877],\n",
    "                          'azimuth': [3.17179598],\n",
    "                          'zenith': [0.99478726],\n",
    "                          'direction_x': [-0.0090638],\n",
    "                          'direction_y': [0.00708907],\n",
    "                          'direction_z': [-0.54468131],\n",
    "                          'event_no': [0]})\n",
    "y_scalers = pd.DataFrame({'energy_log10': [1.03477065],\n",
    "                          'azimuth': [3.18754927],\n",
    "                          'zenith': [1.11991644],\n",
    "                          'direction_x': [0.80913804],\n",
    "                          'direction_y': [0.81531021],\n",
    "                          'direction_z': [0.96191438],\n",
    "                          'event_no': [1]})\n",
    "\n",
    "y_centers = y_centers[['event_no','azimuth','zenith']].values\n",
    "y_scalers = y_scalers[['event_no','azimuth','zenith']].values\n",
    "\n",
    "# def y_transform(df):\n",
    "#     df = df*y_scalers + y_centers\n",
    "#     return df\n",
    "\n",
    "def y_transform(df):\n",
    "    import torch\n",
    "    df = df*y_scalers + y_centers\n",
    "    print(df)\n",
    "\n",
    "#     E = torch.tensor(df.energy_log10).unsqueeze(1)\n",
    "    cos_az = torch.cos(torch.tensor(df.azimuth)).unsqueeze(1)\n",
    "    sin_az = torch.sin(torch.tensor(df.azimuth)).unsqueeze(1)\n",
    "    cos_ze = torch.cos(torch.tensor(df.zenith)).unsqueeze(1)\n",
    "    sin_ze = torch.sin(torch.tensor(df.zenith)).unsqueeze(1)\n",
    "    return torch.cat([cos_az*sin_ze, sin_az*sin_ze, cos_ze],dim=1)\n",
    "\n",
    "r = y_transform(tmp)\n",
    "\n",
    "def vec_to_solid(pred,truth):\n",
    "    return np.arccos((pred*truth).sum(1)/np.linalg.norm(pred,axis=1))\n",
    "\n",
    "def vec_to_az(pred):\n",
    "    return np.arctan2(pred[:,1],pred[:,0])\n",
    "\n",
    "def vec_to_ze(pred):\n",
    "    return np.arccos(pred[:,2]/np.linalg.norm(pred,axis=1))\n",
    "\n",
    "vec_to_az(r.numpy())%(2*np.pi)"
   ]
  },
  {
   "cell_type": "code",
   "execution_count": 20,
   "metadata": {},
   "outputs": [
    {
     "name": "stdout",
     "output_type": "stream",
     "text": [
      "energy_log10 [2.28962877] [1.03477065]\n",
      "time [9081.03008878] [1936.88668241]\n",
      "direction_x [-0.0090638] [0.80913804]\n",
      "direction_y [0.00708907] [0.81531021]\n",
      "direction_z [-0.54468131] [0.96191438]\n",
      "position_x [39.97712018] [232.3541022]\n",
      "position_y [-36.69148366] [215.38276592]\n",
      "position_z [-185.19041083] [1170.30016033]\n",
      "azimuth [3.17179598] [3.18754927]\n",
      "zenith [0.99478726] [1.11991644]\n"
     ]
    }
   ],
   "source": [
    "tf = pd.read_pickle(r'C:\\Users\\jv97\\Desktop\\github\\Neutrino-Machine-Learning\\datasets\\transformers.pkl')\n",
    "for key in tf['truth']:\n",
    "    print(key, tf['truth'][key].center_, tf['truth'][key].scale_)"
   ]
  },
  {
   "cell_type": "markdown",
   "metadata": {},
   "source": [
    "$$ \\Omega = arccos( \\frac{p \\cdot t}{|p|}) $$\n",
    "\n",
    "$$ \\phi = arctan( \\frac{p_y}{p_x} ) $$\n",
    "\n",
    "$$ \\theta = arccos( \\frac{p_z}{|p|} ) $$"
   ]
  },
  {
   "cell_type": "code",
   "execution_count": 3,
   "metadata": {},
   "outputs": [],
   "source": [
    "x = sympy.symbols('x')\n",
    "y = sympy.symbols('y')\n",
    "z = sympy.symbols('z')\n",
    "\n",
    "sx = sympy.symbols('\\sigma_x')\n",
    "sy = sympy.symbols('\\sigma_y')\n",
    "sz = sympy.symbols('\\sigma_z')\n",
    "\n",
    "t_x = sympy.symbols('t_x')\n",
    "t_y = sympy.symbols('t_y')\n",
    "t_z = sympy.symbols('t_z')\n",
    "\n",
    "p = sympy.sqrt(x**2 + y**2 + z**2)"
   ]
  },
  {
   "cell_type": "code",
   "execution_count": 4,
   "metadata": {},
   "outputs": [],
   "source": [
    "omega = sympy.acos((x*t_x+y*t_y+z*t_z)/p)\n",
    "phi = sympy.atan2(y,x)\n",
    "theta = sympy.acos(z/p)"
   ]
  },
  {
   "cell_type": "code",
   "execution_count": 5,
   "metadata": {},
   "outputs": [],
   "source": [
    "def error_prop(expr):\n",
    "    from sympy import sqrt, diff\n",
    "    return sqrt((diff(expr,x)*sx)**2 + (diff(expr,y)*sy)**2 + (diff(expr,z)*sz)**2)\n",
    "\n",
    "s_omega = error_prop(omega).simplify()\n",
    "s_phi = error_prop(phi).simplify()\n",
    "s_theta = error_prop(theta).simplify()"
   ]
  },
  {
   "cell_type": "code",
   "execution_count": 6,
   "metadata": {},
   "outputs": [
    {
     "data": {
      "text/latex": [
       "$\\displaystyle \\sqrt{\\frac{\\sigma_z^{2} \\left(x^{2} + y^{2}\\right)^{2} + z^{2} \\left(\\sigma_x^{2} x^{2} + \\sigma_y^{2} y^{2}\\right)}{\\left(x^{2} + y^{2}\\right) \\left(x^{2} + y^{2} + z^{2}\\right)^{2}}}$"
      ],
      "text/plain": [
       "sqrt((\\sigma_z**2*(x**2 + y**2)**2 + z**2*(\\sigma_x**2*x**2 + \\sigma_y**2*y**2))/((x**2 + y**2)*(x**2 + y**2 + z**2)**2))"
      ]
     },
     "execution_count": 6,
     "metadata": {},
     "output_type": "execute_result"
    }
   ],
   "source": [
    "s_theta"
   ]
  },
  {
   "cell_type": "code",
   "execution_count": 7,
   "metadata": {},
   "outputs": [],
   "source": [
    "func_omega = sympy.lambdify([x,y,z,t_x,t_y,t_z,sx,sy,sz],s_omega)\n",
    "func_phi = sympy.lambdify([x,y,sx,sy],s_phi)\n",
    "func_theta = sympy.lambdify([x,y,z,sx,sy,sz],s_theta)"
   ]
  },
  {
   "cell_type": "code",
   "execution_count": 8,
   "metadata": {},
   "outputs": [],
   "source": [
    "solid_angle_sig = func_omega(df.x_pred,df.y_pred,df.z_pred,df.x,df.y,df.z,df.x_sig,df.y_sig,df.z_sig)\n",
    "azimuth_sig = func_phi(df.x_pred,df.y_pred,df.x_sig,df.y_sig)\n",
    "zenith_sig = func_theta(df.x_pred,df.y_pred,df.z_pred,df.x_sig,df.y_sig,df.z_sig)"
   ]
  },
  {
   "cell_type": "code",
   "execution_count": 9,
   "metadata": {},
   "outputs": [
    {
     "data": {
      "image/png": "[encoded data removed]",
      "text/plain": [
       "<Figure size 432x288 with 1 Axes>"
      ]
     },
     "metadata": {
      "needs_background": "light"
     },
     "output_type": "display_data"
    },
    {
     "data": {
      "image/png": "[encoded data removed]",
      "text/plain": [
       "<Figure size 432x288 with 1 Axes>"
      ]
     },
     "metadata": {
      "needs_background": "light"
     },
     "output_type": "display_data"
    },
    {
     "data": {
      "image/png": "[encoded data removed]",
      "text/plain": [
       "<Figure size 432x288 with 1 Axes>"
      ]
     },
     "metadata": {
      "needs_background": "light"
     },
     "output_type": "display_data"
    }
   ],
   "source": [
    "fig, ax = plt.subplots()\n",
    "ax.hist((df.zenith_pred-df.zenith)/zenith_sig,bins=100);\n",
    "\n",
    "fig, ax = plt.subplots()\n",
    "ax.hist((df.azimuth_pred-df.azimuth)/azimuth_sig,bins=100,range=(-10,10));\n",
    "\n",
    "fig, ax = plt.subplots()\n",
    "ax.hist((df.solid_angle)/solid_angle_sig,bins=100,range=(0,10));"
   ]
  },
  {
   "cell_type": "code",
   "execution_count": 10,
   "metadata": {},
   "outputs": [
    {
     "data": {
      "image/png": "[encoded data removed]",
      "text/plain": [
       "<Figure size 432x288 with 1 Axes>"
      ]
     },
     "metadata": {
      "needs_background": "light"
     },
     "output_type": "display_data"
    }
   ],
   "source": [
    "fig, ax = plt.subplots()\n",
    "ax.hist2d(df.solid_angle*180/np.pi,solid_angle_sig*180/np.pi,bins=100,range=((0,50),(0,50)));"
   ]
  },
  {
   "cell_type": "code",
   "execution_count": 11,
   "metadata": {},
   "outputs": [],
   "source": [
    "df['solid_angle_sig'] = solid_angle_sig\n",
    "df['azimuth_sig'] = azimuth_sig\n",
    "df['zenith_sig'] = zenith_sig\n"
   ]
  },
  {
   "cell_type": "code",
   "execution_count": 14,
   "metadata": {},
   "outputs": [
    {
     "name": "stdout",
     "output_type": "stream",
     "text": [
      "REMEMBER TO CHANGE FILENAME\n"
     ]
    }
   ],
   "source": [
    "print(\"REMEMBER TO CHANGE FILENAME\")\n",
    "# df.to_csv(r\"C:\\Users\\jv97\\Desktop\\github\\Neutrino-Machine-Learning\\predictions\\Muon_EAngle_m27_3dj6_test_predictions.csv\")"
   ]
  }
 ],
 "metadata": {
  "kernelspec": {
   "display_name": "Python 3",
   "language": "python",
   "name": "python3"
  },
  "language_info": {
   "codemirror_mode": {
    "name": "ipython",
    "version": 3
   },
   "file_extension": ".py",
   "mimetype": "text/x-python",
   "name": "python",
   "nbconvert_exporter": "python",
   "pygments_lexer": "ipython3",
   "version": "3.7.6"
  }
 },
 "nbformat": 4,
 "nbformat_minor": 4
}
