{
 "cells": [
  {
   "cell_type": "code",
   "execution_count": 140,
   "metadata": {},
   "outputs": [],
   "source": [
    "import matplotlib.pyplot as plt\n",
    "import numpy as np\n",
    "import pandas as pd\n",
    "import importlib\n",
    "import shap\n",
    "import time\n",
    "import seaborn\n",
    "\n",
    "import sys\n",
    "sys.path.insert(1, r'C:\\Users\\jv97\\Desktop\\github\\Neutrino-Machine-Learning')\n",
    "\n",
    "import FunctionCollection as fc\n",
    "fc = importlib.reload(fc)\n",
    "import os\n",
    "import sqlite3\n",
    "import torch\n",
    "import captum.attr as c\n",
    "from tqdm import tqdm"
   ]
  },
  {
   "cell_type": "code",
   "execution_count": 2,
   "metadata": {},
   "outputs": [],
   "source": [
    "path = r'C:\\Users\\jv97\\Desktop\\github\\Neutrino-Machine-Learning'\n",
    "\n",
    "run_name = 'OscNext_Angle_m27'\n",
    "\n",
    "args = {'N_edge_feats': 6,\n",
    "        'N_dom_feats': 7,\n",
    "        'N_targets': 2,\n",
    "        'N_outputs': 3,\n",
    "        'N_metalayers': 2,\n",
    "        'N_hcs': 64,\n",
    "        'diagonal_cov': True,\n",
    "        'wandb_activated': False,\n",
    "        'type': 'Spherical_NLLH',\n",
    "        'zenith': True,\n",
    "        'id': '23ge',#wandb.util.generate_id()[:4],\n",
    "        'eps': 1e-5,\n",
    "        'output_offset': [3.14,1.57],\n",
    "        'lr': 0.0209,\n",
    "        'filename': 'dev_lvl7_mu_nu_e_classification_v003_unscaled.db',#dev_level7_mu_e_tau_oscweight_000.db #rasmus_classification_muon_3neutrino_3mio.db #dev_level7_oscNext_IC86_003.db\n",
    "        'features': 'width, rqe, charge_log10, dom_time, dom_x, dom_y, dom_z',\n",
    "        'targets': 'azimuth, zenith, energy_log10',\n",
    "        'TrTV': (0,1,1)\n",
    "       }"
   ]
  },
  {
   "cell_type": "code",
   "execution_count": 3,
   "metadata": {},
   "outputs": [],
   "source": [
    "filepath = os.path.join(path,'raw_data')\n",
    "\n",
    "centers = pd.DataFrame({'charge_log10': [-0.033858],\n",
    "                        'dom_time': [10700.0],\n",
    "                        'dom_x': [0],\n",
    "                        'dom_y': [0],\n",
    "                        'dom_z': [0],\n",
    "                        'width': [4.5],\n",
    "                        'rqe': [1.175]})\n",
    "scalers = pd.DataFrame({'charge_log10': [0.274158],\n",
    "                        'dom_time': [2699.0],\n",
    "                        'dom_x': [300],\n",
    "                        'dom_y': [300],\n",
    "                        'dom_z': [300],\n",
    "                        'width': [3.5],\n",
    "                        'rqe': [0.175]})\n",
    "\n",
    "centers = centers[args['features'].split(', ')].values\n",
    "scalers = scalers[args['features'].split(', ')].values\n",
    "\n",
    "def x_transform(df):\n",
    "    df = (df - centers)/scalers\n",
    "    return torch.tensor(df.values)\n",
    "\n",
    "def y_transform(df):\n",
    "    return torch.tensor(df.values)\n",
    "\n",
    "dataset = fc.custom_db_dataset(filepath = filepath,\n",
    "                               filename = args['filename'],\n",
    "                               features = args['features'],\n",
    "                               targets = args['targets'],\n",
    "                               TrTV = args['TrTV'],\n",
    "                               x_transform = x_transform,\n",
    "                               y_transform = y_transform,\n",
    "                               shuffle = False)"
   ]
  },
  {
   "cell_type": "code",
   "execution_count": 45,
   "metadata": {},
   "outputs": [
    {
     "name": "stdout",
     "output_type": "stream",
     "text": [
      "if features = x, Charge should be at x[:,-5], time at x[:,-4] and pos at x[:,-3:]\n",
      "Remember all accuracies are positive and defined to go towards 0 in the optimal case.\n"
     ]
    }
   ],
   "source": [
    "device = torch.device('cuda')\n",
    "\n",
    "import Model_Loaders.Model_27 as M\n",
    "M = importlib.reload(M)\n",
    "\n",
    "Net = M.Load_model(args['type'],args)\n",
    "model = Net.load_from_checkpoint(path + '/checkpoints/' + run_name + '_' + args['id'] + '/' + run_name + '_latest.ckpt')\n",
    "model.eval();\n",
    "model.to(device);"
   ]
  },
  {
   "cell_type": "code",
   "execution_count": 46,
   "metadata": {},
   "outputs": [],
   "source": [
    "test = dataset[5192].to(device)\n",
    "test2 = dataset[5193].to(device)"
   ]
  },
  {
   "cell_type": "code",
   "execution_count": 37,
   "metadata": {},
   "outputs": [
    {
     "data": {
      "text/plain": [
       "tensor([[ 1.0000,  1.0000,  1.3089, -0.2519,  0.1543, -0.1163, -0.9967],\n",
       "        [ 1.0000,  1.0000,  3.3151,  0.1764,  0.1543, -0.1163, -1.5073],\n",
       "        [ 1.0000, -1.0000,  5.5036, -0.1830,  0.1042, -0.2431, -0.7874],\n",
       "        [ 1.0000,  1.0000,  1.3089,  0.2405,  0.2412, -0.2220, -1.1869],\n",
       "        [ 1.0000,  1.0000,  4.7741, -0.0622,  0.1387,  0.1183, -0.6899],\n",
       "        [-1.0000,  1.0000,  3.3151, -0.2386,  0.1387,  0.1183, -0.7833],\n",
       "        [-1.0000,  1.0000,  3.3151, -0.2727,  0.1387,  0.1183, -0.8300],\n",
       "        [-1.0000,  1.0000,  1.1266, -0.3053,  0.1387,  0.1183, -0.9001],\n",
       "        [-1.0000,  1.0000,  2.9503, -0.2579,  0.1387,  0.1183, -0.9468],\n",
       "        [ 1.0000,  1.0000,  4.5917, -0.1578,  0.1387,  0.1183, -1.1337],\n",
       "        [ 1.0000,  1.0000,  4.4093, -0.1782,  0.1387,  0.1183, -1.2739],\n",
       "        [ 1.0000,  1.0000,  6.4155, -0.2712,  0.3565,  0.0903, -0.8629],\n",
       "        [ 1.0000,  1.0000,  2.0385, -0.2842,  0.3565,  0.0903, -0.9330],\n",
       "        [ 1.0000,  1.0000,  3.8622, -0.2801,  0.3565,  0.0903, -1.0498]],\n",
       "       dtype=torch.float64)"
      ]
     },
     "execution_count": 37,
     "metadata": {},
     "output_type": "execute_result"
    }
   ],
   "source": [
    "tuple(item.x for item in sample)[0]"
   ]
  },
  {
   "cell_type": "code",
   "execution_count": 82,
   "metadata": {},
   "outputs": [
    {
     "data": {
      "text/plain": [
       "False"
      ]
     },
     "execution_count": 82,
     "metadata": {},
     "output_type": "execute_result"
    }
   ],
   "source": [
    "tmp[0].x.requires_grad"
   ]
  },
  {
   "cell_type": "code",
   "execution_count": 172,
   "metadata": {
    "scrolled": true
   },
   "outputs": [
    {
     "name": "stderr",
     "output_type": "stream",
     "text": [
      "100%|████████████████████████████████████████████| 3/3 [00:00<00:00, 12.13it/s]\n"
     ]
    }
   ],
   "source": [
    "explainer = c.Saliency(model)\n",
    "def create_sample(N,batch_size=3,N_features=args['N_dom_feats'],N_targets=args['N_outputs']):\n",
    "    event_ids = np.random.choice(dataset.__len__(),N).tolist()\n",
    "    loader = torch.utils.data.DataLoader(dataset[event_ids],\n",
    "                                         batch_size=batch_size,\n",
    "                                         collate_fn = lambda x: tuple(item.x.to(device) for item in x))\n",
    "    \n",
    "#     results = torch.zeros((N,N_features,N_targets))\n",
    "    results = []\n",
    "    for sample in tqdm(loader):\n",
    "        tmp = [torch.cat([item for item in sample],0).unsqueeze(1)]\n",
    "        for i in range(N_targets):\n",
    "            att = explainer.attribute(sample,i)\n",
    "#             tmp.append(torch.cat([item.sum(0).unsqueeze(0) for item in att],0).unsqueeze(1))\n",
    "            tmp.append(torch.cat([item for item in att],0).unsqueeze(1))\n",
    "        results.append(torch.cat(tmp,1))\n",
    "    return torch.cat(results,dim=0)\n",
    "\n",
    "sample = create_sample(7)\n",
    "# explainer.attribute(tuple(item.x.to(device) for item in sample),0)"
   ]
  },
  {
   "cell_type": "code",
   "execution_count": 183,
   "metadata": {},
   "outputs": [
    {
     "data": {
      "text/plain": [
       "torch.Size([7])"
      ]
     },
     "execution_count": 183,
     "metadata": {},
     "output_type": "execute_result"
    }
   ],
   "source": [
    "(sample[:,2]/sample[:,0]).mean(0).shape"
   ]
  },
  {
   "cell_type": "code",
   "execution_count": 189,
   "metadata": {},
   "outputs": [
    {
     "data": {
      "text/plain": [
       "<matplotlib.axes._subplots.AxesSubplot at 0x2530be89c48>"
      ]
     },
     "execution_count": 189,
     "metadata": {},
     "output_type": "execute_result"
    },
    {
     "data": {
      "image/png": "[encoded data removed]",
      "text/plain": [
       "<Figure size 432x288 with 1 Axes>"
      ]
     },
     "metadata": {
      "needs_background": "light"
     },
     "output_type": "display_data"
    }
   ],
   "source": [
    "sample.shape\n",
    "df_sample = pd.DataFrame((sample[:,1]/sample[:,0]).cpu().numpy(),columns=args['features'].split(', '))\n",
    "plt.figure()\n",
    "df_sample.abs().mean(0).plot.bar()"
   ]
  },
  {
   "cell_type": "code",
   "execution_count": 174,
   "metadata": {},
   "outputs": [
    {
     "data": {
      "text/plain": [
       "tensor([-0.1338, -0.1510,  1.4428,  0.0046,  0.0438,  0.0125, -0.2190],\n",
       "       device='cuda:0', dtype=torch.float64)"
      ]
     },
     "execution_count": 174,
     "metadata": {},
     "output_type": "execute_result"
    }
   ],
   "source": [
    "i = 0\n",
    "(sample[:,i]/sample[:,i].sum(1).unsqueeze(1)).mean(0)"
   ]
  },
  {
   "cell_type": "code",
   "execution_count": 159,
   "metadata": {
    "scrolled": false
   },
   "outputs": [
    {
     "data": {
      "text/plain": [
       "<matplotlib.axes._subplots.AxesSubplot at 0x25325a718c8>"
      ]
     },
     "execution_count": 159,
     "metadata": {},
     "output_type": "execute_result"
    },
    {
     "data": {
      "image/png": "[encoded data removed]",
      "text/plain": [
       "<Figure size 432x288 with 2 Axes>"
      ]
     },
     "metadata": {
      "needs_background": "light"
     },
     "output_type": "display_data"
    },
    {
     "data": {
      "image/png": "[encoded data removed]",
      "text/plain": [
       "<Figure size 432x288 with 1 Axes>"
      ]
     },
     "metadata": {
      "needs_background": "light"
     },
     "output_type": "display_data"
    }
   ],
   "source": [
    "df = pd.DataFrame(sample[:,0].cpu().numpy(),columns=args['features'].split(', '))\n",
    "\n",
    "seaborn.heatmap(df.corr(),annot=True)\n",
    "\n",
    "plt.figure()\n",
    "df.sum(0).plot.bar()\n",
    "\n",
    "# fig, ax = plt.subplots()\n",
    "# im = ax.matshow(df.corr())\n",
    "# fig.colorbar(im)"
   ]
  },
  {
   "cell_type": "code",
   "execution_count": 105,
   "metadata": {},
   "outputs": [
    {
     "data": {
      "text/plain": [
       "torch.Size([2, 1, 1])"
      ]
     },
     "execution_count": 105,
     "metadata": {},
     "output_type": "execute_result"
    }
   ],
   "source": [
    "torch.zeros((2,1)).unsqueeze(1).shape"
   ]
  },
  {
   "cell_type": "code",
   "execution_count": null,
   "metadata": {},
   "outputs": [],
   "source": []
  }
 ],
 "metadata": {
  "kernelspec": {
   "display_name": "Python 3",
   "language": "python",
   "name": "python3"
  },
  "language_info": {
   "codemirror_mode": {
    "name": "ipython",
    "version": 3
   },
   "file_extension": ".py",
   "mimetype": "text/x-python",
   "name": "python",
   "nbconvert_exporter": "python",
   "pygments_lexer": "ipython3",
   "version": "3.7.6"
  }
 },
 "nbformat": 4,
 "nbformat_minor": 4
}
